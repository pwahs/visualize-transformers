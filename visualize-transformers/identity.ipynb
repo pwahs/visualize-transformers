{
  "cells": [
    {
      "cell_type": "markdown",
      "metadata": {},
      "source": [
        "# Interpreting Identity"
      ]
    },
    {
      "cell_type": "markdown",
      "metadata": {
        "id": "WBvIU6zdIZpa"
      },
      "source": [
        "# Setup\n",
        "(No need to read)"
      ]
    },
    {
      "cell_type": "code",
      "execution_count": 2,
      "metadata": {
        "id": "ssx2pnTOIZpa"
      },
      "outputs": [],
      "source": [
        "TRAIN_MODEL = True"
      ]
    },
    {
      "cell_type": "code",
      "execution_count": 3,
      "metadata": {
        "id": "7Jfz-lAWIZpb",
        "outputId": "48df1c71-5bc3-4a14-9a34-1af5c16786a4"
      },
      "outputs": [
        {
          "name": "stdout",
          "output_type": "stream",
          "text": [
            "Running as a Jupyter notebook - intended for development only!\n"
          ]
        },
        {
          "name": "stderr",
          "output_type": "stream",
          "text": [
            "/tmp/ipykernel_71479/1878011034.py:22: DeprecationWarning: `magic(...)` is deprecated since IPython 0.13 (warning added in 8.1), use run_line_magic(magic_name, parameter_s).\n",
            "  ipython.magic(\"load_ext autoreload\")\n",
            "/tmp/ipykernel_71479/1878011034.py:23: DeprecationWarning: `magic(...)` is deprecated since IPython 0.13 (warning added in 8.1), use run_line_magic(magic_name, parameter_s).\n",
            "  ipython.magic(\"autoreload 2\")\n",
            "/tmp/ipykernel_71479/1878011034.py:24: DeprecationWarning: `magic(...)` is deprecated since IPython 0.13 (warning added in 8.1), use run_line_magic(magic_name, parameter_s).\n",
            "  ipython.magic(\"pip install ipympl\")\n"
          ]
        },
        {
          "name": "stdout",
          "output_type": "stream",
          "text": [
            "Requirement already satisfied: ipympl in /home/philippw/Stuff/programming/mechint/getting_started/.venv/lib/python3.10/site-packages (0.9.4)\n",
            "Requirement already satisfied: ipython-genutils in /home/philippw/Stuff/programming/mechint/getting_started/.venv/lib/python3.10/site-packages (from ipympl) (0.2.0)\n",
            "Requirement already satisfied: ipython<9 in /home/philippw/Stuff/programming/mechint/getting_started/.venv/lib/python3.10/site-packages (from ipympl) (8.22.1)\n",
            "Requirement already satisfied: ipywidgets<9,>=7.6.0 in /home/philippw/Stuff/programming/mechint/getting_started/.venv/lib/python3.10/site-packages (from ipympl) (8.1.5)\n",
            "Requirement already satisfied: matplotlib<4,>=3.4.0 in /home/philippw/Stuff/programming/mechint/getting_started/.venv/lib/python3.10/site-packages (from ipympl) (3.8.3)\n",
            "Requirement already satisfied: numpy in /home/philippw/Stuff/programming/mechint/getting_started/.venv/lib/python3.10/site-packages (from ipympl) (1.26.4)\n",
            "Requirement already satisfied: pillow in /home/philippw/Stuff/programming/mechint/getting_started/.venv/lib/python3.10/site-packages (from ipympl) (10.2.0)\n",
            "Requirement already satisfied: traitlets<6 in /home/philippw/Stuff/programming/mechint/getting_started/.venv/lib/python3.10/site-packages (from ipympl) (5.14.1)\n",
            "Requirement already satisfied: decorator in /home/philippw/Stuff/programming/mechint/getting_started/.venv/lib/python3.10/site-packages (from ipython<9->ipympl) (5.1.1)\n",
            "Requirement already satisfied: jedi>=0.16 in /home/philippw/Stuff/programming/mechint/getting_started/.venv/lib/python3.10/site-packages (from ipython<9->ipympl) (0.19.1)\n",
            "Requirement already satisfied: matplotlib-inline in /home/philippw/Stuff/programming/mechint/getting_started/.venv/lib/python3.10/site-packages (from ipython<9->ipympl) (0.1.6)\n",
            "Requirement already satisfied: prompt-toolkit<3.1.0,>=3.0.41 in /home/philippw/Stuff/programming/mechint/getting_started/.venv/lib/python3.10/site-packages (from ipython<9->ipympl) (3.0.43)\n",
            "Requirement already satisfied: pygments>=2.4.0 in /home/philippw/Stuff/programming/mechint/getting_started/.venv/lib/python3.10/site-packages (from ipython<9->ipympl) (2.17.2)\n",
            "Requirement already satisfied: stack-data in /home/philippw/Stuff/programming/mechint/getting_started/.venv/lib/python3.10/site-packages (from ipython<9->ipympl) (0.6.3)\n",
            "Requirement already satisfied: exceptiongroup in /home/philippw/Stuff/programming/mechint/getting_started/.venv/lib/python3.10/site-packages (from ipython<9->ipympl) (1.2.0)\n",
            "Requirement already satisfied: pexpect>4.3 in /home/philippw/Stuff/programming/mechint/getting_started/.venv/lib/python3.10/site-packages (from ipython<9->ipympl) (4.9.0)\n",
            "Requirement already satisfied: comm>=0.1.3 in /home/philippw/Stuff/programming/mechint/getting_started/.venv/lib/python3.10/site-packages (from ipywidgets<9,>=7.6.0->ipympl) (0.2.1)\n",
            "Requirement already satisfied: widgetsnbextension~=4.0.12 in /home/philippw/Stuff/programming/mechint/getting_started/.venv/lib/python3.10/site-packages (from ipywidgets<9,>=7.6.0->ipympl) (4.0.13)\n",
            "Requirement already satisfied: jupyterlab-widgets~=3.0.12 in /home/philippw/Stuff/programming/mechint/getting_started/.venv/lib/python3.10/site-packages (from ipywidgets<9,>=7.6.0->ipympl) (3.0.13)\n",
            "Requirement already satisfied: contourpy>=1.0.1 in /home/philippw/Stuff/programming/mechint/getting_started/.venv/lib/python3.10/site-packages (from matplotlib<4,>=3.4.0->ipympl) (1.2.0)\n",
            "Requirement already satisfied: cycler>=0.10 in /home/philippw/Stuff/programming/mechint/getting_started/.venv/lib/python3.10/site-packages (from matplotlib<4,>=3.4.0->ipympl) (0.12.1)\n",
            "Requirement already satisfied: fonttools>=4.22.0 in /home/philippw/Stuff/programming/mechint/getting_started/.venv/lib/python3.10/site-packages (from matplotlib<4,>=3.4.0->ipympl) (4.50.0)\n",
            "Requirement already satisfied: kiwisolver>=1.3.1 in /home/philippw/Stuff/programming/mechint/getting_started/.venv/lib/python3.10/site-packages (from matplotlib<4,>=3.4.0->ipympl) (1.4.5)\n",
            "Requirement already satisfied: packaging>=20.0 in /home/philippw/Stuff/programming/mechint/getting_started/.venv/lib/python3.10/site-packages (from matplotlib<4,>=3.4.0->ipympl) (23.2)\n",
            "Requirement already satisfied: pyparsing>=2.3.1 in /home/philippw/Stuff/programming/mechint/getting_started/.venv/lib/python3.10/site-packages (from matplotlib<4,>=3.4.0->ipympl) (3.1.2)\n",
            "Requirement already satisfied: python-dateutil>=2.7 in /home/philippw/Stuff/programming/mechint/getting_started/.venv/lib/python3.10/site-packages (from matplotlib<4,>=3.4.0->ipympl) (2.8.2)\n",
            "Requirement already satisfied: parso<0.9.0,>=0.8.3 in /home/philippw/Stuff/programming/mechint/getting_started/.venv/lib/python3.10/site-packages (from jedi>=0.16->ipython<9->ipympl) (0.8.3)\n",
            "Requirement already satisfied: ptyprocess>=0.5 in /home/philippw/Stuff/programming/mechint/getting_started/.venv/lib/python3.10/site-packages (from pexpect>4.3->ipython<9->ipympl) (0.7.0)\n",
            "Requirement already satisfied: wcwidth in /home/philippw/Stuff/programming/mechint/getting_started/.venv/lib/python3.10/site-packages (from prompt-toolkit<3.1.0,>=3.0.41->ipython<9->ipympl) (0.2.13)\n",
            "Requirement already satisfied: six>=1.5 in /home/philippw/Stuff/programming/mechint/getting_started/.venv/lib/python3.10/site-packages (from python-dateutil>=2.7->matplotlib<4,>=3.4.0->ipympl) (1.16.0)\n",
            "Requirement already satisfied: executing>=1.2.0 in /home/philippw/Stuff/programming/mechint/getting_started/.venv/lib/python3.10/site-packages (from stack-data->ipython<9->ipympl) (2.0.1)\n",
            "Requirement already satisfied: asttokens>=2.1.0 in /home/philippw/Stuff/programming/mechint/getting_started/.venv/lib/python3.10/site-packages (from stack-data->ipython<9->ipympl) (2.4.1)\n",
            "Requirement already satisfied: pure-eval in /home/philippw/Stuff/programming/mechint/getting_started/.venv/lib/python3.10/site-packages (from stack-data->ipython<9->ipympl) (0.2.2)\n",
            "Note: you may need to restart the kernel to use updated packages.\n"
          ]
        },
        {
          "name": "stderr",
          "output_type": "stream",
          "text": [
            "/tmp/ipykernel_71479/1878011034.py:25: DeprecationWarning: `magic(...)` is deprecated since IPython 0.13 (warning added in 8.1), use run_line_magic(magic_name, parameter_s).\n",
            "  ipython.magic(\"pip install scipy\")\n"
          ]
        },
        {
          "name": "stdout",
          "output_type": "stream",
          "text": [
            "Requirement already satisfied: scipy in /home/philippw/Stuff/programming/mechint/getting_started/.venv/lib/python3.10/site-packages (1.14.1)\n",
            "Requirement already satisfied: numpy<2.3,>=1.23.5 in /home/philippw/Stuff/programming/mechint/getting_started/.venv/lib/python3.10/site-packages (from scipy) (1.26.4)\n",
            "Note: you may need to restart the kernel to use updated packages.\n"
          ]
        }
      ],
      "source": [
        "# Janky code to do different setup when run in a Colab notebook vs VSCode\n",
        "import os\n",
        "\n",
        "DEVELOPMENT_MODE = True\n",
        "IN_GITHUB = os.getenv(\"GITHUB_ACTIONS\") == \"true\"\n",
        "try:\n",
        "    import google.colab\n",
        "    IN_COLAB = True\n",
        "    print(\"Running as a Colab notebook\")\n",
        "\n",
        "    # PySvelte is an unmaintained visualization library, use it as a backup if circuitsvis isn't working\n",
        "    # # Install another version of node that makes PySvelte work way faster\n",
        "    # !curl -fsSL https://deb.nodesource.com/setup_16.x | sudo -E bash -; sudo apt-get install -y nodejs\n",
        "    # %pip install git+https://github.com/neelnanda-io/PySvelte.git\n",
        "except:\n",
        "    IN_COLAB = False\n",
        "    print(\"Running as a Jupyter notebook - intended for development only!\")\n",
        "    from IPython import get_ipython\n",
        "\n",
        "    ipython = get_ipython()\n",
        "    # Code to automatically update the HookedTransformer code as its edited without restarting the kernel\n",
        "    ipython.magic(\"load_ext autoreload\")\n",
        "    ipython.magic(\"autoreload 2\")\n",
        "    ipython.magic(\"pip install ipympl\")\n",
        "    ipython.magic(\"pip install scipy\")\n",
        "\n",
        "if IN_COLAB or IN_GITHUB:\n",
        "    %pip install transformer_lens\n",
        "    %pip install circuitsvis\n",
        "    %pip install ipympl"
      ]
    },
    {
      "cell_type": "code",
      "execution_count": 4,
      "metadata": {
        "id": "caNlrFAnIZpc",
        "outputId": "b116f2ef-8c45-4d6b-a408-b86670d5b807"
      },
      "outputs": [
        {
          "name": "stdout",
          "output_type": "stream",
          "text": [
            "Using renderer: notebook_connected\n"
          ]
        }
      ],
      "source": [
        "# Plotly needs a different renderer for VSCode/Notebooks vs Colab argh\n",
        "import plotly.io as pio\n",
        "if IN_COLAB or not DEVELOPMENT_MODE:\n",
        "    pio.renderers.default = \"colab\"\n",
        "else:\n",
        "    pio.renderers.default = \"notebook_connected\"\n",
        "print(f\"Using renderer: {pio.renderers.default}\")"
      ]
    },
    {
      "cell_type": "code",
      "execution_count": 5,
      "metadata": {
        "id": "bakRjAcIIZpc"
      },
      "outputs": [],
      "source": [
        "pio.templates['plotly'].layout.xaxis.title.font.size = 20\n",
        "pio.templates['plotly'].layout.yaxis.title.font.size = 20\n",
        "pio.templates['plotly'].layout.title.font.size = 30"
      ]
    },
    {
      "cell_type": "code",
      "execution_count": 6,
      "metadata": {
        "id": "i8GCNEdpIZpc"
      },
      "outputs": [],
      "source": [
        "# Import stuff\n",
        "import torch\n",
        "import torch.nn as nn\n",
        "import torch.nn.functional as F\n",
        "import torch.optim as optim\n",
        "import numpy as np\n",
        "import einops\n",
        "from fancy_einsum import einsum\n",
        "import os\n",
        "import tqdm.auto as tqdm\n",
        "import random\n",
        "from pathlib import Path\n",
        "import plotly.express as px\n",
        "from torch.utils.data import DataLoader\n",
        "\n",
        "from typing import List, Union, Optional\n",
        "from functools import partial\n",
        "import copy\n",
        "\n",
        "import itertools\n",
        "from transformers import AutoModelForCausalLM, AutoConfig, AutoTokenizer\n",
        "import dataclasses\n",
        "import datasets\n",
        "from IPython.display import HTML"
      ]
    },
    {
      "cell_type": "code",
      "execution_count": 7,
      "metadata": {
        "id": "KxZBfCTlIZpd"
      },
      "outputs": [],
      "source": [
        "import transformer_lens\n",
        "import transformer_lens.utils as utils\n",
        "from transformer_lens.hook_points import (\n",
        "    HookedRootModule,\n",
        "    HookPoint,\n",
        ")  # Hooking utilities\n",
        "from transformer_lens import HookedTransformer, HookedTransformerConfig, FactoredMatrix, ActivationCache\n",
        "\n",
        "\n",
        "device = \"cuda\" if torch.cuda.is_available() else \"cpu\""
      ]
    },
    {
      "cell_type": "markdown",
      "metadata": {
        "id": "0iC52U60IZpd"
      },
      "source": [
        "Plotting helper functions:"
      ]
    },
    {
      "cell_type": "code",
      "execution_count": 8,
      "metadata": {
        "id": "hvpC2mPgIZpd"
      },
      "outputs": [],
      "source": [
        "def imshow(tensor, renderer=None, xaxis=\"\", yaxis=\"\", **kwargs):\n",
        "    px.imshow(utils.to_numpy(tensor), color_continuous_midpoint=0.0, color_continuous_scale=\"RdBu\", labels={\"x\":xaxis, \"y\":yaxis}, **kwargs).show(renderer)\n",
        "\n",
        "def line(tensor, renderer=None, xaxis=\"\", yaxis=\"\", **kwargs):\n",
        "    px.line(utils.to_numpy(tensor), labels={\"x\":xaxis, \"y\":yaxis}, **kwargs).show(renderer)\n",
        "\n",
        "def scatter(x, y, xaxis=\"\", yaxis=\"\", caxis=\"\", renderer=None, **kwargs):\n",
        "    x = utils.to_numpy(x)\n",
        "    y = utils.to_numpy(y)\n",
        "    px.scatter(y=y, x=x, labels={\"x\":xaxis, \"y\":yaxis, \"color\":caxis}, **kwargs).show(renderer)"
      ]
    },
    {
      "cell_type": "code",
      "execution_count": 9,
      "metadata": {
        "id": "dFCGZobRIZpe"
      },
      "outputs": [],
      "source": [
        "# Define the location to save the model, using a relative path\n",
        "PTH_LOCATION = \"workspace/_scratch/identity.pth\"\n",
        "\n",
        "# Create the directory if it does not exist\n",
        "os.makedirs(Path(PTH_LOCATION).parent, exist_ok=True)"
      ]
    },
    {
      "cell_type": "markdown",
      "metadata": {
        "id": "7M2Nzu7EIZpe"
      },
      "source": [
        "# Model Training"
      ]
    },
    {
      "cell_type": "markdown",
      "metadata": {
        "id": "vOckI2-GIZpe"
      },
      "source": [
        "## Config"
      ]
    },
    {
      "cell_type": "code",
      "execution_count": 10,
      "metadata": {
        "id": "_2OXlPG-IZpe"
      },
      "outputs": [],
      "source": [
        "p = 3\n",
        "frac_train = 1\n",
        "\n",
        "# Optimizer config\n",
        "lr = 1e-3\n",
        "wd = 1e-2\n",
        "betas = (0.9, 0.999)\n",
        "\n",
        "num_epochs = 10000\n",
        "checkpoint_every = 200\n",
        "\n",
        "DATA_SEED = 598"
      ]
    },
    {
      "cell_type": "markdown",
      "metadata": {
        "id": "kT7xY9WsIZpe"
      },
      "source": [
        "## Define Task\n",
        "* Define modular addition\n",
        "* Define the dataset & labels"
      ]
    },
    {
      "cell_type": "markdown",
      "metadata": {
        "id": "aOJMbA26IZpe"
      },
      "source": [
        "Input format:\n",
        "|a|=|"
      ]
    },
    {
      "cell_type": "code",
      "execution_count": 11,
      "metadata": {
        "id": "HGFlE125IZpe"
      },
      "outputs": [],
      "source": [
        "a_vector = torch.arange(p)\n",
        "equals_vector = einops.repeat(torch.tensor(p), \" -> i\", i=p)\n"
      ]
    },
    {
      "cell_type": "code",
      "execution_count": 12,
      "metadata": {
        "id": "6JOHNIJDIZpe",
        "outputId": "a35e475f-c388-4568-9c29-228adf72fc44"
      },
      "outputs": [
        {
          "name": "stdout",
          "output_type": "stream",
          "text": [
            "tensor([[0, 3],\n",
            "        [1, 3],\n",
            "        [2, 3]], device='cuda:0')\n",
            "torch.Size([3, 2])\n"
          ]
        }
      ],
      "source": [
        "dataset = torch.stack([a_vector, equals_vector], dim=1).to(device)\n",
        "print(dataset)\n",
        "print(dataset.shape)"
      ]
    },
    {
      "cell_type": "code",
      "execution_count": 13,
      "metadata": {
        "id": "cjUu4BTsIZpf",
        "outputId": "b94f7dbb-e7ad-46fa-addb-f904a37c3ab0"
      },
      "outputs": [
        {
          "name": "stdout",
          "output_type": "stream",
          "text": [
            "torch.Size([3])\n",
            "tensor([0, 1, 2], device='cuda:0')\n"
          ]
        }
      ],
      "source": [
        "labels = dataset[:, 0]\n",
        "print(labels.shape)\n",
        "print(labels)"
      ]
    },
    {
      "cell_type": "markdown",
      "metadata": {
        "id": "96Ad6m8BIZpf"
      },
      "source": [
        "Convert this to a train + test set - 30% in the training set"
      ]
    },
    {
      "cell_type": "code",
      "execution_count": 14,
      "metadata": {
        "id": "I8Af2zLZIZpf",
        "outputId": "5075c607-e865-4b8c-90df-d2685d17ebb3"
      },
      "outputs": [
        {
          "name": "stdout",
          "output_type": "stream",
          "text": [
            "tensor([[2, 3],\n",
            "        [0, 3],\n",
            "        [1, 3]], device='cuda:0')\n",
            "tensor([2, 0, 1], device='cuda:0')\n",
            "torch.Size([3, 2])\n",
            "tensor([], device='cuda:0', size=(0, 2), dtype=torch.int64)\n",
            "tensor([], device='cuda:0', dtype=torch.int64)\n",
            "torch.Size([0, 2])\n"
          ]
        }
      ],
      "source": [
        "torch.manual_seed(DATA_SEED)\n",
        "indices = torch.randperm(p)\n",
        "cutoff = int(p*frac_train)\n",
        "train_indices = indices[:cutoff]\n",
        "test_indices = indices[cutoff:]\n",
        "\n",
        "train_data = dataset[train_indices]\n",
        "train_labels = labels[train_indices]\n",
        "test_data = dataset[test_indices]\n",
        "test_labels = labels[test_indices]\n",
        "print(train_data)\n",
        "print(train_labels)\n",
        "print(train_data.shape)\n",
        "print(test_data[:5])\n",
        "print(test_labels[:5])\n",
        "print(test_data.shape)"
      ]
    },
    {
      "cell_type": "markdown",
      "metadata": {
        "id": "_83i1bUkIZpf"
      },
      "source": [
        "## Define Model"
      ]
    },
    {
      "cell_type": "code",
      "execution_count": 15,
      "metadata": {
        "id": "UL7gVZ9WIZpf"
      },
      "outputs": [],
      "source": [
        "cfg = HookedTransformerConfig(\n",
        "    n_layers = 1,\n",
        "    n_heads = 1,\n",
        "    d_model = 2,\n",
        "    d_head = 2,\n",
        "    d_mlp = 0,\n",
        "    act_fn = \"relu\",\n",
        "    normalization_type=None,\n",
        "    d_vocab=p+1,\n",
        "    d_vocab_out=p,\n",
        "    n_ctx=2,\n",
        "    init_weights=True,\n",
        "    device=device,\n",
        "    seed = 998,\n",
        ")\n",
        "model = HookedTransformer(cfg)\n",
        "for name, param in model.named_parameters():\n",
        "    if \"b_\" in name:\n",
        "        param.requires_grad = False"
      ]
    },
    {
      "cell_type": "markdown",
      "metadata": {
        "id": "H61FscDoIZpg"
      },
      "source": [
        "Disable the biases, as we don't need them for this task and it makes things easier to interpret."
      ]
    },
    {
      "cell_type": "markdown",
      "metadata": {
        "id": "lctx1jAtIZpg"
      },
      "source": [
        "## Define Optimizer + Loss"
      ]
    },
    {
      "cell_type": "code",
      "execution_count": 16,
      "metadata": {
        "id": "dJORAU_PIZpg",
        "outputId": "1c2b9f25-056e-4e0d-defc-0bd11586136d"
      },
      "outputs": [
        {
          "name": "stdout",
          "output_type": "stream",
          "text": [
            "tensor(1.3066, device='cuda:0', dtype=torch.float64, grad_fn=<NegBackward0>)\n",
            "tensor(nan, device='cuda:0', dtype=torch.float64, grad_fn=<NegBackward0>)\n",
            "Uniform loss:\n",
            "1.0986122886681098\n"
          ]
        }
      ],
      "source": [
        "optimizer = torch.optim.AdamW(model.parameters(), lr=lr, weight_decay=wd, betas=betas)\n",
        "def loss_fn(logits, labels):\n",
        "    if len(logits.shape)==3:\n",
        "        logits = logits[:, -1]\n",
        "    logits = logits.to(torch.float64)\n",
        "    log_probs = logits.log_softmax(dim=-1)\n",
        "    correct_log_probs = log_probs.gather(dim=-1, index=labels[:, None])[:, 0]\n",
        "    return -correct_log_probs.mean()\n",
        "train_logits = model(train_data)\n",
        "train_loss = loss_fn(train_logits, train_labels)\n",
        "print(train_loss)\n",
        "test_logits = model(test_data)\n",
        "test_loss = loss_fn(test_logits, test_labels)\n",
        "print(test_loss)\n",
        "print(\"Uniform loss:\")\n",
        "print(np.log(p))"
      ]
    },
    {
      "cell_type": "markdown",
      "metadata": {
        "id": "iW9Q4bIcIZpg"
      },
      "source": [
        "## Actually Train"
      ]
    },
    {
      "cell_type": "markdown",
      "metadata": {
        "id": "Uj4h2LIRIZpg"
      },
      "source": [
        "**Weird Decision:** Training the model with full batch training rather than stochastic gradient descent. We do this so to make training smoother and reduce the number of slingshots."
      ]
    },
    {
      "cell_type": "code",
      "execution_count": 17,
      "metadata": {
        "colab": {
          "referenced_widgets": [
            "c477d3a6463646deb7cf1de99bb0199a"
          ]
        },
        "id": "UsZLeCMeIZph",
        "outputId": "133f3502-ca28-490c-c030-f60b751dcd7b"
      },
      "outputs": [
        {
          "data": {
            "application/vnd.jupyter.widget-view+json": {
              "model_id": "a8e7feda68b44975a95bc1056a117629",
              "version_major": 2,
              "version_minor": 0
            },
            "text/plain": [
              "  0%|          | 0/10000 [00:00<?, ?it/s]"
            ]
          },
          "metadata": {},
          "output_type": "display_data"
        },
        {
          "name": "stdout",
          "output_type": "stream",
          "text": [
            "Epoch 199 Train Loss 0.9052673020114971 Test Loss nan\n",
            "Epoch 399 Train Loss 0.525042449619556 Test Loss nan\n",
            "Epoch 599 Train Loss 0.47457566271313845 Test Loss nan\n",
            "Epoch 799 Train Loss 0.4661095110645048 Test Loss nan\n",
            "Epoch 999 Train Loss 0.46072601913450584 Test Loss nan\n",
            "Epoch 1199 Train Loss 0.38150069952592214 Test Loss nan\n",
            "Epoch 1399 Train Loss 0.02621813430405114 Test Loss nan\n",
            "Epoch 1599 Train Loss 0.007260354815771071 Test Loss nan\n",
            "Epoch 1799 Train Loss 0.0037368514591406173 Test Loss nan\n",
            "Epoch 1999 Train Loss 0.002345327898032824 Test Loss nan\n",
            "Epoch 2199 Train Loss 0.0016277405738320096 Test Loss nan\n",
            "Epoch 2399 Train Loss 0.001201072411359195 Test Loss nan\n",
            "Epoch 2599 Train Loss 0.0009236160835354942 Test Loss nan\n",
            "Epoch 2799 Train Loss 0.0007315351308798009 Test Loss nan\n",
            "Epoch 2999 Train Loss 0.0005923160581268931 Test Loss nan\n",
            "Epoch 3199 Train Loss 0.0004878552379977818 Test Loss nan\n",
            "Epoch 3399 Train Loss 0.00040726960978468697 Test Loss nan\n",
            "Epoch 3599 Train Loss 0.00034367752554659693 Test Loss nan\n",
            "Epoch 3799 Train Loss 0.0002925945671847625 Test Loss nan\n",
            "Epoch 3999 Train Loss 0.00025090813591547786 Test Loss nan\n",
            "Epoch 4199 Train Loss 0.0002164789573622185 Test Loss nan\n",
            "Epoch 4399 Train Loss 0.00018771479357950862 Test Loss nan\n",
            "Epoch 4599 Train Loss 0.00016347260629756243 Test Loss nan\n",
            "Epoch 4799 Train Loss 0.00014287638970749848 Test Loss nan\n",
            "Epoch 4999 Train Loss 0.0001252651489715323 Test Loss nan\n",
            "Epoch 5199 Train Loss 0.0001101231587299866 Test Loss nan\n",
            "Epoch 5399 Train Loss 9.702696892991333e-05 Test Loss nan\n",
            "Epoch 5599 Train Loss 8.56515352345176e-05 Test Loss nan\n",
            "Epoch 5799 Train Loss 7.573578025032624e-05 Test Loss nan\n",
            "Epoch 5999 Train Loss 6.707066563811843e-05 Test Loss nan\n",
            "Epoch 6199 Train Loss 5.9472475513355426e-05 Test Loss nan\n",
            "Epoch 6399 Train Loss 5.2787218013409335e-05 Test Loss nan\n",
            "Epoch 6599 Train Loss 4.689555896664496e-05 Test Loss nan\n",
            "Epoch 6799 Train Loss 4.169799953549479e-05 Test Loss nan\n",
            "Epoch 6999 Train Loss 3.710706839484836e-05 Test Loss nan\n",
            "Epoch 7199 Train Loss 3.304076743857483e-05 Test Loss nan\n",
            "Epoch 7399 Train Loss 2.9434849003485573e-05 Test Loss nan\n",
            "Epoch 7599 Train Loss 2.623402975573036e-05 Test Loss nan\n",
            "Epoch 7799 Train Loss 2.3391721919481033e-05 Test Loss nan\n",
            "Epoch 7999 Train Loss 2.0867342657211743e-05 Test Loss nan\n",
            "Epoch 8199 Train Loss 1.862236897837145e-05 Test Loss nan\n",
            "Epoch 8399 Train Loss 1.6623284365471247e-05 Test Loss nan\n",
            "Epoch 8599 Train Loss 1.4841507169771867e-05 Test Loss nan\n",
            "Epoch 8799 Train Loss 1.3254989522695288e-05 Test Loss nan\n",
            "Epoch 8999 Train Loss 1.183997884754138e-05 Test Loss nan\n",
            "Epoch 9199 Train Loss 1.0579551894221782e-05 Test Loss nan\n",
            "Epoch 9399 Train Loss 9.455240282238537e-06 Test Loss nan\n",
            "Epoch 9599 Train Loss 8.451866614030999e-06 Test Loss nan\n",
            "Epoch 9799 Train Loss 7.555256949670757e-06 Test Loss nan\n",
            "Epoch 9999 Train Loss 6.755641947386171e-06 Test Loss nan\n"
          ]
        }
      ],
      "source": [
        "train_losses = []\n",
        "test_losses = []\n",
        "model_checkpoints = []\n",
        "checkpoint_epochs = []\n",
        "if TRAIN_MODEL:\n",
        "    for epoch in tqdm.tqdm(range(num_epochs)):\n",
        "        train_logits = model(train_data)\n",
        "        train_loss = loss_fn(train_logits, train_labels)\n",
        "        train_loss.backward()\n",
        "        train_losses.append(train_loss.item())\n",
        "\n",
        "        optimizer.step()\n",
        "        optimizer.zero_grad()\n",
        "\n",
        "        with torch.inference_mode():\n",
        "            test_logits = model(test_data)\n",
        "            test_loss = loss_fn(test_logits, test_labels)\n",
        "            test_losses.append(test_loss.item())\n",
        "\n",
        "        if ((epoch+1)%checkpoint_every)==0:\n",
        "            checkpoint_epochs.append(epoch)\n",
        "            model_checkpoints.append(copy.deepcopy(model.state_dict()))\n",
        "            print(f\"Epoch {epoch} Train Loss {train_loss.item()} Test Loss {test_loss.item()}\")"
      ]
    },
    {
      "cell_type": "code",
      "execution_count": 18,
      "metadata": {
        "id": "YhTuoGc5IZph"
      },
      "outputs": [],
      "source": [
        "if TRAIN_MODEL:\n",
        "    torch.save(\n",
        "        {\n",
        "            \"model\":model.state_dict(),\n",
        "            \"config\": model.cfg,\n",
        "            \"checkpoints\": model_checkpoints,\n",
        "            \"checkpoint_epochs\": checkpoint_epochs,\n",
        "            \"test_losses\": test_losses,\n",
        "            \"train_losses\": train_losses,\n",
        "            \"train_indices\": train_indices,\n",
        "            \"test_indices\": test_indices,\n",
        "        },\n",
        "        PTH_LOCATION)"
      ]
    },
    {
      "cell_type": "code",
      "execution_count": 19,
      "metadata": {
        "id": "EzRKi7J7IZph"
      },
      "outputs": [],
      "source": [
        "if not TRAIN_MODEL:\n",
        "    cached_data = torch.load(PTH_LOCATION)\n",
        "    model.load_state_dict(cached_data['model'])\n",
        "    model_checkpoints = cached_data[\"checkpoints\"]\n",
        "    checkpoint_epochs = cached_data[\"checkpoint_epochs\"]\n",
        "    test_losses = cached_data['test_losses']\n",
        "    train_losses = cached_data['train_losses']\n",
        "    train_indices = cached_data[\"train_indices\"]\n",
        "    test_indices = cached_data[\"test_indices\"]"
      ]
    },
    {
      "cell_type": "markdown",
      "metadata": {},
      "source": [
        "# Look at weights"
      ]
    },
    {
      "cell_type": "markdown",
      "metadata": {},
      "source": [
        "## Embedding weights"
      ]
    },
    {
      "cell_type": "code",
      "execution_count": 20,
      "metadata": {},
      "outputs": [
        {
          "name": "stdout",
          "output_type": "stream",
          "text": [
            "tensor([[ 1.3611, -0.9969],\n",
            "        [-2.3174,  0.4787],\n",
            "        [ 0.6478,  2.4336],\n",
            "        [-0.6221, -0.7089]], device='cuda:0')\n",
            "torch.Size([4, 2])\n",
            "Norm of token 0: 1.6870782375335693\n",
            "Embedding: [-1.1621029   0.22185603]\n",
            "Norm of token 1: 2.366306781768799\n",
            "Embedding: [-1.1621029   0.22185603]\n",
            "Norm of token 2: 2.5182929039001465\n",
            "Embedding: [-1.1621029   0.22185603]\n",
            "Norm of token 3: 0.9431936144828796\n",
            "Embedding: [-0.18239078 -1.0527111 ]\n",
            "[[ 0.19895792 -3.4794922  -0.51431876 -0.8044901 ]\n",
            " [-0.77501214  0.70051515  2.655408   -1.7616587 ]]\n",
            "Q:  [[-0.24865317  0.96859264]\n",
            " [ 0.96859264  0.24865305]]\n",
            "R:  [[-0.80014247  1.5437007   2.6998956  -1.5062907 ]\n",
            " [ 0.         -3.1960254   0.16210985 -1.217265  ]]\n",
            "[[ 0.19895796 -3.4794927  -0.5143192  -0.8044899 ]\n",
            " [-0.77501214  0.7005156   2.6554081  -1.7616588 ]]\n",
            "1.2052472 38.94240893019232\n",
            "1.2052472 38.94240210000316\n"
          ]
        }
      ],
      "source": [
        "from scipy.linalg import qr\n",
        "\n",
        "print(model.embed.W_E.data)\n",
        "print(model.embed.W_E.data.shape)\n",
        "\n",
        "W_E = model.embed.W_E.data.cpu().numpy()\n",
        "pos = model.W_E_pos.data.cpu().numpy()\n",
        "for i in range(W_E.shape[0]):\n",
        "    print(f\"Norm of token {i}: {np.linalg.norm(W_E[i])}\")\n",
        "    index = (4 if i < 3 else 5)\n",
        "    print(f\"Embedding: {pos[index]}\")\n",
        "    W_E[i] += pos[index]\n",
        "\n",
        "\n",
        "# Create a matrix with tensor[0] as the first column\n",
        "ttr = W_E.transpose()\n",
        "print(ttr)\n",
        "\n",
        "# Perform QR decomposition to obtain an orthonormal matrix\n",
        "Q, R = qr(ttr)\n",
        "\n",
        "print(\"Q: \", Q)\n",
        "print(\"R: \", R)\n",
        "print(np.matmul(Q, R))\n",
        "\n",
        "def get_angle(a, b):\n",
        "    return np.arccos(\n",
        "        np.dot(a, b)\n",
        "        / (np.linalg.norm(a) * np.linalg.norm(b))\n",
        "    ) / np.pi * 180\n",
        "\n",
        "dot_product = np.dot(W_E[0], W_E[3])\n",
        "print(dot_product, get_angle(W_E[0], W_E[3]))\n",
        "product2 = np.dot(R[:, 0], R[:, 3])\n",
        "print(product2, get_angle(R[:, 0], R[:, 3]))"
      ]
    },
    {
      "cell_type": "code",
      "execution_count": null,
      "metadata": {},
      "outputs": [],
      "source": []
    },
    {
      "cell_type": "code",
      "execution_count": 21,
      "metadata": {},
      "outputs": [
        {
          "name": "stdout",
          "output_type": "stream",
          "text": [
            "U= [[-0.9508836 -0.3095486]\n",
            " [-0.3095486  0.9508836]] \n",
            "S= [2.8302078e+00 8.6767779e-04] \n",
            "V= [[-0.8654889  0.5009281]\n",
            " [ 0.5009281  0.8654889]]\n",
            "U= [[-0.9508836 -0.3095486]\n",
            " [-0.3095486  0.9508836]] \n",
            "S= [2.8302078e+00 8.6767779e-04] \n",
            "V= [[-0.8654889  0.5009281]\n",
            " [ 0.5009281  0.8654889]]\n"
          ]
        },
        {
          "data": {
            "application/vnd.jupyter.widget-view+json": {
              "model_id": "474a7517f037417ea26d6c716358ca9d",
              "version_major": 2,
              "version_minor": 0
            },
            "image/png": "[encoded data removed]",
            "text/html": [
              "\n",
              "            <div style=\"display: inline-block;\">\n",
              "                <div class=\"jupyter-widgets widget-label\" style=\"text-align: center;\">\n",
              "                    Figure\n",
              "                </div>\n",
              "                <img src='data:image/png;base64,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' width=1500.0/>\n",
              "            </div>\n",
              "        "
            ],
            "text/plain": [
              "Canvas(toolbar=Toolbar(toolitems=[('Home', 'Reset original view', 'home', 'home'), ('Back', 'Back to previous …"
            ]
          },
          "metadata": {},
          "output_type": "display_data"
        }
      ],
      "source": [
        "import matplotlib.pyplot as plt\n",
        "import numpy as n\n",
        "\n",
        "%matplotlib widget\n",
        "\n",
        "plt.close('all')\n",
        "\n",
        "def plot_tensor(fig, tensor, position = 111, title = \"\"):\n",
        "    ax = fig.add_subplot(position)\n",
        "    ax.set_title(title)\n",
        "\n",
        "    # Define the origin\n",
        "    origin = np.zeros((4, 2))\n",
        "\n",
        "    # Plot the arrows\n",
        "    for i in range(tensor.shape[0]):\n",
        "        ax.quiver(origin[i, 0], origin[i, 1], \n",
        "                tensor[i, 0], tensor[i, 1],\n",
        "                angles='xy', scale_units='xy', scale=1)\n",
        "\n",
        "        ax.text(tensor[i, 0], tensor[i, 1], f\"Embedding {i}\", color='red')\n",
        "    W_Q = model.blocks[0].attn.W_Q.data[0]\n",
        "    W_K = model.blocks[0].attn.W_K.data[0].transpose(0, 1)\n",
        "    W_QK = torch.matmul(W_Q, W_K)\n",
        "    U, S, V = np.linalg.svd(W_QK.cpu())\n",
        "    print(\"U=\", U, \"\\nS=\", S, \"\\nV=\", V)\n",
        "    \n",
        "    ax.quiver(origin[i, 0], origin[i, 1], U[0, 0], U[0, 1], angles='xy', scale_units='xy', scale=1, color='blue')\n",
        "    ax.text(U[0, 0], U[0, 1], f\"U\", color='blue')\n",
        "    ax.quiver(origin[i, 0], origin[i, 1], V[0, 0], V[0, 1], angles='xy', scale_units='xy', scale=1, color='blue')\n",
        "    ax.text(V[0, 0], V[0, 1], f\"V\", color='blue')\n",
        "\n",
        "    # Set labels\n",
        "    ax.set_xlabel('X')\n",
        "    ax.set_ylabel('Y')\n",
        "    ax.set_xlim(min(tensor[:, 0].min(), 0)*1.2, max(tensor[:, 0].max(), 0) * 1.2)\n",
        "    ax.set_aspect('equal')\n",
        "    ax.set_ylim(min(tensor[:, 1].min(), 0)*1.2, max(tensor[:, 1].max(), 0) * 1.2)\n",
        "\n",
        "fig = plt.figure(figsize=(15, 5))\n",
        "plot_tensor(fig, W_E, 121, \"original\")\n",
        "plot_tensor(fig, R.transpose(), 122, \"rotated\")\n",
        "plt.show()"
      ]
    },
    {
      "cell_type": "code",
      "execution_count": null,
      "metadata": {},
      "outputs": [],
      "source": []
    },
    {
      "cell_type": "markdown",
      "metadata": {},
      "source": [
        "# Unembedding weights"
      ]
    },
    {
      "cell_type": "code",
      "execution_count": 22,
      "metadata": {},
      "outputs": [
        {
          "name": "stdout",
          "output_type": "stream",
          "text": [
            "[[-1.2225037   0.9429486   0.02881091]\n",
            " [-0.8431214  -0.28984824  1.5076672 ]]\n",
            "Q_U= [[-0.82320786 -0.56773996]\n",
            " [-0.56773996  0.823208  ]]\n",
            "R_U= [[ 1.4850485 -0.6116842 -0.8796803]\n",
            " [ 0.        -0.773955   1.2247665]]\n",
            "W_E= [[ 0.19895792 -0.77501214]\n",
            " [-3.4794922   0.70051515]\n",
            " [-0.51431876  2.655408  ]\n",
            " [-0.8044901  -1.7616587 ]]\n",
            "W_U= [[-1.2225037   0.9429486   0.02881091]\n",
            " [-0.8431214  -0.28984824  1.5076672 ]]\n",
            "[[ 0.41020256  0.412243   -1.1627282 ]\n",
            " [ 3.6630728  -3.4840252   0.95589644]\n",
            " [-1.6100748  -1.2546414   3.9886534 ]\n",
            " [ 2.4687843  -0.2479791  -2.679173  ]]\n",
            "2\n"
          ]
        }
      ],
      "source": [
        "W_U = model.unembed.W_U.data.cpu().numpy()\n",
        "\n",
        "print(W_U)\n",
        "\n",
        "Qrev, Rrev = qr(W_U)\n",
        "\n",
        "print(\"Q_U=\", Qrev)\n",
        "print(\"R_U=\", Rrev)\n",
        "\n",
        "print(\"W_E=\", W_E)\n",
        "print(\"W_U=\", W_U)\n",
        "\n",
        "product = np.matmul(W_E, W_U)\n",
        "print(product)\n",
        "\n",
        "rank = np.linalg.matrix_rank(product)\n",
        "print(rank)"
      ]
    },
    {
      "cell_type": "markdown",
      "metadata": {},
      "source": [
        "# Activations"
      ]
    },
    {
      "cell_type": "code",
      "execution_count": 23,
      "metadata": {},
      "outputs": [
        {
          "name": "stdout",
          "output_type": "stream",
          "text": [
            "tensor([[[  5.6979,  -0.5543,  -6.2120],\n",
            "         [ 11.8204,  -0.2724, -14.2755]],\n",
            "\n",
            "        [[ -4.1265,   4.0203,  -1.2280],\n",
            "         [ -5.3191,   7.2557,  -4.8642]],\n",
            "\n",
            "        [[-19.5746,   1.7208,  21.6311],\n",
            "         [-15.3279,   2.7120,  14.7788]]], device='cuda:0',\n",
            "       grad_fn=<AddBackward0>)\n"
          ]
        }
      ],
      "source": [
        "input = torch.tensor([[0,3], [1,3], [2,3]])\n",
        "logits, cache = model.run_with_cache(input)\n",
        "print(logits)"
      ]
    },
    {
      "cell_type": "code",
      "execution_count": 24,
      "metadata": {},
      "outputs": [
        {
          "name": "stdout",
          "output_type": "stream",
          "text": [
            "tensor([[[  5.6979,  -0.5543,  -6.2120],\n",
            "         [ 11.8204,  -0.2724, -14.2755]],\n",
            "\n",
            "        [[ -4.1265,   4.0203,  -1.2280],\n",
            "         [ -5.3191,   7.2557,  -4.8642]],\n",
            "\n",
            "        [[-19.5746,   1.7208,  21.6311],\n",
            "         [-15.3279,   2.7120,  14.7788]]], device='cuda:0',\n",
            "       grad_fn=<AddBackward0>)\n"
          ]
        }
      ],
      "source": [
        "print(logits)"
      ]
    },
    {
      "cell_type": "code",
      "execution_count": 25,
      "metadata": {},
      "outputs": [
        {
          "data": {
            "text/plain": [
              "ActivationCache with keys ['hook_embed', 'hook_pos_embed', 'blocks.0.hook_resid_pre', 'blocks.0.attn.hook_q', 'blocks.0.attn.hook_k', 'blocks.0.attn.hook_v', 'blocks.0.attn.hook_attn_scores', 'blocks.0.attn.hook_pattern', 'blocks.0.attn.hook_z', 'blocks.0.hook_attn_out', 'blocks.0.hook_resid_mid', 'blocks.0.mlp.hook_pre', 'blocks.0.mlp.hook_post', 'blocks.0.hook_mlp_out', 'blocks.0.hook_resid_post']"
            ]
          },
          "execution_count": 25,
          "metadata": {},
          "output_type": "execute_result"
        }
      ],
      "source": [
        "cache"
      ]
    },
    {
      "cell_type": "code",
      "execution_count": 26,
      "metadata": {},
      "outputs": [
        {
          "data": {
            "text/plain": [
              "tensor([[[ 1.3611, -0.9969],\n",
              "         [-0.6221, -0.7089]],\n",
              "\n",
              "        [[-2.3174,  0.4787],\n",
              "         [-0.6221, -0.7089]],\n",
              "\n",
              "        [[ 0.6478,  2.4336],\n",
              "         [-0.6221, -0.7089]]], device='cuda:0')"
            ]
          },
          "execution_count": 26,
          "metadata": {},
          "output_type": "execute_result"
        }
      ],
      "source": [
        "cache.cache_dict['hook_embed']"
      ]
    },
    {
      "cell_type": "code",
      "execution_count": 27,
      "metadata": {},
      "outputs": [
        {
          "name": "stdout",
          "output_type": "stream",
          "text": [
            "W_K:  tensor([[ 0.5955, -1.1648],\n",
            "        [-0.3195,  0.7005]])\n",
            "W_Q:  tensor([[ 1.3553, -1.3067],\n",
            "        [ 0.4687, -0.4117]])\n",
            "W_K transposed:  tensor([[ 0.5955, -0.3195],\n",
            "        [-1.1648,  0.7005]])\n",
            "tensor([[ 2.3291, -1.3483],\n",
            "        [ 0.7587, -0.4381]])\n",
            "tensor([[-1.7041,  1.3890],\n",
            "        [ 2.1980,  4.6275]])\n",
            "U:  [[-0.9508836 -0.3095486]\n",
            " [-0.3095486  0.9508836]]\n",
            "S:  [2.8302078e+00 8.6767779e-04]\n",
            "V:  [[-0.8654889  0.5009281]\n",
            " [ 0.5009281  0.8654889]]\n",
            "S_rank_1:  [[2.83020782 0.        ]\n",
            " [0.         0.        ]]\n",
            "W_QK_rank_1:  [[ 2.3292022  -1.34809685]\n",
            " [ 0.75824342 -0.43885652]]\n"
          ]
        }
      ],
      "source": [
        "W_K = model.blocks[0].attn.W_K.data[0].cpu()\n",
        "W_Q = model.blocks[0].attn.W_Q.data[0].cpu()\n",
        "print(\"W_K: \", W_K)\n",
        "W_K_T = torch.transpose(W_K, 0, 1)\n",
        "W_QK = torch.matmul(W_Q, W_K_T)\n",
        "print(\"W_Q: \", W_Q)\n",
        "print(\"W_K transposed: \", W_K_T)\n",
        "print(W_QK)\n",
        "W_V = model.blocks[0].attn.W_V.data[0].cpu()\n",
        "W_O = model.blocks[0].attn.W_O.data[0].cpu()\n",
        "W_VO = torch.matmul(W_V, W_O)\n",
        "print(W_VO)\n",
        "W_E = model.embed.W_E.data.cpu().numpy()\n",
        "U, S, V = np.linalg.svd(W_QK)\n",
        "print(\"U: \", U)\n",
        "print(\"S: \", S)\n",
        "print(\"V: \", V)\n",
        "S_rank_1 = np.zeros((2, 2))\n",
        "S_rank_1[0, 0] = S[0]\n",
        "print(\"S_rank_1: \", S_rank_1)\n",
        "W_QK_rank_1 = np.matmul(np.matmul(U, S_rank_1), V)\n",
        "print(\"W_QK_rank_1: \", W_QK_rank_1)"
      ]
    },
    {
      "cell_type": "code",
      "execution_count": 28,
      "metadata": {},
      "outputs": [
        {
          "data": {
            "text/plain": [
              "{'hook_embed': tensor([[[ 1.3611, -0.9969],\n",
              "          [-0.6221, -0.7089]],\n",
              " \n",
              "         [[-2.3174,  0.4787],\n",
              "          [-0.6221, -0.7089]],\n",
              " \n",
              "         [[ 0.6478,  2.4336],\n",
              "          [-0.6221, -0.7089]]], device='cuda:0'),\n",
              " 'hook_pos_embed': tensor([[[-1.1621,  0.2219],\n",
              "          [-0.1824, -1.0527]],\n",
              " \n",
              "         [[-1.1621,  0.2219],\n",
              "          [-0.1824, -1.0527]],\n",
              " \n",
              "         [[-1.1621,  0.2219],\n",
              "          [-0.1824, -1.0527]]], device='cuda:0'),\n",
              " 'blocks.0.hook_resid_pre': tensor([[[ 0.1990, -0.7750],\n",
              "          [-0.8045, -1.7617]],\n",
              " \n",
              "         [[-3.4795,  0.7005],\n",
              "          [-0.8045, -1.7617]],\n",
              " \n",
              "         [[-0.5143,  2.6554],\n",
              "          [-0.8045, -1.7617]]], device='cuda:0'),\n",
              " 'blocks.0.attn.hook_q': tensor([[[[-0.0936,  0.0591]],\n",
              " \n",
              "          [[-1.9161,  1.7764]]],\n",
              " \n",
              " \n",
              "         [[[-4.3873,  4.2582]],\n",
              " \n",
              "          [[-1.9161,  1.7764]]],\n",
              " \n",
              " \n",
              "         [[[ 0.5477, -0.4211]],\n",
              " \n",
              "          [[-1.9161,  1.7764]]]], device='cuda:0'),\n",
              " 'blocks.0.attn.hook_k': tensor([[[[ 0.3661, -0.7747]],\n",
              " \n",
              "          [[ 0.0837, -0.2970]]],\n",
              " \n",
              " \n",
              "         [[[-2.2957,  4.5438]],\n",
              " \n",
              "          [[ 0.0837, -0.2970]]],\n",
              " \n",
              " \n",
              "         [[[-1.1546,  2.4593]],\n",
              " \n",
              "          [[ 0.0837, -0.2970]]]], device='cuda:0'),\n",
              " 'blocks.0.attn.hook_v': tensor([[[[ 1.5349,  1.2572]],\n",
              " \n",
              "          [[ 1.6975,  4.0029]]],\n",
              " \n",
              " \n",
              "         [[[-6.0909,  1.8701]],\n",
              " \n",
              "          [[ 1.6975,  4.0029]]],\n",
              " \n",
              " \n",
              "         [[[-5.0204, -4.4601]],\n",
              " \n",
              "          [[ 1.6975,  4.0029]]]], device='cuda:0'),\n",
              " 'blocks.0.attn.hook_attn_scores': tensor([[[[-0.0566,    -inf],\n",
              "           [-1.4691, -0.4865]]],\n",
              " \n",
              " \n",
              "         [[[20.8031,    -inf],\n",
              "           [ 8.8179, -0.4865]]],\n",
              " \n",
              " \n",
              "         [[[-1.1795,    -inf],\n",
              "           [ 4.6535, -0.4865]]]], device='cuda:0'),\n",
              " 'blocks.0.attn.hook_pattern': tensor([[[[1.0000e+00, 0.0000e+00],\n",
              "           [2.7239e-01, 7.2761e-01]]],\n",
              " \n",
              " \n",
              "         [[[1.0000e+00, 0.0000e+00],\n",
              "           [9.9991e-01, 9.1007e-05]]],\n",
              " \n",
              " \n",
              "         [[[1.0000e+00, 0.0000e+00],\n",
              "           [9.9418e-01, 5.8234e-03]]]], device='cuda:0'),\n",
              " 'blocks.0.attn.hook_z': tensor([[[[ 1.5349,  1.2572]],\n",
              " \n",
              "          [[ 1.6532,  3.2550]]],\n",
              " \n",
              " \n",
              "         [[[-6.0909,  1.8701]],\n",
              " \n",
              "          [[-6.0902,  1.8703]]],\n",
              " \n",
              " \n",
              "         [[[-5.0204, -4.4601]],\n",
              " \n",
              "          [[-4.9813, -4.4109]]]], device='cuda:0'),\n",
              " 'blocks.0.hook_attn_out': tensor([[[-2.0425, -3.3100],\n",
              "          [-2.3762, -7.6462]],\n",
              " \n",
              "         [[ 7.4693, -1.5913],\n",
              "          [ 7.4684, -1.5920]],\n",
              " \n",
              "         [[ 6.7130, 11.5735],\n",
              "          [ 6.6593, 11.4522]]], device='cuda:0'),\n",
              " 'blocks.0.hook_resid_mid': tensor([[[-1.8436, -4.0850],\n",
              "          [-3.1807, -9.4079]],\n",
              " \n",
              "         [[ 3.9898, -0.8908],\n",
              "          [ 6.6639, -3.3536]],\n",
              " \n",
              "         [[ 6.1987, 14.2290],\n",
              "          [ 5.8548,  9.6905]]], device='cuda:0'),\n",
              " 'blocks.0.mlp.hook_pre': tensor([], device='cuda:0', size=(3, 2, 0)),\n",
              " 'blocks.0.mlp.hook_post': tensor([], device='cuda:0', size=(3, 2, 0)),\n",
              " 'blocks.0.hook_mlp_out': tensor([[[0., 0.],\n",
              "          [0., 0.]],\n",
              " \n",
              "         [[0., 0.],\n",
              "          [0., 0.]],\n",
              " \n",
              "         [[0., 0.],\n",
              "          [0., 0.]]], device='cuda:0'),\n",
              " 'blocks.0.hook_resid_post': tensor([[[-1.8436, -4.0850],\n",
              "          [-3.1807, -9.4079]],\n",
              " \n",
              "         [[ 3.9898, -0.8908],\n",
              "          [ 6.6639, -3.3536]],\n",
              " \n",
              "         [[ 6.1987, 14.2290],\n",
              "          [ 5.8548,  9.6905]]], device='cuda:0')}"
            ]
          },
          "execution_count": 28,
          "metadata": {},
          "output_type": "execute_result"
        }
      ],
      "source": [
        "cache.cache_dict"
      ]
    }
  ],
  "metadata": {
    "colab": {
      "provenance": []
    },
    "kernelspec": {
      "display_name": "base",
      "language": "python",
      "name": "python3"
    },
    "language_info": {
      "codemirror_mode": {
        "name": "ipython",
        "version": 3
      },
      "file_extension": ".py",
      "mimetype": "text/x-python",
      "name": "python",
      "nbconvert_exporter": "python",
      "pygments_lexer": "ipython3",
      "version": "3.10.12"
    },
    "orig_nbformat": 4,
    "vscode": {
      "interpreter": {
        "hash": "8859a5491331dba93123a91c2831400aced845b502848170e05fcb48b2c144be"
      }
    }
  },
  "nbformat": 4,
  "nbformat_minor": 0
}
