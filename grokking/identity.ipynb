{
  "cells": [
    {
      "cell_type": "markdown",
      "metadata": {},
      "source": [
        "# Interpreting Identity"
      ]
    },
    {
      "cell_type": "markdown",
      "metadata": {
        "id": "WBvIU6zdIZpa"
      },
      "source": [
        "# Setup\n",
        "(No need to read)"
      ]
    },
    {
      "cell_type": "code",
      "execution_count": 29,
      "metadata": {
        "id": "ssx2pnTOIZpa"
      },
      "outputs": [],
      "source": [
        "TRAIN_MODEL = True"
      ]
    },
    {
      "cell_type": "code",
      "execution_count": 30,
      "metadata": {
        "id": "7Jfz-lAWIZpb",
        "outputId": "48df1c71-5bc3-4a14-9a34-1af5c16786a4"
      },
      "outputs": [
        {
          "name": "stdout",
          "output_type": "stream",
          "text": [
            "Running as a Jupyter notebook - intended for development only!\n",
            "The autoreload extension is already loaded. To reload it, use:\n",
            "  %reload_ext autoreload\n"
          ]
        },
        {
          "name": "stderr",
          "output_type": "stream",
          "text": [
            "/tmp/ipykernel_114792/1878011034.py:22: DeprecationWarning:\n",
            "\n",
            "`magic(...)` is deprecated since IPython 0.13 (warning added in 8.1), use run_line_magic(magic_name, parameter_s).\n",
            "\n",
            "/tmp/ipykernel_114792/1878011034.py:23: DeprecationWarning:\n",
            "\n",
            "`magic(...)` is deprecated since IPython 0.13 (warning added in 8.1), use run_line_magic(magic_name, parameter_s).\n",
            "\n",
            "/tmp/ipykernel_114792/1878011034.py:24: DeprecationWarning:\n",
            "\n",
            "`magic(...)` is deprecated since IPython 0.13 (warning added in 8.1), use run_line_magic(magic_name, parameter_s).\n",
            "\n"
          ]
        },
        {
          "name": "stdout",
          "output_type": "stream",
          "text": [
            "Requirement already satisfied: ipympl in /home/philippw/Stuff/programming/mechint/getting_started/.venv/lib/python3.10/site-packages (0.9.4)\n",
            "Requirement already satisfied: ipython-genutils in /home/philippw/Stuff/programming/mechint/getting_started/.venv/lib/python3.10/site-packages (from ipympl) (0.2.0)\n",
            "Requirement already satisfied: ipython<9 in /home/philippw/Stuff/programming/mechint/getting_started/.venv/lib/python3.10/site-packages (from ipympl) (8.22.1)\n",
            "Requirement already satisfied: ipywidgets<9,>=7.6.0 in /home/philippw/Stuff/programming/mechint/getting_started/.venv/lib/python3.10/site-packages (from ipympl) (8.1.5)\n",
            "Requirement already satisfied: matplotlib<4,>=3.4.0 in /home/philippw/Stuff/programming/mechint/getting_started/.venv/lib/python3.10/site-packages (from ipympl) (3.8.3)\n",
            "Requirement already satisfied: numpy in /home/philippw/Stuff/programming/mechint/getting_started/.venv/lib/python3.10/site-packages (from ipympl) (1.26.4)\n",
            "Requirement already satisfied: pillow in /home/philippw/Stuff/programming/mechint/getting_started/.venv/lib/python3.10/site-packages (from ipympl) (10.2.0)\n",
            "Requirement already satisfied: traitlets<6 in /home/philippw/Stuff/programming/mechint/getting_started/.venv/lib/python3.10/site-packages (from ipympl) (5.14.1)\n",
            "Requirement already satisfied: decorator in /home/philippw/Stuff/programming/mechint/getting_started/.venv/lib/python3.10/site-packages (from ipython<9->ipympl) (5.1.1)\n",
            "Requirement already satisfied: jedi>=0.16 in /home/philippw/Stuff/programming/mechint/getting_started/.venv/lib/python3.10/site-packages (from ipython<9->ipympl) (0.19.1)\n",
            "Requirement already satisfied: matplotlib-inline in /home/philippw/Stuff/programming/mechint/getting_started/.venv/lib/python3.10/site-packages (from ipython<9->ipympl) (0.1.6)\n",
            "Requirement already satisfied: prompt-toolkit<3.1.0,>=3.0.41 in /home/philippw/Stuff/programming/mechint/getting_started/.venv/lib/python3.10/site-packages (from ipython<9->ipympl) (3.0.43)\n",
            "Requirement already satisfied: pygments>=2.4.0 in /home/philippw/Stuff/programming/mechint/getting_started/.venv/lib/python3.10/site-packages (from ipython<9->ipympl) (2.17.2)\n",
            "Requirement already satisfied: stack-data in /home/philippw/Stuff/programming/mechint/getting_started/.venv/lib/python3.10/site-packages (from ipython<9->ipympl) (0.6.3)\n",
            "Requirement already satisfied: exceptiongroup in /home/philippw/Stuff/programming/mechint/getting_started/.venv/lib/python3.10/site-packages (from ipython<9->ipympl) (1.2.0)\n",
            "Requirement already satisfied: pexpect>4.3 in /home/philippw/Stuff/programming/mechint/getting_started/.venv/lib/python3.10/site-packages (from ipython<9->ipympl) (4.9.0)\n",
            "Requirement already satisfied: comm>=0.1.3 in /home/philippw/Stuff/programming/mechint/getting_started/.venv/lib/python3.10/site-packages (from ipywidgets<9,>=7.6.0->ipympl) (0.2.1)\n",
            "Requirement already satisfied: widgetsnbextension~=4.0.12 in /home/philippw/Stuff/programming/mechint/getting_started/.venv/lib/python3.10/site-packages (from ipywidgets<9,>=7.6.0->ipympl) (4.0.13)\n",
            "Requirement already satisfied: jupyterlab-widgets~=3.0.12 in /home/philippw/Stuff/programming/mechint/getting_started/.venv/lib/python3.10/site-packages (from ipywidgets<9,>=7.6.0->ipympl) (3.0.13)\n",
            "Requirement already satisfied: contourpy>=1.0.1 in /home/philippw/Stuff/programming/mechint/getting_started/.venv/lib/python3.10/site-packages (from matplotlib<4,>=3.4.0->ipympl) (1.2.0)\n",
            "Requirement already satisfied: cycler>=0.10 in /home/philippw/Stuff/programming/mechint/getting_started/.venv/lib/python3.10/site-packages (from matplotlib<4,>=3.4.0->ipympl) (0.12.1)\n",
            "Requirement already satisfied: fonttools>=4.22.0 in /home/philippw/Stuff/programming/mechint/getting_started/.venv/lib/python3.10/site-packages (from matplotlib<4,>=3.4.0->ipympl) (4.50.0)\n",
            "Requirement already satisfied: kiwisolver>=1.3.1 in /home/philippw/Stuff/programming/mechint/getting_started/.venv/lib/python3.10/site-packages (from matplotlib<4,>=3.4.0->ipympl) (1.4.5)\n",
            "Requirement already satisfied: packaging>=20.0 in /home/philippw/Stuff/programming/mechint/getting_started/.venv/lib/python3.10/site-packages (from matplotlib<4,>=3.4.0->ipympl) (23.2)\n",
            "Requirement already satisfied: pyparsing>=2.3.1 in /home/philippw/Stuff/programming/mechint/getting_started/.venv/lib/python3.10/site-packages (from matplotlib<4,>=3.4.0->ipympl) (3.1.2)\n",
            "Requirement already satisfied: python-dateutil>=2.7 in /home/philippw/Stuff/programming/mechint/getting_started/.venv/lib/python3.10/site-packages (from matplotlib<4,>=3.4.0->ipympl) (2.8.2)\n",
            "Requirement already satisfied: parso<0.9.0,>=0.8.3 in /home/philippw/Stuff/programming/mechint/getting_started/.venv/lib/python3.10/site-packages (from jedi>=0.16->ipython<9->ipympl) (0.8.3)\n",
            "Requirement already satisfied: ptyprocess>=0.5 in /home/philippw/Stuff/programming/mechint/getting_started/.venv/lib/python3.10/site-packages (from pexpect>4.3->ipython<9->ipympl) (0.7.0)\n",
            "Requirement already satisfied: wcwidth in /home/philippw/Stuff/programming/mechint/getting_started/.venv/lib/python3.10/site-packages (from prompt-toolkit<3.1.0,>=3.0.41->ipython<9->ipympl) (0.2.13)\n",
            "Requirement already satisfied: six>=1.5 in /home/philippw/Stuff/programming/mechint/getting_started/.venv/lib/python3.10/site-packages (from python-dateutil>=2.7->matplotlib<4,>=3.4.0->ipympl) (1.16.0)\n",
            "Requirement already satisfied: executing>=1.2.0 in /home/philippw/Stuff/programming/mechint/getting_started/.venv/lib/python3.10/site-packages (from stack-data->ipython<9->ipympl) (2.0.1)\n",
            "Requirement already satisfied: asttokens>=2.1.0 in /home/philippw/Stuff/programming/mechint/getting_started/.venv/lib/python3.10/site-packages (from stack-data->ipython<9->ipympl) (2.4.1)\n",
            "Requirement already satisfied: pure-eval in /home/philippw/Stuff/programming/mechint/getting_started/.venv/lib/python3.10/site-packages (from stack-data->ipython<9->ipympl) (0.2.2)\n",
            "\n",
            "\u001b[1m[\u001b[0m\u001b[34;49mnotice\u001b[0m\u001b[1;39;49m]\u001b[0m\u001b[39;49m A new release of pip is available: \u001b[0m\u001b[31;49m24.0\u001b[0m\u001b[39;49m -> \u001b[0m\u001b[32;49m24.2\u001b[0m\n",
            "\u001b[1m[\u001b[0m\u001b[34;49mnotice\u001b[0m\u001b[1;39;49m]\u001b[0m\u001b[39;49m To update, run: \u001b[0m\u001b[32;49mpip install --upgrade pip\u001b[0m\n",
            "Note: you may need to restart the kernel to use updated packages.\n"
          ]
        },
        {
          "name": "stderr",
          "output_type": "stream",
          "text": [
            "/tmp/ipykernel_114792/1878011034.py:25: DeprecationWarning:\n",
            "\n",
            "`magic(...)` is deprecated since IPython 0.13 (warning added in 8.1), use run_line_magic(magic_name, parameter_s).\n",
            "\n"
          ]
        },
        {
          "name": "stdout",
          "output_type": "stream",
          "text": [
            "Requirement already satisfied: scipy in /home/philippw/Stuff/programming/mechint/getting_started/.venv/lib/python3.10/site-packages (1.14.1)\n",
            "Requirement already satisfied: numpy<2.3,>=1.23.5 in /home/philippw/Stuff/programming/mechint/getting_started/.venv/lib/python3.10/site-packages (from scipy) (1.26.4)\n",
            "\n",
            "\u001b[1m[\u001b[0m\u001b[34;49mnotice\u001b[0m\u001b[1;39;49m]\u001b[0m\u001b[39;49m A new release of pip is available: \u001b[0m\u001b[31;49m24.0\u001b[0m\u001b[39;49m -> \u001b[0m\u001b[32;49m24.2\u001b[0m\n",
            "\u001b[1m[\u001b[0m\u001b[34;49mnotice\u001b[0m\u001b[1;39;49m]\u001b[0m\u001b[39;49m To update, run: \u001b[0m\u001b[32;49mpip install --upgrade pip\u001b[0m\n",
            "Note: you may need to restart the kernel to use updated packages.\n"
          ]
        }
      ],
      "source": [
        "# Janky code to do different setup when run in a Colab notebook vs VSCode\n",
        "import os\n",
        "\n",
        "DEVELOPMENT_MODE = True\n",
        "IN_GITHUB = os.getenv(\"GITHUB_ACTIONS\") == \"true\"\n",
        "try:\n",
        "    import google.colab\n",
        "    IN_COLAB = True\n",
        "    print(\"Running as a Colab notebook\")\n",
        "\n",
        "    # PySvelte is an unmaintained visualization library, use it as a backup if circuitsvis isn't working\n",
        "    # # Install another version of node that makes PySvelte work way faster\n",
        "    # !curl -fsSL https://deb.nodesource.com/setup_16.x | sudo -E bash -; sudo apt-get install -y nodejs\n",
        "    # %pip install git+https://github.com/neelnanda-io/PySvelte.git\n",
        "except:\n",
        "    IN_COLAB = False\n",
        "    print(\"Running as a Jupyter notebook - intended for development only!\")\n",
        "    from IPython import get_ipython\n",
        "\n",
        "    ipython = get_ipython()\n",
        "    # Code to automatically update the HookedTransformer code as its edited without restarting the kernel\n",
        "    ipython.magic(\"load_ext autoreload\")\n",
        "    ipython.magic(\"autoreload 2\")\n",
        "    ipython.magic(\"pip install ipympl\")\n",
        "    ipython.magic(\"pip install scipy\")\n",
        "\n",
        "if IN_COLAB or IN_GITHUB:\n",
        "    %pip install transformer_lens\n",
        "    %pip install circuitsvis\n",
        "    %pip install ipympl"
      ]
    },
    {
      "cell_type": "code",
      "execution_count": 31,
      "metadata": {
        "id": "caNlrFAnIZpc",
        "outputId": "b116f2ef-8c45-4d6b-a408-b86670d5b807"
      },
      "outputs": [
        {
          "name": "stdout",
          "output_type": "stream",
          "text": [
            "Using renderer: notebook_connected\n"
          ]
        }
      ],
      "source": [
        "# Plotly needs a different renderer for VSCode/Notebooks vs Colab argh\n",
        "import plotly.io as pio\n",
        "if IN_COLAB or not DEVELOPMENT_MODE:\n",
        "    pio.renderers.default = \"colab\"\n",
        "else:\n",
        "    pio.renderers.default = \"notebook_connected\"\n",
        "print(f\"Using renderer: {pio.renderers.default}\")"
      ]
    },
    {
      "cell_type": "code",
      "execution_count": 32,
      "metadata": {
        "id": "bakRjAcIIZpc"
      },
      "outputs": [],
      "source": [
        "pio.templates['plotly'].layout.xaxis.title.font.size = 20\n",
        "pio.templates['plotly'].layout.yaxis.title.font.size = 20\n",
        "pio.templates['plotly'].layout.title.font.size = 30"
      ]
    },
    {
      "cell_type": "code",
      "execution_count": 33,
      "metadata": {
        "id": "i8GCNEdpIZpc"
      },
      "outputs": [],
      "source": [
        "# Import stuff\n",
        "import torch\n",
        "import torch.nn as nn\n",
        "import torch.nn.functional as F\n",
        "import torch.optim as optim\n",
        "import numpy as np\n",
        "import einops\n",
        "from fancy_einsum import einsum\n",
        "import os\n",
        "import tqdm.auto as tqdm\n",
        "import random\n",
        "from pathlib import Path\n",
        "import plotly.express as px\n",
        "from torch.utils.data import DataLoader\n",
        "\n",
        "from typing import List, Union, Optional\n",
        "from functools import partial\n",
        "import copy\n",
        "\n",
        "import itertools\n",
        "from transformers import AutoModelForCausalLM, AutoConfig, AutoTokenizer\n",
        "import dataclasses\n",
        "import datasets\n",
        "from IPython.display import HTML"
      ]
    },
    {
      "cell_type": "code",
      "execution_count": 34,
      "metadata": {
        "id": "KxZBfCTlIZpd"
      },
      "outputs": [],
      "source": [
        "import transformer_lens\n",
        "import transformer_lens.utils as utils\n",
        "from transformer_lens.hook_points import (\n",
        "    HookedRootModule,\n",
        "    HookPoint,\n",
        ")  # Hooking utilities\n",
        "from transformer_lens import HookedTransformer, HookedTransformerConfig, FactoredMatrix, ActivationCache\n",
        "\n",
        "\n",
        "device = \"cuda\" if torch.cuda.is_available() else \"cpu\""
      ]
    },
    {
      "cell_type": "markdown",
      "metadata": {
        "id": "0iC52U60IZpd"
      },
      "source": [
        "Plotting helper functions:"
      ]
    },
    {
      "cell_type": "code",
      "execution_count": 35,
      "metadata": {
        "id": "hvpC2mPgIZpd"
      },
      "outputs": [],
      "source": [
        "def imshow(tensor, renderer=None, xaxis=\"\", yaxis=\"\", **kwargs):\n",
        "    px.imshow(utils.to_numpy(tensor), color_continuous_midpoint=0.0, color_continuous_scale=\"RdBu\", labels={\"x\":xaxis, \"y\":yaxis}, **kwargs).show(renderer)\n",
        "\n",
        "def line(tensor, renderer=None, xaxis=\"\", yaxis=\"\", **kwargs):\n",
        "    px.line(utils.to_numpy(tensor), labels={\"x\":xaxis, \"y\":yaxis}, **kwargs).show(renderer)\n",
        "\n",
        "def scatter(x, y, xaxis=\"\", yaxis=\"\", caxis=\"\", renderer=None, **kwargs):\n",
        "    x = utils.to_numpy(x)\n",
        "    y = utils.to_numpy(y)\n",
        "    px.scatter(y=y, x=x, labels={\"x\":xaxis, \"y\":yaxis, \"color\":caxis}, **kwargs).show(renderer)"
      ]
    },
    {
      "cell_type": "code",
      "execution_count": 36,
      "metadata": {
        "id": "dFCGZobRIZpe"
      },
      "outputs": [],
      "source": [
        "# Define the location to save the model, using a relative path\n",
        "PTH_LOCATION = \"workspace/_scratch/identity.pth\"\n",
        "\n",
        "# Create the directory if it does not exist\n",
        "os.makedirs(Path(PTH_LOCATION).parent, exist_ok=True)"
      ]
    },
    {
      "cell_type": "markdown",
      "metadata": {
        "id": "7M2Nzu7EIZpe"
      },
      "source": [
        "# Model Training"
      ]
    },
    {
      "cell_type": "markdown",
      "metadata": {
        "id": "vOckI2-GIZpe"
      },
      "source": [
        "## Config"
      ]
    },
    {
      "cell_type": "code",
      "execution_count": 37,
      "metadata": {
        "id": "_2OXlPG-IZpe"
      },
      "outputs": [],
      "source": [
        "p = 3\n",
        "frac_train = 1\n",
        "\n",
        "# Optimizer config\n",
        "lr = 1e-3\n",
        "wd = 1e-2\n",
        "betas = (0.9, 0.999)\n",
        "\n",
        "num_epochs = 10000\n",
        "checkpoint_every = 200\n",
        "\n",
        "DATA_SEED = 598"
      ]
    },
    {
      "cell_type": "markdown",
      "metadata": {
        "id": "kT7xY9WsIZpe"
      },
      "source": [
        "## Define Task\n",
        "* Define modular addition\n",
        "* Define the dataset & labels"
      ]
    },
    {
      "cell_type": "markdown",
      "metadata": {
        "id": "aOJMbA26IZpe"
      },
      "source": [
        "Input format:\n",
        "|a|=|"
      ]
    },
    {
      "cell_type": "code",
      "execution_count": 38,
      "metadata": {
        "id": "HGFlE125IZpe"
      },
      "outputs": [],
      "source": [
        "a_vector = torch.arange(p)\n",
        "equals_vector = einops.repeat(torch.tensor(p), \" -> i\", i=p)\n"
      ]
    },
    {
      "cell_type": "code",
      "execution_count": 39,
      "metadata": {
        "id": "6JOHNIJDIZpe",
        "outputId": "a35e475f-c388-4568-9c29-228adf72fc44"
      },
      "outputs": [
        {
          "name": "stdout",
          "output_type": "stream",
          "text": [
            "tensor([[0, 3],\n",
            "        [1, 3],\n",
            "        [2, 3]])\n",
            "torch.Size([3, 2])\n"
          ]
        }
      ],
      "source": [
        "dataset = torch.stack([a_vector, equals_vector], dim=1).to(device)\n",
        "print(dataset)\n",
        "print(dataset.shape)"
      ]
    },
    {
      "cell_type": "code",
      "execution_count": 40,
      "metadata": {
        "id": "cjUu4BTsIZpf",
        "outputId": "b94f7dbb-e7ad-46fa-addb-f904a37c3ab0"
      },
      "outputs": [
        {
          "name": "stdout",
          "output_type": "stream",
          "text": [
            "torch.Size([3])\n",
            "tensor([0, 1, 2])\n"
          ]
        }
      ],
      "source": [
        "labels = dataset[:, 0]\n",
        "print(labels.shape)\n",
        "print(labels)"
      ]
    },
    {
      "cell_type": "markdown",
      "metadata": {
        "id": "96Ad6m8BIZpf"
      },
      "source": [
        "Convert this to a train + test set - 30% in the training set"
      ]
    },
    {
      "cell_type": "code",
      "execution_count": 41,
      "metadata": {
        "id": "I8Af2zLZIZpf",
        "outputId": "5075c607-e865-4b8c-90df-d2685d17ebb3"
      },
      "outputs": [
        {
          "name": "stdout",
          "output_type": "stream",
          "text": [
            "tensor([[2, 3],\n",
            "        [0, 3],\n",
            "        [1, 3]])\n",
            "tensor([2, 0, 1])\n",
            "torch.Size([3, 2])\n",
            "tensor([], size=(0, 2), dtype=torch.int64)\n",
            "tensor([], dtype=torch.int64)\n",
            "torch.Size([0, 2])\n"
          ]
        }
      ],
      "source": [
        "torch.manual_seed(DATA_SEED)\n",
        "indices = torch.randperm(p)\n",
        "cutoff = int(p*frac_train)\n",
        "train_indices = indices[:cutoff]\n",
        "test_indices = indices[cutoff:]\n",
        "\n",
        "train_data = dataset[train_indices]\n",
        "train_labels = labels[train_indices]\n",
        "test_data = dataset[test_indices]\n",
        "test_labels = labels[test_indices]\n",
        "print(train_data)\n",
        "print(train_labels)\n",
        "print(train_data.shape)\n",
        "print(test_data[:5])\n",
        "print(test_labels[:5])\n",
        "print(test_data.shape)"
      ]
    },
    {
      "cell_type": "markdown",
      "metadata": {
        "id": "_83i1bUkIZpf"
      },
      "source": [
        "## Define Model"
      ]
    },
    {
      "cell_type": "code",
      "execution_count": 42,
      "metadata": {
        "id": "UL7gVZ9WIZpf"
      },
      "outputs": [],
      "source": [
        "cfg = HookedTransformerConfig(\n",
        "    n_layers = 1,\n",
        "    n_heads = 1,\n",
        "    d_model = 2,\n",
        "    d_head = 2,\n",
        "    d_mlp = 0,\n",
        "    act_fn = \"relu\",\n",
        "    normalization_type=None,\n",
        "    d_vocab=p+1,\n",
        "    d_vocab_out=p,\n",
        "    n_ctx=2,\n",
        "    init_weights=True,\n",
        "    device=device,\n",
        "    seed = 998,\n",
        ")\n",
        "model = HookedTransformer(cfg)\n",
        "for name, param in model.named_parameters():\n",
        "    if \"b_\" in name:\n",
        "        param.requires_grad = False"
      ]
    },
    {
      "cell_type": "markdown",
      "metadata": {
        "id": "H61FscDoIZpg"
      },
      "source": [
        "Disable the biases, as we don't need them for this task and it makes things easier to interpret."
      ]
    },
    {
      "cell_type": "markdown",
      "metadata": {
        "id": "lctx1jAtIZpg"
      },
      "source": [
        "## Define Optimizer + Loss"
      ]
    },
    {
      "cell_type": "code",
      "execution_count": 43,
      "metadata": {
        "id": "dJORAU_PIZpg",
        "outputId": "1c2b9f25-056e-4e0d-defc-0bd11586136d"
      },
      "outputs": [
        {
          "name": "stdout",
          "output_type": "stream",
          "text": [
            "tensor(1.3066, dtype=torch.float64, grad_fn=<NegBackward0>)\n",
            "tensor(nan, dtype=torch.float64, grad_fn=<NegBackward0>)\n",
            "Uniform loss:\n",
            "1.0986122886681098\n"
          ]
        }
      ],
      "source": [
        "optimizer = torch.optim.AdamW(model.parameters(), lr=lr, weight_decay=wd, betas=betas)\n",
        "def loss_fn(logits, labels):\n",
        "    if len(logits.shape)==3:\n",
        "        logits = logits[:, -1]\n",
        "    logits = logits.to(torch.float64)\n",
        "    log_probs = logits.log_softmax(dim=-1)\n",
        "    correct_log_probs = log_probs.gather(dim=-1, index=labels[:, None])[:, 0]\n",
        "    return -correct_log_probs.mean()\n",
        "train_logits = model(train_data)\n",
        "train_loss = loss_fn(train_logits, train_labels)\n",
        "print(train_loss)\n",
        "test_logits = model(test_data)\n",
        "test_loss = loss_fn(test_logits, test_labels)\n",
        "print(test_loss)\n",
        "print(\"Uniform loss:\")\n",
        "print(np.log(p))"
      ]
    },
    {
      "cell_type": "markdown",
      "metadata": {
        "id": "iW9Q4bIcIZpg"
      },
      "source": [
        "## Actually Train"
      ]
    },
    {
      "cell_type": "markdown",
      "metadata": {
        "id": "Uj4h2LIRIZpg"
      },
      "source": [
        "**Weird Decision:** Training the model with full batch training rather than stochastic gradient descent. We do this so to make training smoother and reduce the number of slingshots."
      ]
    },
    {
      "cell_type": "code",
      "execution_count": 69,
      "metadata": {
        "colab": {
          "referenced_widgets": [
            "c477d3a6463646deb7cf1de99bb0199a"
          ]
        },
        "id": "UsZLeCMeIZph",
        "outputId": "133f3502-ca28-490c-c030-f60b751dcd7b"
      },
      "outputs": [
        {
          "data": {
            "application/vnd.jupyter.widget-view+json": {
              "model_id": "924484eb4fdf408cbc4f7b434ab7977a",
              "version_major": 2,
              "version_minor": 0
            },
            "text/plain": [
              "  0%|          | 0/20000 [00:00<?, ?it/s]"
            ]
          },
          "metadata": {},
          "output_type": "display_data"
        },
        {
          "name": "stdout",
          "output_type": "stream",
          "text": [
            "Epoch 199 Train Loss 1.6117573939591644e-10 Test Loss nan\n",
            "Epoch 399 Train Loss 1.2212238626515547e-10 Test Loss nan\n",
            "Epoch 599 Train Loss 1.1015247972085319e-10 Test Loss nan\n",
            "Epoch 799 Train Loss 1.0669753968392497e-10 Test Loss nan\n",
            "Epoch 999 Train Loss 1.0704570562440092e-10 Test Loss nan\n",
            "Epoch 1199 Train Loss 1.0935785609499469e-10 Test Loss nan\n",
            "Epoch 1399 Train Loss 1.127734202220664e-10 Test Loss nan\n",
            "Epoch 1599 Train Loss 1.1687517619304787e-10 Test Loss nan\n",
            "Epoch 1799 Train Loss 1.2138875089117208e-10 Test Loss nan\n",
            "Epoch 1999 Train Loss 1.261461305654125e-10 Test Loss nan\n",
            "Epoch 2199 Train Loss 1.3108832536574586e-10 Test Loss nan\n",
            "Epoch 2399 Train Loss 1.3627735975180293e-10 Test Loss nan\n",
            "Epoch 2599 Train Loss 1.4173232955959715e-10 Test Loss nan\n",
            "Epoch 2799 Train Loss 1.4758357497217912e-10 Test Loss nan\n",
            "Epoch 2999 Train Loss 1.5405965390281013e-10 Test Loss nan\n",
            "Epoch 3199 Train Loss 1.613509325927029e-10 Test Loss nan\n",
            "Epoch 3399 Train Loss 1.6978130010544269e-10 Test Loss nan\n",
            "Epoch 3599 Train Loss 1.7952994643711101e-10 Test Loss nan\n",
            "Epoch 3799 Train Loss 1.909465178253999e-10 Test Loss nan\n",
            "Epoch 3999 Train Loss 2.042307063848313e-10 Test Loss nan\n",
            "Epoch 4199 Train Loss 2.1940523467986315e-10 Test Loss nan\n",
            "Epoch 4399 Train Loss 2.364137033807801e-10 Test Loss nan\n",
            "Epoch 4599 Train Loss 2.54919862940941e-10 Test Loss nan\n",
            "Epoch 4799 Train Loss 2.7450330890854624e-10 Test Loss nan\n",
            "Epoch 4999 Train Loss 2.948317885399471e-10 Test Loss nan\n",
            "Epoch 5199 Train Loss 3.156274500197318e-10 Test Loss nan\n",
            "Epoch 5399 Train Loss 3.365273244339812e-10 Test Loss nan\n",
            "Epoch 5599 Train Loss 3.5747397624506237e-10 Test Loss nan\n",
            "Epoch 5799 Train Loss 3.7835038794630055e-10 Test Loss nan\n",
            "Epoch 5999 Train Loss 3.989670814749838e-10 Test Loss nan\n",
            "Epoch 6199 Train Loss 4.1936469099374216e-10 Test Loss nan\n",
            "Epoch 6399 Train Loss 4.3949806743279355e-10 Test Loss nan\n",
            "Epoch 6599 Train Loss 4.592133338808896e-10 Test Loss nan\n",
            "Epoch 6799 Train Loss 4.783098360300077e-10 Test Loss nan\n",
            "Epoch 6999 Train Loss 4.965178637000251e-10 Test Loss nan\n",
            "Epoch 7199 Train Loss 5.131955599532545e-10 Test Loss nan\n",
            "Epoch 7399 Train Loss 5.278559809713049e-10 Test Loss nan\n",
            "Epoch 7599 Train Loss 5.398666697049094e-10 Test Loss nan\n",
            "Epoch 7799 Train Loss 5.487959714425318e-10 Test Loss nan\n",
            "Epoch 7999 Train Loss 5.538563679860543e-10 Test Loss nan\n",
            "Epoch 8199 Train Loss 5.54826628894501e-10 Test Loss nan\n",
            "Epoch 8399 Train Loss 5.515035093397839e-10 Test Loss nan\n",
            "Epoch 8599 Train Loss 5.440681977194846e-10 Test Loss nan\n",
            "Epoch 8799 Train Loss 5.327097280071198e-10 Test Loss nan\n",
            "Epoch 8999 Train Loss 5.180350961371361e-10 Test Loss nan\n",
            "Epoch 9199 Train Loss 5.006048907215523e-10 Test Loss nan\n",
            "Epoch 9399 Train Loss 4.811223270235136e-10 Test Loss nan\n",
            "Epoch 9599 Train Loss 4.6023599733344704e-10 Test Loss nan\n",
            "Epoch 9799 Train Loss 4.385731036448885e-10 Test Loss nan\n",
            "Epoch 9999 Train Loss 4.164395494083239e-10 Test Loss nan\n",
            "Epoch 10199 Train Loss 3.943981436820268e-10 Test Loss nan\n",
            "Epoch 10399 Train Loss 3.7269365363539133e-10 Test Loss nan\n",
            "Epoch 10599 Train Loss 3.515033448779807e-10 Test Loss nan\n",
            "Epoch 10799 Train Loss 3.3118441316414833e-10 Test Loss nan\n",
            "Epoch 10999 Train Loss 3.118038419497795e-10 Test Loss nan\n",
            "Epoch 11199 Train Loss 2.9334764242485547e-10 Test Loss nan\n",
            "Epoch 11399 Train Loss 2.7583787102020344e-10 Test Loss nan\n",
            "Epoch 11599 Train Loss 2.5929628810717345e-10 Test Loss nan\n",
            "Epoch 11799 Train Loss 2.437442839827746e-10 Test Loss nan\n",
            "Epoch 11999 Train Loss 2.2912953013520113e-10 Test Loss nan\n",
            "Epoch 12199 Train Loss 2.154061373461659e-10 Test Loss nan\n",
            "Epoch 12399 Train Loss 2.025991966560704e-10 Test Loss nan\n",
            "Epoch 12599 Train Loss 1.9065038434875036e-10 Test Loss nan\n",
            "Epoch 12799 Train Loss 1.79444089199975e-10 Test Loss nan\n",
            "Epoch 12999 Train Loss 1.6895144541114182e-10 Test Loss nan\n",
            "Epoch 13199 Train Loss 1.5922137681022283e-10 Test Loss nan\n",
            "Epoch 13399 Train Loss 1.5017187492317406e-10 Test Loss nan\n",
            "Epoch 13599 Train Loss 1.4177052123770397e-10 Test Loss nan\n",
            "Epoch 13799 Train Loss 1.33943300885536e-10 Test Loss nan\n",
            "Epoch 13999 Train Loss 1.2669428468444224e-10 Test Loss nan\n",
            "Epoch 14199 Train Loss 1.199449428591737e-10 Test Loss nan\n",
            "Epoch 14399 Train Loss 1.1367129459241301e-10 Test Loss nan\n",
            "Epoch 14599 Train Loss 1.0785120943854772e-10 Test Loss nan\n",
            "Epoch 14799 Train Loss 1.0243724386700879e-10 Test Loss nan\n",
            "Epoch 14999 Train Loss 9.742221843557748e-11 Test Loss nan\n",
            "Epoch 15199 Train Loss 9.280724336728514e-11 Test Loss nan\n",
            "Epoch 15399 Train Loss 8.85417665070878e-11 Test Loss nan\n",
            "Epoch 15599 Train Loss 8.458278521650763e-11 Test Loss nan\n",
            "Epoch 15799 Train Loss 8.089647470073502e-11 Test Loss nan\n",
            "Epoch 15999 Train Loss 7.749415923462298e-11 Test Loss nan\n",
            "Epoch 16199 Train Loss 7.431277815038144e-11 Test Loss nan\n",
            "Epoch 16399 Train Loss 7.137298159626914e-11 Test Loss nan\n",
            "Epoch 16599 Train Loss 6.866744210032609e-11 Test Loss nan\n",
            "Epoch 16799 Train Loss 6.61671458341797e-11 Test Loss nan\n",
            "Epoch 16999 Train Loss 6.385181272391664e-11 Test Loss nan\n",
            "Epoch 17199 Train Loss 6.169938633878375e-11 Test Loss nan\n",
            "Epoch 17399 Train Loss 5.971290128838232e-11 Test Loss nan\n",
            "Epoch 17599 Train Loss 5.7859865045528726e-11 Test Loss nan\n",
            "Epoch 17799 Train Loss 5.613072969221218e-11 Test Loss nan\n",
            "Epoch 17999 Train Loss 5.452697552579944e-11 Test Loss nan\n",
            "Epoch 18199 Train Loss 5.304245931222202e-11 Test Loss nan\n",
            "Epoch 18399 Train Loss 5.165194198138862e-11 Test Loss nan\n",
            "Epoch 18599 Train Loss 5.034654174910327e-11 Test Loss nan\n",
            "Epoch 18799 Train Loss 4.91499433732239e-11 Test Loss nan\n",
            "Epoch 18999 Train Loss 4.804009042299586e-11 Test Loss nan\n",
            "Epoch 19199 Train Loss 4.699958940436807e-11 Test Loss nan\n",
            "Epoch 19399 Train Loss 4.605064477783212e-11 Test Loss nan\n",
            "Epoch 19599 Train Loss 4.5156841228182174e-11 Test Loss nan\n",
            "Epoch 19799 Train Loss 4.432646842066864e-11 Test Loss nan\n",
            "Epoch 19999 Train Loss 4.355464137398368e-11 Test Loss nan\n"
          ]
        }
      ],
      "source": [
        "train_losses = []\n",
        "test_losses = []\n",
        "model_checkpoints = []\n",
        "checkpoint_epochs = []\n",
        "if TRAIN_MODEL:\n",
        "    for epoch in tqdm.tqdm(range(num_epochs)):\n",
        "        train_logits = model(train_data)\n",
        "        train_loss = loss_fn(train_logits, train_labels)\n",
        "        train_loss.backward()\n",
        "        train_losses.append(train_loss.item())\n",
        "\n",
        "        optimizer.step()\n",
        "        optimizer.zero_grad()\n",
        "\n",
        "        with torch.inference_mode():\n",
        "            test_logits = model(test_data)\n",
        "            test_loss = loss_fn(test_logits, test_labels)\n",
        "            test_losses.append(test_loss.item())\n",
        "\n",
        "        if ((epoch+1)%checkpoint_every)==0:\n",
        "            checkpoint_epochs.append(epoch)\n",
        "            model_checkpoints.append(copy.deepcopy(model.state_dict()))\n",
        "            print(f\"Epoch {epoch} Train Loss {train_loss.item()} Test Loss {test_loss.item()}\")"
      ]
    },
    {
      "cell_type": "code",
      "execution_count": 58,
      "metadata": {
        "id": "YhTuoGc5IZph"
      },
      "outputs": [],
      "source": [
        "if TRAIN_MODEL:\n",
        "    torch.save(\n",
        "        {\n",
        "            \"model\":model.state_dict(),\n",
        "            \"config\": model.cfg,\n",
        "            \"checkpoints\": model_checkpoints,\n",
        "            \"checkpoint_epochs\": checkpoint_epochs,\n",
        "            \"test_losses\": test_losses,\n",
        "            \"train_losses\": train_losses,\n",
        "            \"train_indices\": train_indices,\n",
        "            \"test_indices\": test_indices,\n",
        "        },\n",
        "        PTH_LOCATION)"
      ]
    },
    {
      "cell_type": "code",
      "execution_count": 59,
      "metadata": {
        "id": "EzRKi7J7IZph"
      },
      "outputs": [],
      "source": [
        "if not TRAIN_MODEL:\n",
        "    cached_data = torch.load(PTH_LOCATION)\n",
        "    model.load_state_dict(cached_data['model'])\n",
        "    model_checkpoints = cached_data[\"checkpoints\"]\n",
        "    checkpoint_epochs = cached_data[\"checkpoint_epochs\"]\n",
        "    test_losses = cached_data['test_losses']\n",
        "    train_losses = cached_data['train_losses']\n",
        "    train_indices = cached_data[\"train_indices\"]\n",
        "    test_indices = cached_data[\"test_indices\"]"
      ]
    },
    {
      "cell_type": "markdown",
      "metadata": {},
      "source": [
        "# Look at weights"
      ]
    },
    {
      "cell_type": "markdown",
      "metadata": {},
      "source": [
        "## Embedding weights"
      ]
    },
    {
      "cell_type": "code",
      "execution_count": 70,
      "metadata": {},
      "outputs": [
        {
          "name": "stdout",
          "output_type": "stream",
          "text": [
            "tensor([[-0.0720, -0.2544],\n",
            "        [-4.7805,  1.8846],\n",
            "        [-0.5482,  3.7838],\n",
            "        [-0.9309, -2.2795]])\n",
            "torch.Size([4, 2])\n",
            "Norm of token 0: 0.26442626118659973\n",
            "Embedding: [-0.5196898   0.20038074]\n",
            "Norm of token 1: 5.1386213302612305\n",
            "Embedding: [-0.5196898   0.20038074]\n",
            "Norm of token 2: 3.823277235031128\n",
            "Embedding: [-0.5196898   0.20038074]\n",
            "Norm of token 3: 2.462261199951172\n",
            "Embedding: [-0.30749297 -0.84969497]\n",
            "[[-0.59170574 -5.300233   -1.0679014  -1.2384312 ]\n",
            " [-0.05404988  2.085012    3.9841504  -3.129187  ]]\n",
            "Q:  [[-0.9958538  -0.09096714]\n",
            " [-0.09096714  0.9958539 ]]\n",
            "R:  [[ 0.59416926  5.0885897   0.7010468   1.5179496 ]\n",
            " [ 0.          2.5585144   4.0647755  -3.0035567 ]]\n",
            "[[-0.5917057  -5.300232   -1.0679011  -1.2384309 ]\n",
            " [-0.05404988  2.085012    3.9841504  -3.129187  ]]\n",
            "0.901919 63.188689144050905\n",
            "0.901919 63.188689144050905\n"
          ]
        }
      ],
      "source": [
        "from scipy.linalg import qr\n",
        "\n",
        "print(model.embed.W_E.data)\n",
        "print(model.embed.W_E.data.shape)\n",
        "\n",
        "W_E = model.embed.W_E.data.cpu().numpy()\n",
        "pos = model.W_E_pos.data.cpu().numpy()\n",
        "for i in range(W_E.shape[0]):\n",
        "    print(f\"Norm of token {i}: {np.linalg.norm(W_E[i])}\")\n",
        "    index = (4 if i < 3 else 5)\n",
        "    print(f\"Embedding: {pos[index]}\")\n",
        "    W_E[i] += pos[index]\n",
        "\n",
        "\n",
        "# Create a matrix with tensor[0] as the first column\n",
        "ttr = W_E.transpose()\n",
        "print(ttr)\n",
        "\n",
        "# Perform QR decomposition to obtain an orthonormal matrix\n",
        "Q, R = qr(ttr)\n",
        "\n",
        "print(\"Q: \", Q)\n",
        "print(\"R: \", R)\n",
        "print(np.matmul(Q, R))\n",
        "\n",
        "def get_angle(a, b):\n",
        "    return np.arccos(\n",
        "        np.dot(a, b)\n",
        "        / (np.linalg.norm(a) * np.linalg.norm(b))\n",
        "    ) / np.pi * 180\n",
        "\n",
        "dot_product = np.dot(W_E[0], W_E[3])\n",
        "print(dot_product, get_angle(W_E[0], W_E[3]))\n",
        "product2 = np.dot(R[:, 0], R[:, 3])\n",
        "print(product2, get_angle(R[:, 0], R[:, 3]))"
      ]
    },
    {
      "cell_type": "code",
      "execution_count": null,
      "metadata": {},
      "outputs": [],
      "source": []
    },
    {
      "cell_type": "code",
      "execution_count": 71,
      "metadata": {},
      "outputs": [
        {
          "name": "stdout",
          "output_type": "stream",
          "text": [
            "U= [[-0.8476118 -0.5306168]\n",
            " [-0.5306168  0.8476118]] \n",
            "S= [2.10314    0.02481931] \n",
            "V= [[-0.9896885  0.1432365]\n",
            " [ 0.1432365  0.9896885]]\n",
            "U= [[-0.8476118 -0.5306168]\n",
            " [-0.5306168  0.8476118]] \n",
            "S= [2.10314    0.02481931] \n",
            "V= [[-0.9896885  0.1432365]\n",
            " [ 0.1432365  0.9896885]]\n"
          ]
        },
        {
          "data": {
            "application/vnd.jupyter.widget-view+json": {
              "model_id": "26045a98edce461cbff908434184e5a4",
              "version_major": 2,
              "version_minor": 0
            },
            "image/png": "[encoded data removed]",
            "text/html": [
              "\n",
              "            <div style=\"display: inline-block;\">\n",
              "                <div class=\"jupyter-widgets widget-label\" style=\"text-align: center;\">\n",
              "                    Figure\n",
              "                </div>\n",
              "                <img src='data:image/png;base64,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' width=1500.0/>\n",
              "            </div>\n",
              "        "
            ],
            "text/plain": [
              "Canvas(toolbar=Toolbar(toolitems=[('Home', 'Reset original view', 'home', 'home'), ('Back', 'Back to previous …"
            ]
          },
          "metadata": {},
          "output_type": "display_data"
        }
      ],
      "source": [
        "import matplotlib.pyplot as plt\n",
        "import numpy as n\n",
        "\n",
        "%matplotlib widget\n",
        "\n",
        "plt.close('all')\n",
        "\n",
        "def plot_tensor(fig, tensor, position = 111, title = \"\"):\n",
        "    ax = fig.add_subplot(position)\n",
        "    ax.set_title(title)\n",
        "\n",
        "    # Define the origin\n",
        "    origin = np.zeros((4, 2))\n",
        "\n",
        "    # Plot the arrows\n",
        "    for i in range(tensor.shape[0]):\n",
        "        ax.quiver(origin[i, 0], origin[i, 1], \n",
        "                tensor[i, 0], tensor[i, 1],\n",
        "                angles='xy', scale_units='xy', scale=1)\n",
        "\n",
        "        ax.text(tensor[i, 0], tensor[i, 1], f\"Embedding {i}\", color='red')\n",
        "    W_Q = model.blocks[0].attn.W_Q.data[0]\n",
        "    W_K = model.blocks[0].attn.W_K.data[0].transpose(0, 1)\n",
        "    W_QK = torch.matmul(W_Q, W_K)\n",
        "    U, S, V = np.linalg.svd(W_QK.cpu())\n",
        "    print(\"U=\", U, \"\\nS=\", S, \"\\nV=\", V)\n",
        "    \n",
        "    ax.quiver(origin[i, 0], origin[i, 1], U[0, 0], U[0, 1], angles='xy', scale_units='xy', scale=1, color='blue')\n",
        "    ax.text(U[0, 0], U[0, 1], f\"U\", color='blue')\n",
        "    ax.quiver(origin[i, 0], origin[i, 1], V[0, 0], V[0, 1], angles='xy', scale_units='xy', scale=1, color='blue')\n",
        "    ax.text(V[0, 0], V[0, 1], f\"V\", color='blue')\n",
        "\n",
        "    # Set labels\n",
        "    ax.set_xlabel('X')\n",
        "    ax.set_ylabel('Y')\n",
        "    ax.set_xlim(min(tensor[:, 0].min(), 0)*1.2, max(tensor[:, 0].max(), 0) * 1.2)\n",
        "    ax.set_aspect('equal')\n",
        "    ax.set_ylim(min(tensor[:, 1].min(), 0)*1.2, max(tensor[:, 1].max(), 0) * 1.2)\n",
        "\n",
        "fig = plt.figure(figsize=(15, 5))\n",
        "plot_tensor(fig, W_E, 121, \"original\")\n",
        "plot_tensor(fig, R.transpose(), 122, \"rotated\")\n",
        "plt.show()"
      ]
    },
    {
      "cell_type": "code",
      "execution_count": null,
      "metadata": {},
      "outputs": [],
      "source": []
    },
    {
      "cell_type": "markdown",
      "metadata": {},
      "source": [
        "# Unembedding weights"
      ]
    },
    {
      "cell_type": "code",
      "execution_count": 72,
      "metadata": {},
      "outputs": [
        {
          "name": "stdout",
          "output_type": "stream",
          "text": [
            "[[-1.3637371   1.2962599  -0.17996426]\n",
            " [-0.7882034  -0.1209328   3.039617  ]]\n",
            "Q_U= [[-0.8657918 -0.5004044]\n",
            " [-0.5004044  0.8657918]]\n",
            "R_U= [[ 1.5751328 -1.0617759 -1.3652264]\n",
            " [ 0.        -0.7533569  2.7217302]]\n",
            "W_E= [[-0.59170574 -0.05404988]\n",
            " [-5.300233    2.085012  ]\n",
            " [-1.0679014   3.9841504 ]\n",
            " [-1.2384312  -3.129187  ]]\n",
            "W_U= [[-1.3637371   1.2962599  -0.17996426]\n",
            " [-0.7882034  -0.1209328   3.039617  ]]\n",
            "[[ 0.8495334  -0.760468   -0.05780505]\n",
            " [ 5.5847106  -7.1226254   7.2914906 ]\n",
            " [-1.6839843  -1.8660922  12.302476  ]\n",
            " [ 4.1553307  -1.2269074  -9.288657  ]]\n",
            "2\n"
          ]
        }
      ],
      "source": [
        "W_U = model.unembed.W_U.data.cpu().numpy()\n",
        "\n",
        "print(W_U)\n",
        "\n",
        "Qrev, Rrev = qr(W_U)\n",
        "\n",
        "print(\"Q_U=\", Qrev)\n",
        "print(\"R_U=\", Rrev)\n",
        "\n",
        "print(\"W_E=\", W_E)\n",
        "print(\"W_U=\", W_U)\n",
        "\n",
        "product = np.matmul(W_E, W_U)\n",
        "print(product)\n",
        "\n",
        "rank = np.linalg.matrix_rank(product)\n",
        "print(rank)"
      ]
    },
    {
      "cell_type": "markdown",
      "metadata": {},
      "source": [
        "# Activations"
      ]
    },
    {
      "cell_type": "code",
      "execution_count": 80,
      "metadata": {},
      "outputs": [
        {
          "name": "stdout",
          "output_type": "stream",
          "text": [
            "tensor([[[  0.1633,   0.8405,  -3.5758],\n",
            "         [ 13.6333,  -2.5324, -35.8692]],\n",
            "\n",
            "        [[-10.5965,   8.0081,   6.0587],\n",
            "         [-11.4876,  14.3059, -13.7514]],\n",
            "\n",
            "        [[-29.7359,  10.6397,  59.7509],\n",
            "         [-23.1916,  11.6191,  34.6028]]], grad_fn=<AddBackward0>)\n"
          ]
        }
      ],
      "source": [
        "input = torch.tensor([[0,3], [1,3], [2,3]])\n",
        "logits, cache = model.run_with_cache(input)\n",
        "print(logits)"
      ]
    },
    {
      "cell_type": "code",
      "execution_count": 81,
      "metadata": {},
      "outputs": [
        {
          "name": "stdout",
          "output_type": "stream",
          "text": [
            "tensor([[[  0.1633,   0.8405,  -3.5758],\n",
            "         [ 13.6333,  -2.5324, -35.8692]],\n",
            "\n",
            "        [[-10.5965,   8.0081,   6.0587],\n",
            "         [-11.4876,  14.3059, -13.7514]],\n",
            "\n",
            "        [[-29.7359,  10.6397,  59.7509],\n",
            "         [-23.1916,  11.6191,  34.6028]]], grad_fn=<AddBackward0>)\n"
          ]
        }
      ],
      "source": [
        "print(logits)"
      ]
    },
    {
      "cell_type": "code",
      "execution_count": 82,
      "metadata": {},
      "outputs": [
        {
          "data": {
            "text/plain": [
              "ActivationCache with keys ['hook_embed', 'hook_pos_embed', 'blocks.0.hook_resid_pre', 'blocks.0.attn.hook_q', 'blocks.0.attn.hook_k', 'blocks.0.attn.hook_v', 'blocks.0.attn.hook_attn_scores', 'blocks.0.attn.hook_pattern', 'blocks.0.attn.hook_z', 'blocks.0.hook_attn_out', 'blocks.0.hook_resid_mid', 'blocks.0.mlp.hook_pre', 'blocks.0.mlp.hook_post', 'blocks.0.hook_mlp_out', 'blocks.0.hook_resid_post']"
            ]
          },
          "execution_count": 82,
          "metadata": {},
          "output_type": "execute_result"
        }
      ],
      "source": [
        "cache"
      ]
    },
    {
      "cell_type": "code",
      "execution_count": 83,
      "metadata": {},
      "outputs": [
        {
          "data": {
            "text/plain": [
              "tensor([[[-0.5917, -0.0540],\n",
              "         [-1.2384, -3.1292]],\n",
              "\n",
              "        [[-5.3002,  2.0850],\n",
              "         [-1.2384, -3.1292]],\n",
              "\n",
              "        [[-1.0679,  3.9842],\n",
              "         [-1.2384, -3.1292]]])"
            ]
          },
          "execution_count": 83,
          "metadata": {},
          "output_type": "execute_result"
        }
      ],
      "source": [
        "cache.cache_dict['hook_embed']"
      ]
    },
    {
      "cell_type": "code",
      "execution_count": 84,
      "metadata": {},
      "outputs": [
        {
          "name": "stdout",
          "output_type": "stream",
          "text": [
            "W_K:  tensor([[ 0.8729, -1.1089],\n",
            "        [-0.0533,  0.2784]])\n",
            "W_Q:  tensor([[ 1.0494, -0.7632],\n",
            "        [ 0.8380, -0.3390]])\n",
            "W_K transposed:  tensor([[ 0.8729, -0.0533],\n",
            "        [-1.1089,  0.2784]])\n",
            "tensor([[ 1.7624, -0.2684],\n",
            "        [ 1.1075, -0.1390]])\n",
            "tensor([[-1.1785,  1.7546],\n",
            "        [ 2.3454,  4.5062]])\n",
            "U:  [[-0.8476118 -0.5306168]\n",
            " [-0.5306168  0.8476118]]\n",
            "S:  [2.10314    0.02481931]\n",
            "V:  [[-0.9896885  0.1432365]\n",
            " [ 0.1432365  0.9896885]]\n",
            "S_rank_1:  [[2.10314012 0.        ]\n",
            " [0.         0.        ]]\n",
            "W_QK_rank_1:  [[ 1.76426462 -0.25534003]\n",
            " [ 1.1044543  -0.15984643]]\n"
          ]
        }
      ],
      "source": [
        "W_K = model.blocks[0].attn.W_K.data[0].cpu()\n",
        "W_Q = model.blocks[0].attn.W_Q.data[0].cpu()\n",
        "print(\"W_K: \", W_K)\n",
        "W_K_T = torch.transpose(W_K, 0, 1)\n",
        "W_QK = torch.matmul(W_Q, W_K_T)\n",
        "print(\"W_Q: \", W_Q)\n",
        "print(\"W_K transposed: \", W_K_T)\n",
        "print(W_QK)\n",
        "W_V = model.blocks[0].attn.W_V.data[0].cpu()\n",
        "W_O = model.blocks[0].attn.W_O.data[0].cpu()\n",
        "W_VO = torch.matmul(W_V, W_O)\n",
        "print(W_VO)\n",
        "W_E = model.embed.W_E.data.cpu().numpy()\n",
        "U, S, V = np.linalg.svd(W_QK)\n",
        "print(\"U: \", U)\n",
        "print(\"S: \", S)\n",
        "print(\"V: \", V)\n",
        "S_rank_1 = np.zeros((2, 2))\n",
        "S_rank_1[0, 0] = S[0]\n",
        "print(\"S_rank_1: \", S_rank_1)\n",
        "W_QK_rank_1 = np.matmul(np.matmul(U, S_rank_1), V)\n",
        "print(\"W_QK_rank_1: \", W_QK_rank_1)"
      ]
    },
    {
      "cell_type": "code",
      "execution_count": 85,
      "metadata": {},
      "outputs": [
        {
          "data": {
            "text/plain": [
              "{'hook_embed': tensor([[[-0.5917, -0.0540],\n",
              "          [-1.2384, -3.1292]],\n",
              " \n",
              "         [[-5.3002,  2.0850],\n",
              "          [-1.2384, -3.1292]],\n",
              " \n",
              "         [[-1.0679,  3.9842],\n",
              "          [-1.2384, -3.1292]]]),\n",
              " 'hook_pos_embed': tensor([[[-0.5197,  0.2004],\n",
              "          [-0.3075, -0.8497]],\n",
              " \n",
              "         [[-0.5197,  0.2004],\n",
              "          [-0.3075, -0.8497]],\n",
              " \n",
              "         [[-0.5197,  0.2004],\n",
              "          [-0.3075, -0.8497]]]),\n",
              " 'blocks.0.hook_resid_pre': tensor([[[-1.1114,  0.1463],\n",
              "          [-1.5459, -3.9789]],\n",
              " \n",
              "         [[-5.8199,  2.2854],\n",
              "          [-1.5459, -3.9789]],\n",
              " \n",
              "         [[-1.5876,  4.1845],\n",
              "          [-1.5459, -3.9789]]]),\n",
              " 'blocks.0.attn.hook_q': tensor([[[[-1.0437,  0.7986]],\n",
              " \n",
              "          [[-4.9566,  2.5289]]],\n",
              " \n",
              " \n",
              "         [[[-4.1923,  3.6671]],\n",
              " \n",
              "          [[-4.9566,  2.5289]]],\n",
              " \n",
              " \n",
              "         [[[ 1.8406, -0.2071]],\n",
              " \n",
              "          [[-4.9566,  2.5289]]]]),\n",
              " 'blocks.0.attn.hook_k': tensor([[[[-0.9780,  1.2731]],\n",
              " \n",
              "          [[-1.1375,  0.6066]]],\n",
              " \n",
              " \n",
              "         [[[-5.2021,  7.0897]],\n",
              " \n",
              "          [[-1.1375,  0.6066]]],\n",
              " \n",
              " \n",
              "         [[[-1.6088,  2.9253]],\n",
              " \n",
              "          [[-1.1375,  0.6066]]]]),\n",
              " 'blocks.0.attn.hook_v': tensor([[[[-1.4179,  0.8266]],\n",
              " \n",
              "          [[ 4.5363,  9.3056]]],\n",
              " \n",
              " \n",
              "         [[[-9.7891,  1.3663]],\n",
              " \n",
              "          [[ 4.5363,  9.3056]]],\n",
              " \n",
              " \n",
              "         [[[-8.2120, -6.5715]],\n",
              " \n",
              "          [[ 4.5363,  9.3056]]]]),\n",
              " 'blocks.0.attn.hook_attn_scores': tensor([[[[ 1.4407,    -inf],\n",
              "           [ 5.7042,  5.0715]]],\n",
              " \n",
              " \n",
              "         [[[33.8051,    -inf],\n",
              "           [30.9106,  5.0715]]],\n",
              " \n",
              " \n",
              "         [[[-2.5221,    -inf],\n",
              "           [10.8696,  5.0715]]]]),\n",
              " 'blocks.0.attn.hook_pattern': tensor([[[[1.0000e+00, 0.0000e+00],\n",
              "           [6.5311e-01, 3.4689e-01]]],\n",
              " \n",
              " \n",
              "         [[[1.0000e+00, 0.0000e+00],\n",
              "           [1.0000e+00, 6.0011e-12]]],\n",
              " \n",
              " \n",
              "         [[[1.0000e+00, 0.0000e+00],\n",
              "           [9.9698e-01, 3.0241e-03]]]]),\n",
              " 'blocks.0.attn.hook_z': tensor([[[[-1.4179,  0.8266]],\n",
              " \n",
              "          [[ 0.6475,  3.7679]]],\n",
              " \n",
              " \n",
              "         [[[-9.7891,  1.3663]],\n",
              " \n",
              "          [[-9.7891,  1.3663]]],\n",
              " \n",
              " \n",
              "         [[[-8.2120, -6.5715]],\n",
              " \n",
              "          [[-8.1735, -6.5235]]]]),\n",
              " 'blocks.0.hook_attn_out': tensor([[[ 1.6530, -1.2907],\n",
              "          [-1.5256, -8.0035]],\n",
              " \n",
              "         [[12.2191,  0.0867],\n",
              "          [12.2191,  0.0867]],\n",
              " \n",
              "         [[11.6853, 16.0707],\n",
              "          [11.6272, 15.9597]]]),\n",
              " 'blocks.0.hook_resid_mid': tensor([[[  0.5416,  -1.1443],\n",
              "          [ -3.0715, -11.9824]],\n",
              " \n",
              "         [[  6.3992,   2.3721],\n",
              "          [ 10.6732,  -3.8921]],\n",
              " \n",
              "         [[ 10.0977,  20.2552],\n",
              "          [ 10.0813,  11.9808]]]),\n",
              " 'blocks.0.mlp.hook_pre': tensor([], size=(3, 2, 0)),\n",
              " 'blocks.0.mlp.hook_post': tensor([], size=(3, 2, 0)),\n",
              " 'blocks.0.hook_mlp_out': tensor([[[0., 0.],\n",
              "          [0., 0.]],\n",
              " \n",
              "         [[0., 0.],\n",
              "          [0., 0.]],\n",
              " \n",
              "         [[0., 0.],\n",
              "          [0., 0.]]]),\n",
              " 'blocks.0.hook_resid_post': tensor([[[  0.5416,  -1.1443],\n",
              "          [ -3.0715, -11.9824]],\n",
              " \n",
              "         [[  6.3992,   2.3721],\n",
              "          [ 10.6732,  -3.8921]],\n",
              " \n",
              "         [[ 10.0977,  20.2552],\n",
              "          [ 10.0813,  11.9808]]])}"
            ]
          },
          "execution_count": 85,
          "metadata": {},
          "output_type": "execute_result"
        }
      ],
      "source": [
        "cache.cache_dict"
      ]
    }
  ],
  "metadata": {
    "colab": {
      "provenance": []
    },
    "kernelspec": {
      "display_name": "base",
      "language": "python",
      "name": "python3"
    },
    "language_info": {
      "codemirror_mode": {
        "name": "ipython",
        "version": 3
      },
      "file_extension": ".py",
      "mimetype": "text/x-python",
      "name": "python",
      "nbconvert_exporter": "python",
      "pygments_lexer": "ipython3",
      "version": "3.10.12"
    },
    "orig_nbformat": 4,
    "vscode": {
      "interpreter": {
        "hash": "8859a5491331dba93123a91c2831400aced845b502848170e05fcb48b2c144be"
      }
    }
  },
  "nbformat": 4,
  "nbformat_minor": 0
}
