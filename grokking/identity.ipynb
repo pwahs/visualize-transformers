{
  "cells": [
    {
      "cell_type": "markdown",
      "metadata": {},
      "source": [
        "# Interpreting Identity"
      ]
    },
    {
      "cell_type": "markdown",
      "metadata": {
        "id": "WBvIU6zdIZpa"
      },
      "source": [
        "# Setup\n",
        "(No need to read)"
      ]
    },
    {
      "cell_type": "code",
      "execution_count": 1,
      "metadata": {
        "id": "ssx2pnTOIZpa"
      },
      "outputs": [],
      "source": [
        "TRAIN_MODEL = False"
      ]
    },
    {
      "cell_type": "code",
      "execution_count": 2,
      "metadata": {
        "id": "7Jfz-lAWIZpb",
        "outputId": "48df1c71-5bc3-4a14-9a34-1af5c16786a4"
      },
      "outputs": [
        {
          "name": "stdout",
          "output_type": "stream",
          "text": [
            "Running as a Jupyter notebook - intended for development only!\n"
          ]
        },
        {
          "name": "stderr",
          "output_type": "stream",
          "text": [
            "/tmp/ipykernel_9028/1878011034.py:22: DeprecationWarning: `magic(...)` is deprecated since IPython 0.13 (warning added in 8.1), use run_line_magic(magic_name, parameter_s).\n",
            "  ipython.magic(\"load_ext autoreload\")\n",
            "/tmp/ipykernel_9028/1878011034.py:23: DeprecationWarning: `magic(...)` is deprecated since IPython 0.13 (warning added in 8.1), use run_line_magic(magic_name, parameter_s).\n",
            "  ipython.magic(\"autoreload 2\")\n",
            "/tmp/ipykernel_9028/1878011034.py:24: DeprecationWarning: `magic(...)` is deprecated since IPython 0.13 (warning added in 8.1), use run_line_magic(magic_name, parameter_s).\n",
            "  ipython.magic(\"pip install ipympl\")\n"
          ]
        },
        {
          "name": "stdout",
          "output_type": "stream",
          "text": [
            "Requirement already satisfied: ipympl in /home/philippw/Stuff/programming/mechint/getting_started/.venv/lib/python3.10/site-packages (0.9.4)\n",
            "Requirement already satisfied: ipython-genutils in /home/philippw/Stuff/programming/mechint/getting_started/.venv/lib/python3.10/site-packages (from ipympl) (0.2.0)\n",
            "Requirement already satisfied: ipython<9 in /home/philippw/Stuff/programming/mechint/getting_started/.venv/lib/python3.10/site-packages (from ipympl) (8.22.1)\n",
            "Requirement already satisfied: ipywidgets<9,>=7.6.0 in /home/philippw/Stuff/programming/mechint/getting_started/.venv/lib/python3.10/site-packages (from ipympl) (8.1.5)\n",
            "Requirement already satisfied: matplotlib<4,>=3.4.0 in /home/philippw/Stuff/programming/mechint/getting_started/.venv/lib/python3.10/site-packages (from ipympl) (3.8.3)\n",
            "Requirement already satisfied: numpy in /home/philippw/Stuff/programming/mechint/getting_started/.venv/lib/python3.10/site-packages (from ipympl) (1.26.4)\n",
            "Requirement already satisfied: pillow in /home/philippw/Stuff/programming/mechint/getting_started/.venv/lib/python3.10/site-packages (from ipympl) (10.2.0)\n",
            "Requirement already satisfied: traitlets<6 in /home/philippw/Stuff/programming/mechint/getting_started/.venv/lib/python3.10/site-packages (from ipympl) (5.14.1)\n",
            "Requirement already satisfied: decorator in /home/philippw/Stuff/programming/mechint/getting_started/.venv/lib/python3.10/site-packages (from ipython<9->ipympl) (5.1.1)\n",
            "Requirement already satisfied: jedi>=0.16 in /home/philippw/Stuff/programming/mechint/getting_started/.venv/lib/python3.10/site-packages (from ipython<9->ipympl) (0.19.1)\n",
            "Requirement already satisfied: matplotlib-inline in /home/philippw/Stuff/programming/mechint/getting_started/.venv/lib/python3.10/site-packages (from ipython<9->ipympl) (0.1.6)\n",
            "Requirement already satisfied: prompt-toolkit<3.1.0,>=3.0.41 in /home/philippw/Stuff/programming/mechint/getting_started/.venv/lib/python3.10/site-packages (from ipython<9->ipympl) (3.0.43)\n",
            "Requirement already satisfied: pygments>=2.4.0 in /home/philippw/Stuff/programming/mechint/getting_started/.venv/lib/python3.10/site-packages (from ipython<9->ipympl) (2.17.2)\n",
            "Requirement already satisfied: stack-data in /home/philippw/Stuff/programming/mechint/getting_started/.venv/lib/python3.10/site-packages (from ipython<9->ipympl) (0.6.3)\n",
            "Requirement already satisfied: exceptiongroup in /home/philippw/Stuff/programming/mechint/getting_started/.venv/lib/python3.10/site-packages (from ipython<9->ipympl) (1.2.0)\n",
            "Requirement already satisfied: pexpect>4.3 in /home/philippw/Stuff/programming/mechint/getting_started/.venv/lib/python3.10/site-packages (from ipython<9->ipympl) (4.9.0)\n",
            "Requirement already satisfied: comm>=0.1.3 in /home/philippw/Stuff/programming/mechint/getting_started/.venv/lib/python3.10/site-packages (from ipywidgets<9,>=7.6.0->ipympl) (0.2.1)\n",
            "Requirement already satisfied: widgetsnbextension~=4.0.12 in /home/philippw/Stuff/programming/mechint/getting_started/.venv/lib/python3.10/site-packages (from ipywidgets<9,>=7.6.0->ipympl) (4.0.13)\n",
            "Requirement already satisfied: jupyterlab-widgets~=3.0.12 in /home/philippw/Stuff/programming/mechint/getting_started/.venv/lib/python3.10/site-packages (from ipywidgets<9,>=7.6.0->ipympl) (3.0.13)\n",
            "Requirement already satisfied: contourpy>=1.0.1 in /home/philippw/Stuff/programming/mechint/getting_started/.venv/lib/python3.10/site-packages (from matplotlib<4,>=3.4.0->ipympl) (1.2.0)\n",
            "Requirement already satisfied: cycler>=0.10 in /home/philippw/Stuff/programming/mechint/getting_started/.venv/lib/python3.10/site-packages (from matplotlib<4,>=3.4.0->ipympl) (0.12.1)\n",
            "Requirement already satisfied: fonttools>=4.22.0 in /home/philippw/Stuff/programming/mechint/getting_started/.venv/lib/python3.10/site-packages (from matplotlib<4,>=3.4.0->ipympl) (4.50.0)\n",
            "Requirement already satisfied: kiwisolver>=1.3.1 in /home/philippw/Stuff/programming/mechint/getting_started/.venv/lib/python3.10/site-packages (from matplotlib<4,>=3.4.0->ipympl) (1.4.5)\n",
            "Requirement already satisfied: packaging>=20.0 in /home/philippw/Stuff/programming/mechint/getting_started/.venv/lib/python3.10/site-packages (from matplotlib<4,>=3.4.0->ipympl) (23.2)\n",
            "Requirement already satisfied: pyparsing>=2.3.1 in /home/philippw/Stuff/programming/mechint/getting_started/.venv/lib/python3.10/site-packages (from matplotlib<4,>=3.4.0->ipympl) (3.1.2)\n",
            "Requirement already satisfied: python-dateutil>=2.7 in /home/philippw/Stuff/programming/mechint/getting_started/.venv/lib/python3.10/site-packages (from matplotlib<4,>=3.4.0->ipympl) (2.8.2)\n",
            "Requirement already satisfied: parso<0.9.0,>=0.8.3 in /home/philippw/Stuff/programming/mechint/getting_started/.venv/lib/python3.10/site-packages (from jedi>=0.16->ipython<9->ipympl) (0.8.3)\n",
            "Requirement already satisfied: ptyprocess>=0.5 in /home/philippw/Stuff/programming/mechint/getting_started/.venv/lib/python3.10/site-packages (from pexpect>4.3->ipython<9->ipympl) (0.7.0)\n",
            "Requirement already satisfied: wcwidth in /home/philippw/Stuff/programming/mechint/getting_started/.venv/lib/python3.10/site-packages (from prompt-toolkit<3.1.0,>=3.0.41->ipython<9->ipympl) (0.2.13)\n",
            "Requirement already satisfied: six>=1.5 in /home/philippw/Stuff/programming/mechint/getting_started/.venv/lib/python3.10/site-packages (from python-dateutil>=2.7->matplotlib<4,>=3.4.0->ipympl) (1.16.0)\n",
            "Requirement already satisfied: executing>=1.2.0 in /home/philippw/Stuff/programming/mechint/getting_started/.venv/lib/python3.10/site-packages (from stack-data->ipython<9->ipympl) (2.0.1)\n",
            "Requirement already satisfied: asttokens>=2.1.0 in /home/philippw/Stuff/programming/mechint/getting_started/.venv/lib/python3.10/site-packages (from stack-data->ipython<9->ipympl) (2.4.1)\n",
            "Requirement already satisfied: pure-eval in /home/philippw/Stuff/programming/mechint/getting_started/.venv/lib/python3.10/site-packages (from stack-data->ipython<9->ipympl) (0.2.2)\n",
            "\n",
            "\u001b[1m[\u001b[0m\u001b[34;49mnotice\u001b[0m\u001b[1;39;49m]\u001b[0m\u001b[39;49m A new release of pip is available: \u001b[0m\u001b[31;49m24.0\u001b[0m\u001b[39;49m -> \u001b[0m\u001b[32;49m24.2\u001b[0m\n",
            "\u001b[1m[\u001b[0m\u001b[34;49mnotice\u001b[0m\u001b[1;39;49m]\u001b[0m\u001b[39;49m To update, run: \u001b[0m\u001b[32;49mpip install --upgrade pip\u001b[0m\n",
            "Note: you may need to restart the kernel to use updated packages.\n"
          ]
        },
        {
          "name": "stderr",
          "output_type": "stream",
          "text": [
            "/tmp/ipykernel_9028/1878011034.py:25: DeprecationWarning: `magic(...)` is deprecated since IPython 0.13 (warning added in 8.1), use run_line_magic(magic_name, parameter_s).\n",
            "  ipython.magic(\"pip install scipy\")\n"
          ]
        },
        {
          "name": "stdout",
          "output_type": "stream",
          "text": [
            "Requirement already satisfied: scipy in /home/philippw/Stuff/programming/mechint/getting_started/.venv/lib/python3.10/site-packages (1.14.1)\n",
            "Requirement already satisfied: numpy<2.3,>=1.23.5 in /home/philippw/Stuff/programming/mechint/getting_started/.venv/lib/python3.10/site-packages (from scipy) (1.26.4)\n",
            "\n",
            "\u001b[1m[\u001b[0m\u001b[34;49mnotice\u001b[0m\u001b[1;39;49m]\u001b[0m\u001b[39;49m A new release of pip is available: \u001b[0m\u001b[31;49m24.0\u001b[0m\u001b[39;49m -> \u001b[0m\u001b[32;49m24.2\u001b[0m\n",
            "\u001b[1m[\u001b[0m\u001b[34;49mnotice\u001b[0m\u001b[1;39;49m]\u001b[0m\u001b[39;49m To update, run: \u001b[0m\u001b[32;49mpip install --upgrade pip\u001b[0m\n",
            "Note: you may need to restart the kernel to use updated packages.\n"
          ]
        }
      ],
      "source": [
        "# Janky code to do different setup when run in a Colab notebook vs VSCode\n",
        "import os\n",
        "\n",
        "DEVELOPMENT_MODE = True\n",
        "IN_GITHUB = os.getenv(\"GITHUB_ACTIONS\") == \"true\"\n",
        "try:\n",
        "    import google.colab\n",
        "    IN_COLAB = True\n",
        "    print(\"Running as a Colab notebook\")\n",
        "\n",
        "    # PySvelte is an unmaintained visualization library, use it as a backup if circuitsvis isn't working\n",
        "    # # Install another version of node that makes PySvelte work way faster\n",
        "    # !curl -fsSL https://deb.nodesource.com/setup_16.x | sudo -E bash -; sudo apt-get install -y nodejs\n",
        "    # %pip install git+https://github.com/neelnanda-io/PySvelte.git\n",
        "except:\n",
        "    IN_COLAB = False\n",
        "    print(\"Running as a Jupyter notebook - intended for development only!\")\n",
        "    from IPython import get_ipython\n",
        "\n",
        "    ipython = get_ipython()\n",
        "    # Code to automatically update the HookedTransformer code as its edited without restarting the kernel\n",
        "    ipython.magic(\"load_ext autoreload\")\n",
        "    ipython.magic(\"autoreload 2\")\n",
        "    ipython.magic(\"pip install ipympl\")\n",
        "    ipython.magic(\"pip install scipy\")\n",
        "\n",
        "if IN_COLAB or IN_GITHUB:\n",
        "    %pip install transformer_lens\n",
        "    %pip install circuitsvis\n",
        "    %pip install ipympl"
      ]
    },
    {
      "cell_type": "code",
      "execution_count": 3,
      "metadata": {
        "id": "caNlrFAnIZpc",
        "outputId": "b116f2ef-8c45-4d6b-a408-b86670d5b807"
      },
      "outputs": [
        {
          "name": "stdout",
          "output_type": "stream",
          "text": [
            "Using renderer: notebook_connected\n"
          ]
        }
      ],
      "source": [
        "# Plotly needs a different renderer for VSCode/Notebooks vs Colab argh\n",
        "import plotly.io as pio\n",
        "if IN_COLAB or not DEVELOPMENT_MODE:\n",
        "    pio.renderers.default = \"colab\"\n",
        "else:\n",
        "    pio.renderers.default = \"notebook_connected\"\n",
        "print(f\"Using renderer: {pio.renderers.default}\")"
      ]
    },
    {
      "cell_type": "code",
      "execution_count": 4,
      "metadata": {
        "id": "bakRjAcIIZpc"
      },
      "outputs": [],
      "source": [
        "pio.templates['plotly'].layout.xaxis.title.font.size = 20\n",
        "pio.templates['plotly'].layout.yaxis.title.font.size = 20\n",
        "pio.templates['plotly'].layout.title.font.size = 30"
      ]
    },
    {
      "cell_type": "code",
      "execution_count": 5,
      "metadata": {
        "id": "i8GCNEdpIZpc"
      },
      "outputs": [],
      "source": [
        "# Import stuff\n",
        "import torch\n",
        "import torch.nn as nn\n",
        "import torch.nn.functional as F\n",
        "import torch.optim as optim\n",
        "import numpy as np\n",
        "import einops\n",
        "from fancy_einsum import einsum\n",
        "import os\n",
        "import tqdm.auto as tqdm\n",
        "import random\n",
        "from pathlib import Path\n",
        "import plotly.express as px\n",
        "from torch.utils.data import DataLoader\n",
        "\n",
        "from typing import List, Union, Optional\n",
        "from functools import partial\n",
        "import copy\n",
        "\n",
        "import itertools\n",
        "from transformers import AutoModelForCausalLM, AutoConfig, AutoTokenizer\n",
        "import dataclasses\n",
        "import datasets\n",
        "from IPython.display import HTML"
      ]
    },
    {
      "cell_type": "code",
      "execution_count": 6,
      "metadata": {
        "id": "KxZBfCTlIZpd"
      },
      "outputs": [],
      "source": [
        "import transformer_lens\n",
        "import transformer_lens.utils as utils\n",
        "from transformer_lens.hook_points import (\n",
        "    HookedRootModule,\n",
        "    HookPoint,\n",
        ")  # Hooking utilities\n",
        "from transformer_lens import HookedTransformer, HookedTransformerConfig, FactoredMatrix, ActivationCache\n",
        "\n",
        "\n",
        "device = \"cuda\" if torch.cuda.is_available() else \"cpu\""
      ]
    },
    {
      "cell_type": "markdown",
      "metadata": {
        "id": "0iC52U60IZpd"
      },
      "source": [
        "Plotting helper functions:"
      ]
    },
    {
      "cell_type": "code",
      "execution_count": 7,
      "metadata": {
        "id": "hvpC2mPgIZpd"
      },
      "outputs": [],
      "source": [
        "def imshow(tensor, renderer=None, xaxis=\"\", yaxis=\"\", **kwargs):\n",
        "    px.imshow(utils.to_numpy(tensor), color_continuous_midpoint=0.0, color_continuous_scale=\"RdBu\", labels={\"x\":xaxis, \"y\":yaxis}, **kwargs).show(renderer)\n",
        "\n",
        "def line(tensor, renderer=None, xaxis=\"\", yaxis=\"\", **kwargs):\n",
        "    px.line(utils.to_numpy(tensor), labels={\"x\":xaxis, \"y\":yaxis}, **kwargs).show(renderer)\n",
        "\n",
        "def scatter(x, y, xaxis=\"\", yaxis=\"\", caxis=\"\", renderer=None, **kwargs):\n",
        "    x = utils.to_numpy(x)\n",
        "    y = utils.to_numpy(y)\n",
        "    px.scatter(y=y, x=x, labels={\"x\":xaxis, \"y\":yaxis, \"color\":caxis}, **kwargs).show(renderer)"
      ]
    },
    {
      "cell_type": "code",
      "execution_count": 8,
      "metadata": {
        "id": "dFCGZobRIZpe"
      },
      "outputs": [],
      "source": [
        "# Define the location to save the model, using a relative path\n",
        "PTH_LOCATION = \"workspace/_scratch/identity.pth\"\n",
        "\n",
        "# Create the directory if it does not exist\n",
        "os.makedirs(Path(PTH_LOCATION).parent, exist_ok=True)"
      ]
    },
    {
      "cell_type": "markdown",
      "metadata": {
        "id": "7M2Nzu7EIZpe"
      },
      "source": [
        "# Model Training"
      ]
    },
    {
      "cell_type": "markdown",
      "metadata": {
        "id": "vOckI2-GIZpe"
      },
      "source": [
        "## Config"
      ]
    },
    {
      "cell_type": "code",
      "execution_count": 9,
      "metadata": {
        "id": "_2OXlPG-IZpe"
      },
      "outputs": [],
      "source": [
        "p = 3\n",
        "frac_train = 1\n",
        "\n",
        "# Optimizer config\n",
        "lr = 1e-3\n",
        "wd = 1e-2\n",
        "betas = (0.9, 0.999)\n",
        "\n",
        "num_epochs = 20000\n",
        "checkpoint_every = 200\n",
        "\n",
        "DATA_SEED = 598"
      ]
    },
    {
      "cell_type": "markdown",
      "metadata": {
        "id": "kT7xY9WsIZpe"
      },
      "source": [
        "## Define Task\n",
        "* Define modular addition\n",
        "* Define the dataset & labels"
      ]
    },
    {
      "cell_type": "markdown",
      "metadata": {
        "id": "aOJMbA26IZpe"
      },
      "source": [
        "Input format:\n",
        "|a|=|"
      ]
    },
    {
      "cell_type": "code",
      "execution_count": 10,
      "metadata": {
        "id": "HGFlE125IZpe"
      },
      "outputs": [],
      "source": [
        "a_vector = torch.arange(p)\n",
        "equals_vector = einops.repeat(torch.tensor(p), \" -> i\", i=p)\n"
      ]
    },
    {
      "cell_type": "code",
      "execution_count": 11,
      "metadata": {
        "id": "6JOHNIJDIZpe",
        "outputId": "a35e475f-c388-4568-9c29-228adf72fc44"
      },
      "outputs": [
        {
          "name": "stdout",
          "output_type": "stream",
          "text": [
            "tensor([[0, 3],\n",
            "        [1, 3],\n",
            "        [2, 3]], device='cuda:0')\n",
            "torch.Size([3, 2])\n"
          ]
        }
      ],
      "source": [
        "dataset = torch.stack([a_vector, equals_vector], dim=1).to(device)\n",
        "print(dataset)\n",
        "print(dataset.shape)"
      ]
    },
    {
      "cell_type": "code",
      "execution_count": 12,
      "metadata": {
        "id": "cjUu4BTsIZpf",
        "outputId": "b94f7dbb-e7ad-46fa-addb-f904a37c3ab0"
      },
      "outputs": [
        {
          "name": "stdout",
          "output_type": "stream",
          "text": [
            "torch.Size([3])\n",
            "tensor([0, 1, 2], device='cuda:0')\n"
          ]
        }
      ],
      "source": [
        "labels = dataset[:, 0]\n",
        "print(labels.shape)\n",
        "print(labels)"
      ]
    },
    {
      "cell_type": "markdown",
      "metadata": {
        "id": "96Ad6m8BIZpf"
      },
      "source": [
        "Convert this to a train + test set - 30% in the training set"
      ]
    },
    {
      "cell_type": "code",
      "execution_count": 13,
      "metadata": {
        "id": "I8Af2zLZIZpf",
        "outputId": "5075c607-e865-4b8c-90df-d2685d17ebb3"
      },
      "outputs": [
        {
          "name": "stdout",
          "output_type": "stream",
          "text": [
            "tensor([[2, 3],\n",
            "        [0, 3],\n",
            "        [1, 3]], device='cuda:0')\n",
            "tensor([2, 0, 1], device='cuda:0')\n",
            "torch.Size([3, 2])\n",
            "tensor([], device='cuda:0', size=(0, 2), dtype=torch.int64)\n",
            "tensor([], device='cuda:0', dtype=torch.int64)\n",
            "torch.Size([0, 2])\n"
          ]
        }
      ],
      "source": [
        "torch.manual_seed(DATA_SEED)\n",
        "indices = torch.randperm(p)\n",
        "cutoff = int(p*frac_train)\n",
        "train_indices = indices[:cutoff]\n",
        "test_indices = indices[cutoff:]\n",
        "\n",
        "train_data = dataset[train_indices]\n",
        "train_labels = labels[train_indices]\n",
        "test_data = dataset[test_indices]\n",
        "test_labels = labels[test_indices]\n",
        "print(train_data)\n",
        "print(train_labels)\n",
        "print(train_data.shape)\n",
        "print(test_data[:5])\n",
        "print(test_labels[:5])\n",
        "print(test_data.shape)"
      ]
    },
    {
      "cell_type": "markdown",
      "metadata": {
        "id": "_83i1bUkIZpf"
      },
      "source": [
        "## Define Model"
      ]
    },
    {
      "cell_type": "code",
      "execution_count": 14,
      "metadata": {
        "id": "UL7gVZ9WIZpf"
      },
      "outputs": [],
      "source": [
        "cfg = HookedTransformerConfig(\n",
        "    n_layers = 1,\n",
        "    n_heads = 1,\n",
        "    d_model = 2,\n",
        "    d_head = 2,\n",
        "    d_mlp = 0,\n",
        "    act_fn = \"relu\",\n",
        "    normalization_type=None,\n",
        "    d_vocab=p+1,\n",
        "    d_vocab_out=p,\n",
        "    n_ctx=2,\n",
        "    init_weights=True,\n",
        "    device=device,\n",
        "    seed = 999,\n",
        ")\n",
        "model = HookedTransformer(cfg)\n",
        "for name, param in model.named_parameters():\n",
        "    if \"b_\" in name:\n",
        "        param.requires_grad = False"
      ]
    },
    {
      "cell_type": "markdown",
      "metadata": {
        "id": "H61FscDoIZpg"
      },
      "source": [
        "Disable the biases, as we don't need them for this task and it makes things easier to interpret."
      ]
    },
    {
      "cell_type": "markdown",
      "metadata": {
        "id": "lctx1jAtIZpg"
      },
      "source": [
        "## Define Optimizer + Loss"
      ]
    },
    {
      "cell_type": "code",
      "execution_count": 15,
      "metadata": {
        "id": "dJORAU_PIZpg",
        "outputId": "1c2b9f25-056e-4e0d-defc-0bd11586136d"
      },
      "outputs": [
        {
          "name": "stdout",
          "output_type": "stream",
          "text": [
            "tensor(1.1084, device='cuda:0', dtype=torch.float64, grad_fn=<NegBackward0>)\n",
            "tensor(nan, device='cuda:0', dtype=torch.float64, grad_fn=<NegBackward0>)\n",
            "Uniform loss:\n",
            "1.0986122886681098\n"
          ]
        }
      ],
      "source": [
        "optimizer = torch.optim.AdamW(model.parameters(), lr=lr, weight_decay=wd, betas=betas)\n",
        "def loss_fn(logits, labels):\n",
        "    if len(logits.shape)==3:\n",
        "        logits = logits[:, -1]\n",
        "    logits = logits.to(torch.float64)\n",
        "    log_probs = logits.log_softmax(dim=-1)\n",
        "    correct_log_probs = log_probs.gather(dim=-1, index=labels[:, None])[:, 0]\n",
        "    return -correct_log_probs.mean()\n",
        "train_logits = model(train_data)\n",
        "train_loss = loss_fn(train_logits, train_labels)\n",
        "print(train_loss)\n",
        "test_logits = model(test_data)\n",
        "test_loss = loss_fn(test_logits, test_labels)\n",
        "print(test_loss)\n",
        "print(\"Uniform loss:\")\n",
        "print(np.log(p))"
      ]
    },
    {
      "cell_type": "markdown",
      "metadata": {
        "id": "iW9Q4bIcIZpg"
      },
      "source": [
        "## Actually Train"
      ]
    },
    {
      "cell_type": "markdown",
      "metadata": {
        "id": "Uj4h2LIRIZpg"
      },
      "source": [
        "**Weird Decision:** Training the model with full batch training rather than stochastic gradient descent. We do this so to make training smoother and reduce the number of slingshots."
      ]
    },
    {
      "cell_type": "code",
      "execution_count": 16,
      "metadata": {
        "colab": {
          "referenced_widgets": [
            "c477d3a6463646deb7cf1de99bb0199a"
          ]
        },
        "id": "UsZLeCMeIZph",
        "outputId": "133f3502-ca28-490c-c030-f60b751dcd7b"
      },
      "outputs": [
        {
          "data": {
            "application/vnd.jupyter.widget-view+json": {
              "model_id": "3ce8365a5ca74bb3bf2afb35967ee0ba",
              "version_major": 2,
              "version_minor": 0
            },
            "text/plain": [
              "  0%|          | 0/20000 [00:00<?, ?it/s]"
            ]
          },
          "metadata": {},
          "output_type": "display_data"
        },
        {
          "name": "stdout",
          "output_type": "stream",
          "text": [
            "Epoch 199 Train Loss 0.8589038281202012 Test Loss nan\n",
            "Epoch 399 Train Loss 0.4650000646824933 Test Loss nan\n",
            "Epoch 599 Train Loss 0.1085971970928081 Test Loss nan\n",
            "Epoch 799 Train Loss 0.021850534954020617 Test Loss nan\n",
            "Epoch 999 Train Loss 0.009088972616683613 Test Loss nan\n",
            "Epoch 1199 Train Loss 0.005009173392098151 Test Loss nan\n",
            "Epoch 1399 Train Loss 0.0031815165049799464 Test Loss nan\n",
            "Epoch 1599 Train Loss 0.0022001086522834413 Test Loss nan\n",
            "Epoch 1799 Train Loss 0.001609729719530459 Test Loss nan\n",
            "Epoch 1999 Train Loss 0.0012257751485579716 Test Loss nan\n",
            "Epoch 2199 Train Loss 0.0009614633824639313 Test Loss nan\n",
            "Epoch 2399 Train Loss 0.0007714575877380221 Test Loss nan\n",
            "Epoch 2599 Train Loss 0.0006301553800941455 Test Loss nan\n",
            "Epoch 2799 Train Loss 0.000522141536283172 Test Loss nan\n",
            "Epoch 2999 Train Loss 0.0004376973663692452 Test Loss nan\n",
            "Epoch 3199 Train Loss 0.00037045825071000684 Test Loss nan\n",
            "Epoch 3399 Train Loss 0.00031603599729488854 Test Loss nan\n",
            "Epoch 3599 Train Loss 0.0002714453820172638 Test Loss nan\n",
            "Epoch 3799 Train Loss 0.00023445542961480624 Test Loss nan\n",
            "Epoch 3999 Train Loss 0.0002034711979827903 Test Loss nan\n",
            "Epoch 4199 Train Loss 0.0001773133157044896 Test Loss nan\n",
            "Epoch 4399 Train Loss 0.00015505612287994007 Test Loss nan\n",
            "Epoch 4599 Train Loss 0.00013600289376853586 Test Loss nan\n",
            "Epoch 4799 Train Loss 0.00011959909490136895 Test Loss nan\n",
            "Epoch 4999 Train Loss 0.00010541280345278928 Test Loss nan\n",
            "Epoch 5199 Train Loss 9.308834738893225e-05 Test Loss nan\n",
            "Epoch 5399 Train Loss 8.234596923656121e-05 Test Loss nan\n",
            "Epoch 5599 Train Loss 7.294933137283615e-05 Test Loss nan\n",
            "Epoch 5799 Train Loss 6.470947828680901e-05 Test Loss nan\n",
            "Epoch 5999 Train Loss 5.74601105974669e-05 Test Loss nan\n",
            "Epoch 6199 Train Loss 5.107552397596271e-05 Test Loss nan\n",
            "Epoch 6399 Train Loss 4.544180803196885e-05 Test Loss nan\n",
            "Epoch 6599 Train Loss 4.0459278467808044e-05 Test Loss nan\n",
            "Epoch 6799 Train Loss 3.604642330998948e-05 Test Loss nan\n",
            "Epoch 6999 Train Loss 3.2137096065247575e-05 Test Loss nan\n",
            "Epoch 7199 Train Loss 2.8664771383670774e-05 Test Loss nan\n",
            "Epoch 7399 Train Loss 2.5579403497115894e-05 Test Loss nan\n",
            "Epoch 7599 Train Loss 2.2836358914637485e-05 Test Loss nan\n",
            "Epoch 7799 Train Loss 2.0397941516425636e-05 Test Loss nan\n",
            "Epoch 7999 Train Loss 1.8224828481940546e-05 Test Loss nan\n",
            "Epoch 8199 Train Loss 1.628805816747506e-05 Test Loss nan\n",
            "Epoch 8399 Train Loss 1.45609892483227e-05 Test Loss nan\n",
            "Epoch 8599 Train Loss 1.3019589612342789e-05 Test Loss nan\n",
            "Epoch 8799 Train Loss 1.1645192251750702e-05 Test Loss nan\n",
            "Epoch 8999 Train Loss 1.0419020448369516e-05 Test Loss nan\n",
            "Epoch 9199 Train Loss 9.323371512359862e-06 Test Loss nan\n",
            "Epoch 9399 Train Loss 8.34448257917608e-06 Test Loss nan\n",
            "Epoch 9599 Train Loss 7.469819767691774e-06 Test Loss nan\n",
            "Epoch 9799 Train Loss 6.6881693318214945e-06 Test Loss nan\n",
            "Epoch 9999 Train Loss 5.988809941568369e-06 Test Loss nan\n",
            "Epoch 10199 Train Loss 5.364034776528728e-06 Test Loss nan\n",
            "Epoch 10399 Train Loss 4.80505873115848e-06 Test Loss nan\n",
            "Epoch 10599 Train Loss 4.30479397870003e-06 Test Loss nan\n",
            "Epoch 10799 Train Loss 3.857241697409318e-06 Test Loss nan\n",
            "Epoch 10999 Train Loss 3.456783885761638e-06 Test Loss nan\n",
            "Epoch 11199 Train Loss 3.0982351731881767e-06 Test Loss nan\n",
            "Epoch 11399 Train Loss 2.777078238074881e-06 Test Loss nan\n",
            "Epoch 11599 Train Loss 2.4895458360909945e-06 Test Loss nan\n",
            "Epoch 11799 Train Loss 2.2320250142048137e-06 Test Loss nan\n",
            "Epoch 11999 Train Loss 2.00149561912809e-06 Test Loss nan\n",
            "Epoch 12199 Train Loss 1.7950092514827622e-06 Test Loss nan\n",
            "Epoch 12399 Train Loss 1.6098075427272295e-06 Test Loss nan\n",
            "Epoch 12599 Train Loss 1.443849325370949e-06 Test Loss nan\n",
            "Epoch 12799 Train Loss 1.2951494951193694e-06 Test Loss nan\n",
            "Epoch 12999 Train Loss 1.1620177129214178e-06 Test Loss nan\n",
            "Epoch 13199 Train Loss 1.0426641500376358e-06 Test Loss nan\n",
            "Epoch 13399 Train Loss 9.356102815232329e-07 Test Loss nan\n",
            "Epoch 13599 Train Loss 8.395812084779609e-07 Test Loss nan\n",
            "Epoch 13799 Train Loss 7.534838567981087e-07 Test Loss nan\n",
            "Epoch 13999 Train Loss 6.762537326023345e-07 Test Loss nan\n",
            "Epoch 14199 Train Loss 6.07048990935192e-07 Test Loss nan\n",
            "Epoch 14399 Train Loss 5.449690395845904e-07 Test Loss nan\n",
            "Epoch 14599 Train Loss 4.892977971366143e-07 Test Loss nan\n",
            "Epoch 14799 Train Loss 4.3929500744585217e-07 Test Loss nan\n",
            "Epoch 14999 Train Loss 3.945072912395637e-07 Test Loss nan\n",
            "Epoch 15199 Train Loss 3.542341890114752e-07 Test Loss nan\n",
            "Epoch 15399 Train Loss 3.181417868566951e-07 Test Loss nan\n",
            "Epoch 15599 Train Loss 2.8574770578551894e-07 Test Loss nan\n",
            "Epoch 15799 Train Loss 2.5664686439293373e-07 Test Loss nan\n",
            "Epoch 15999 Train Loss 2.3053680899838364e-07 Test Loss nan\n",
            "Epoch 16199 Train Loss 2.0708747128186916e-07 Test Loss nan\n",
            "Epoch 16399 Train Loss 1.860545464699871e-07 Test Loss nan\n",
            "Epoch 16599 Train Loss 1.6714600422790027e-07 Test Loss nan\n",
            "Epoch 16799 Train Loss 1.5019409556195234e-07 Test Loss nan\n",
            "Epoch 16999 Train Loss 1.3496026898805025e-07 Test Loss nan\n",
            "Epoch 17199 Train Loss 1.2128632064130605e-07 Test Loss nan\n",
            "Epoch 17399 Train Loss 1.089985118083253e-07 Test Loss nan\n",
            "Epoch 17599 Train Loss 9.797783915534587e-08 Test Loss nan\n",
            "Epoch 17799 Train Loss 8.806012762434946e-08 Test Loss nan\n",
            "Epoch 17999 Train Loss 7.914645919906466e-08 Test Loss nan\n",
            "Epoch 18199 Train Loss 7.114872617152291e-08 Test Loss nan\n",
            "Epoch 18399 Train Loss 6.397143081347595e-08 Test Loss nan\n",
            "Epoch 18599 Train Loss 5.7511125380798466e-08 Test Loss nan\n",
            "Epoch 18799 Train Loss 5.1712662522992896e-08 Test Loss nan\n",
            "Epoch 18999 Train Loss 4.650546441590475e-08 Test Loss nan\n",
            "Epoch 19199 Train Loss 4.1821028165221363e-08 Test Loss nan\n",
            "Epoch 19399 Train Loss 3.761368386816896e-08 Test Loss nan\n",
            "Epoch 19599 Train Loss 3.383599806825737e-08 Test Loss nan\n",
            "Epoch 19799 Train Loss 3.043555706928661e-08 Test Loss nan\n",
            "Epoch 19999 Train Loss 2.738115694785419e-08 Test Loss nan\n"
          ]
        }
      ],
      "source": [
        "train_losses = []\n",
        "test_losses = []\n",
        "model_checkpoints = []\n",
        "checkpoint_epochs = []\n",
        "if TRAIN_MODEL:\n",
        "    for epoch in tqdm.tqdm(range(num_epochs)):\n",
        "        train_logits = model(train_data)\n",
        "        train_loss = loss_fn(train_logits, train_labels)\n",
        "        train_loss.backward()\n",
        "        train_losses.append(train_loss.item())\n",
        "\n",
        "        optimizer.step()\n",
        "        optimizer.zero_grad()\n",
        "\n",
        "        with torch.inference_mode():\n",
        "            test_logits = model(test_data)\n",
        "            test_loss = loss_fn(test_logits, test_labels)\n",
        "            test_losses.append(test_loss.item())\n",
        "\n",
        "        if ((epoch+1)%checkpoint_every)==0:\n",
        "            checkpoint_epochs.append(epoch)\n",
        "            model_checkpoints.append(copy.deepcopy(model.state_dict()))\n",
        "            print(f\"Epoch {epoch} Train Loss {train_loss.item()} Test Loss {test_loss.item()}\")"
      ]
    },
    {
      "cell_type": "code",
      "execution_count": 17,
      "metadata": {
        "id": "YhTuoGc5IZph"
      },
      "outputs": [],
      "source": [
        "if TRAIN_MODEL:\n",
        "    torch.save(\n",
        "        {\n",
        "            \"model\":model.state_dict(),\n",
        "            \"config\": model.cfg,\n",
        "            \"checkpoints\": model_checkpoints,\n",
        "            \"checkpoint_epochs\": checkpoint_epochs,\n",
        "            \"test_losses\": test_losses,\n",
        "            \"train_losses\": train_losses,\n",
        "            \"train_indices\": train_indices,\n",
        "            \"test_indices\": test_indices,\n",
        "        },\n",
        "        PTH_LOCATION)"
      ]
    },
    {
      "cell_type": "code",
      "execution_count": 18,
      "metadata": {
        "id": "EzRKi7J7IZph"
      },
      "outputs": [],
      "source": [
        "if not TRAIN_MODEL:\n",
        "    cached_data = torch.load(PTH_LOCATION)\n",
        "    model.load_state_dict(cached_data['model'])\n",
        "    model_checkpoints = cached_data[\"checkpoints\"]\n",
        "    checkpoint_epochs = cached_data[\"checkpoint_epochs\"]\n",
        "    test_losses = cached_data['test_losses']\n",
        "    train_losses = cached_data['train_losses']\n",
        "    train_indices = cached_data[\"train_indices\"]\n",
        "    test_indices = cached_data[\"test_indices\"]"
      ]
    },
    {
      "cell_type": "markdown",
      "metadata": {},
      "source": [
        "# Look at weights"
      ]
    },
    {
      "cell_type": "markdown",
      "metadata": {},
      "source": [
        "## Embedding weights"
      ]
    },
    {
      "cell_type": "code",
      "execution_count": 41,
      "metadata": {},
      "outputs": [
        {
          "name": "stdout",
          "output_type": "stream",
          "text": [
            "tensor([[-2.0527,  1.1695],\n",
            "        [-0.9373, -1.3022],\n",
            "        [ 1.3657,  1.4691],\n",
            "        [-0.3344,  0.5091]], device='cuda:0')\n",
            "torch.Size([4, 2])\n",
            "Norm of token 0: 2.3624651432037354\n",
            "Embedding: [-1.4751859   0.59753066]\n",
            "Norm of token 1: 1.6044034957885742\n",
            "Embedding: [-1.4751859   0.59753066]\n",
            "Norm of token 2: 2.005875587463379\n",
            "Embedding: [-1.4751859   0.59753066]\n",
            "Norm of token 3: 0.6091135144233704\n",
            "Embedding: [-0.1680884  -0.14457619]\n",
            "[[-3.527852   -2.4124618  -0.10946131 -0.50251186]\n",
            " [ 1.767062   -0.7046308   2.0666573   0.36452132]]\n",
            "Q:  [[-0.894109    0.44784927]\n",
            " [ 0.44784927  0.8941091 ]]\n",
            "R:  [[ 3.945662    1.8414354   1.0234212   0.612551  ]\n",
            " [ 0.         -1.7104361   1.7987949   0.10087225]]\n",
            "[[-3.527852   -2.4124615  -0.10946113 -0.5025118 ]\n",
            " [ 1.7670618  -0.7046309   2.0666573   0.3645213 ]]\n",
            "2.4169192 9.351306761539192\n",
            "2.4169192 9.35128627097168\n"
          ]
        }
      ],
      "source": [
        "from scipy.linalg import qr\n",
        "\n",
        "print(model.embed.W_E.data)\n",
        "print(model.embed.W_E.data.shape)\n",
        "\n",
        "W_E = model.embed.W_E.data.cpu().numpy()\n",
        "pos = model.W_E_pos.data.cpu().numpy()\n",
        "for i in range(W_E.shape[0]):\n",
        "    print(f\"Norm of token {i}: {np.linalg.norm(W_E[i])}\")\n",
        "    index = (4 if i < 3 else 5)\n",
        "    print(f\"Embedding: {pos[index]}\")\n",
        "    W_E[i] += pos[index]\n",
        "\n",
        "\n",
        "# Create a matrix with tensor[0] as the first column\n",
        "ttr = W_E.transpose()\n",
        "print(ttr)\n",
        "\n",
        "# Perform QR decomposition to obtain an orthonormal matrix\n",
        "Q, R = qr(ttr)\n",
        "\n",
        "print(\"Q: \", Q)\n",
        "print(\"R: \", R)\n",
        "print(np.matmul(Q, R))\n",
        "\n",
        "def get_angle(a, b):\n",
        "    return np.arccos(\n",
        "        np.dot(a, b)\n",
        "        / (np.linalg.norm(a) * np.linalg.norm(b))\n",
        "    ) / np.pi * 180\n",
        "\n",
        "dot_product = np.dot(W_E[0], W_E[3])\n",
        "print(dot_product, get_angle(W_E[0], W_E[3]))\n",
        "product2 = np.dot(R[:, 0], R[:, 3])\n",
        "print(product2, get_angle(R[:, 0], R[:, 3]))"
      ]
    },
    {
      "cell_type": "code",
      "execution_count": null,
      "metadata": {},
      "outputs": [],
      "source": []
    },
    {
      "cell_type": "code",
      "execution_count": 51,
      "metadata": {},
      "outputs": [
        {
          "ename": "RuntimeError",
          "evalue": "CUDA error: unspecified launch failure\nCUDA kernel errors might be asynchronously reported at some other API call, so the stacktrace below might be incorrect.\nFor debugging consider passing CUDA_LAUNCH_BLOCKING=1.\nCompile with `TORCH_USE_CUDA_DSA` to enable device-side assertions.\n",
          "output_type": "error",
          "traceback": [
            "\u001b[0;31m---------------------------------------------------------------------------\u001b[0m",
            "\u001b[0;31mRuntimeError\u001b[0m                              Traceback (most recent call last)",
            "Cell \u001b[0;32mIn[51], line 41\u001b[0m\n\u001b[1;32m     38\u001b[0m     ax\u001b[38;5;241m.\u001b[39mset_ylim(\u001b[38;5;28mmin\u001b[39m(tensor[:, \u001b[38;5;241m1\u001b[39m]\u001b[38;5;241m.\u001b[39mmin(), \u001b[38;5;241m0\u001b[39m)\u001b[38;5;241m*\u001b[39m\u001b[38;5;241m1.2\u001b[39m, \u001b[38;5;28mmax\u001b[39m(tensor[:, \u001b[38;5;241m1\u001b[39m]\u001b[38;5;241m.\u001b[39mmax(), \u001b[38;5;241m0\u001b[39m) \u001b[38;5;241m*\u001b[39m \u001b[38;5;241m1.2\u001b[39m)\n\u001b[1;32m     40\u001b[0m fig \u001b[38;5;241m=\u001b[39m plt\u001b[38;5;241m.\u001b[39mfigure(figsize\u001b[38;5;241m=\u001b[39m(\u001b[38;5;241m15\u001b[39m, \u001b[38;5;241m5\u001b[39m))\n\u001b[0;32m---> 41\u001b[0m \u001b[43mplot_tensor\u001b[49m\u001b[43m(\u001b[49m\u001b[43mfig\u001b[49m\u001b[43m,\u001b[49m\u001b[43m \u001b[49m\u001b[43mW_E\u001b[49m\u001b[43m,\u001b[49m\u001b[43m \u001b[49m\u001b[38;5;241;43m121\u001b[39;49m\u001b[43m,\u001b[49m\u001b[43m \u001b[49m\u001b[38;5;124;43m\"\u001b[39;49m\u001b[38;5;124;43moriginal\u001b[39;49m\u001b[38;5;124;43m\"\u001b[39;49m\u001b[43m)\u001b[49m\n\u001b[1;32m     42\u001b[0m plot_tensor(fig, R\u001b[38;5;241m.\u001b[39mtranspose(), \u001b[38;5;241m122\u001b[39m, \u001b[38;5;124m\"\u001b[39m\u001b[38;5;124mrotated\u001b[39m\u001b[38;5;124m\"\u001b[39m)\n\u001b[1;32m     43\u001b[0m plt\u001b[38;5;241m.\u001b[39mshow()\n",
            "Cell \u001b[0;32mIn[51], line 25\u001b[0m, in \u001b[0;36mplot_tensor\u001b[0;34m(fig, tensor, position, title)\u001b[0m\n\u001b[1;32m     23\u001b[0m W_K \u001b[38;5;241m=\u001b[39m model\u001b[38;5;241m.\u001b[39mblocks[\u001b[38;5;241m0\u001b[39m]\u001b[38;5;241m.\u001b[39mattn\u001b[38;5;241m.\u001b[39mW_K\u001b[38;5;241m.\u001b[39mdata[\u001b[38;5;241m0\u001b[39m]\u001b[38;5;241m.\u001b[39mtranspose(\u001b[38;5;241m0\u001b[39m, \u001b[38;5;241m1\u001b[39m)\n\u001b[1;32m     24\u001b[0m W_QK \u001b[38;5;241m=\u001b[39m torch\u001b[38;5;241m.\u001b[39mmatmul(W_Q, W_K)\n\u001b[0;32m---> 25\u001b[0m U, S, V \u001b[38;5;241m=\u001b[39m np\u001b[38;5;241m.\u001b[39mlinalg\u001b[38;5;241m.\u001b[39msvd(\u001b[43mW_QK\u001b[49m\u001b[38;5;241;43m.\u001b[39;49m\u001b[43mcpu\u001b[49m\u001b[43m(\u001b[49m\u001b[43m)\u001b[49m)\n\u001b[1;32m     26\u001b[0m \u001b[38;5;28mprint\u001b[39m(\u001b[38;5;124m\"\u001b[39m\u001b[38;5;124mU=\u001b[39m\u001b[38;5;124m\"\u001b[39m, U, \u001b[38;5;124m\"\u001b[39m\u001b[38;5;130;01m\\n\u001b[39;00m\u001b[38;5;124mS=\u001b[39m\u001b[38;5;124m\"\u001b[39m, S, \u001b[38;5;124m\"\u001b[39m\u001b[38;5;130;01m\\n\u001b[39;00m\u001b[38;5;124mV=\u001b[39m\u001b[38;5;124m\"\u001b[39m, V)\n\u001b[1;32m     28\u001b[0m ax\u001b[38;5;241m.\u001b[39mquiver(origin[i, \u001b[38;5;241m0\u001b[39m], origin[i, \u001b[38;5;241m1\u001b[39m], U[\u001b[38;5;241m0\u001b[39m, \u001b[38;5;241m0\u001b[39m], U[\u001b[38;5;241m0\u001b[39m, \u001b[38;5;241m1\u001b[39m], angles\u001b[38;5;241m=\u001b[39m\u001b[38;5;124m'\u001b[39m\u001b[38;5;124mxy\u001b[39m\u001b[38;5;124m'\u001b[39m, scale_units\u001b[38;5;241m=\u001b[39m\u001b[38;5;124m'\u001b[39m\u001b[38;5;124mxy\u001b[39m\u001b[38;5;124m'\u001b[39m, scale\u001b[38;5;241m=\u001b[39m\u001b[38;5;241m1\u001b[39m, color\u001b[38;5;241m=\u001b[39m\u001b[38;5;124m'\u001b[39m\u001b[38;5;124mblue\u001b[39m\u001b[38;5;124m'\u001b[39m)\n",
            "\u001b[0;31mRuntimeError\u001b[0m: CUDA error: unspecified launch failure\nCUDA kernel errors might be asynchronously reported at some other API call, so the stacktrace below might be incorrect.\nFor debugging consider passing CUDA_LAUNCH_BLOCKING=1.\nCompile with `TORCH_USE_CUDA_DSA` to enable device-side assertions.\n"
          ]
        },
        {
          "data": {
            "application/vnd.jupyter.widget-view+json": {
              "model_id": "cad5af6df9374212a4b11e4c526ae1df",
              "version_major": 2,
              "version_minor": 0
            },
            "image/png": "[encoded data removed]",
            "text/html": [
              "\n",
              "            <div style=\"display: inline-block;\">\n",
              "                <div class=\"jupyter-widgets widget-label\" style=\"text-align: center;\">\n",
              "                    Figure\n",
              "                </div>\n",
              "                <img src='data:image/png;base64,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' width=1500.0/>\n",
              "            </div>\n",
              "        "
            ],
            "text/plain": [
              "Canvas(toolbar=Toolbar(toolitems=[('Home', 'Reset original view', 'home', 'home'), ('Back', 'Back to previous …"
            ]
          },
          "metadata": {},
          "output_type": "display_data"
        }
      ],
      "source": [
        "import matplotlib.pyplot as plt\n",
        "import numpy as n\n",
        "\n",
        "%matplotlib widget\n",
        "\n",
        "plt.close('all')\n",
        "\n",
        "def plot_tensor(fig, tensor, position = 111, title = \"\"):\n",
        "    ax = fig.add_subplot(position)\n",
        "    ax.set_title(title)\n",
        "\n",
        "    # Define the origin\n",
        "    origin = np.zeros((4, 2))\n",
        "\n",
        "    # Plot the arrows\n",
        "    for i in range(tensor.shape[0]):\n",
        "        ax.quiver(origin[i, 0], origin[i, 1], \n",
        "                tensor[i, 0], tensor[i, 1],\n",
        "                angles='xy', scale_units='xy', scale=1)\n",
        "\n",
        "        ax.text(tensor[i, 0], tensor[i, 1], f\"Embedding {i}\", color='red')\n",
        "    W_Q = model.blocks[0].attn.W_Q.data[0]\n",
        "    W_K = model.blocks[0].attn.W_K.data[0].transpose(0, 1)\n",
        "    W_QK = torch.matmul(W_Q, W_K)\n",
        "    U, S, V = np.linalg.svd(W_QK.cpu())\n",
        "    print(\"U=\", U, \"\\nS=\", S, \"\\nV=\", V)\n",
        "    \n",
        "    ax.quiver(origin[i, 0], origin[i, 1], U[0, 0], U[0, 1], angles='xy', scale_units='xy', scale=1, color='blue')\n",
        "    ax.text(U[0, 0], U[0, 1], f\"U\", color='blue')\n",
        "    ax.quiver(origin[i, 0], origin[i, 1], V[0, 0], V[0, 1], angles='xy', scale_units='xy', scale=1, color='blue')\n",
        "    ax.text(V[0, 0], V[0, 1], f\"V\", color='blue')\n",
        "\n",
        "    # Set labels\n",
        "    ax.set_xlabel('X')\n",
        "    ax.set_ylabel('Y')\n",
        "    ax.set_xlim(min(tensor[:, 0].min(), 0)*1.2, max(tensor[:, 0].max(), 0) * 1.2)\n",
        "    ax.set_aspect('equal')\n",
        "    ax.set_ylim(min(tensor[:, 1].min(), 0)*1.2, max(tensor[:, 1].max(), 0) * 1.2)\n",
        "\n",
        "fig = plt.figure(figsize=(15, 5))\n",
        "plot_tensor(fig, W_E, 121, \"original\")\n",
        "plot_tensor(fig, R.transpose(), 122, \"rotated\")\n",
        "plt.show()"
      ]
    },
    {
      "cell_type": "code",
      "execution_count": null,
      "metadata": {},
      "outputs": [],
      "source": []
    },
    {
      "cell_type": "markdown",
      "metadata": {},
      "source": [
        "# Unembedding weights"
      ]
    },
    {
      "cell_type": "code",
      "execution_count": 21,
      "metadata": {},
      "outputs": [
        {
          "name": "stdout",
          "output_type": "stream",
          "text": [
            "[[-1.387955  -1.6141683  0.9912386]\n",
            " [ 0.8615358 -1.6861373  1.8115926]]\n",
            "Q_U= [[-0.8496274   0.5273834 ]\n",
            " [ 0.5273834   0.84962744]]\n",
            "R_U= [[ 1.6336043   0.48220074  0.11322039]\n",
            " [ 0.         -2.283874    2.0619416 ]]\n",
            "W_E= [[-2.0526662   1.1695312 ]\n",
            " [-0.937276   -1.3021615 ]\n",
            " [ 1.3657246   1.4691266 ]\n",
            " [-0.33442342  0.5090975 ]]\n",
            "W_U= [[-1.387955  -1.6141683  0.9912386]\n",
            " [ 0.8615358 -1.6861373  1.8115926]]\n",
            "[[ 3.8566012   1.3413585   0.08403206]\n",
            " [ 0.17903817  3.7085443  -3.2880502 ]\n",
            " [-0.6298591  -4.6816587   4.015218  ]\n",
            " [ 0.9027704  -0.31859267  0.59078383]]\n",
            "2\n"
          ]
        }
      ],
      "source": [
        "W_U = model.unembed.W_U.data.cpu().numpy()\n",
        "\n",
        "print(W_U)\n",
        "\n",
        "Qrev, Rrev = qr(W_U)\n",
        "\n",
        "print(\"Q_U=\", Qrev)\n",
        "print(\"R_U=\", Rrev)\n",
        "\n",
        "print(\"W_E=\", W_E)\n",
        "print(\"W_U=\", W_U)\n",
        "\n",
        "product = np.matmul(W_E, W_U)\n",
        "print(product)\n",
        "\n",
        "rank = np.linalg.matrix_rank(product)\n",
        "print(rank)"
      ]
    },
    {
      "cell_type": "markdown",
      "metadata": {},
      "source": [
        "# Activations"
      ]
    },
    {
      "cell_type": "code",
      "execution_count": 22,
      "metadata": {},
      "outputs": [
        {
          "name": "stdout",
          "output_type": "stream",
          "text": [
            "tensor([[[ 27.1331,   6.5226,   3.2225],\n",
            "         [ 21.7257,   4.0041,   3.6805]],\n",
            "\n",
            "        [[ 11.6829,  32.9373, -25.8135],\n",
            "         [  9.7816,  27.1825, -21.2564]],\n",
            "\n",
            "        [[  8.0685, -29.7456,  29.5645],\n",
            "         [  6.9838, -24.7904,  24.7266]]], device='cuda:0',\n",
            "       grad_fn=<AddBackward0>)\n"
          ]
        }
      ],
      "source": [
        "input = torch.tensor([[0,3], [1,3], [2,3]])\n",
        "logits, cache = model.run_with_cache(input)\n",
        "print(logits)"
      ]
    },
    {
      "cell_type": "code",
      "execution_count": 23,
      "metadata": {},
      "outputs": [
        {
          "name": "stdout",
          "output_type": "stream",
          "text": [
            "tensor([[[ 27.1331,   6.5226,   3.2225],\n",
            "         [ 21.7257,   4.0041,   3.6805]],\n",
            "\n",
            "        [[ 11.6829,  32.9373, -25.8135],\n",
            "         [  9.7816,  27.1825, -21.2564]],\n",
            "\n",
            "        [[  8.0685, -29.7456,  29.5645],\n",
            "         [  6.9838, -24.7904,  24.7266]]], device='cuda:0',\n",
            "       grad_fn=<AddBackward0>)\n"
          ]
        }
      ],
      "source": [
        "print(logits)"
      ]
    },
    {
      "cell_type": "code",
      "execution_count": 24,
      "metadata": {},
      "outputs": [
        {
          "data": {
            "text/plain": [
              "ActivationCache with keys ['hook_embed', 'hook_pos_embed', 'blocks.0.hook_resid_pre', 'blocks.0.attn.hook_q', 'blocks.0.attn.hook_k', 'blocks.0.attn.hook_v', 'blocks.0.attn.hook_attn_scores', 'blocks.0.attn.hook_pattern', 'blocks.0.attn.hook_z', 'blocks.0.hook_attn_out', 'blocks.0.hook_resid_mid', 'blocks.0.mlp.hook_pre', 'blocks.0.mlp.hook_post', 'blocks.0.hook_mlp_out', 'blocks.0.hook_resid_post']"
            ]
          },
          "execution_count": 24,
          "metadata": {},
          "output_type": "execute_result"
        }
      ],
      "source": [
        "cache"
      ]
    },
    {
      "cell_type": "code",
      "execution_count": 25,
      "metadata": {},
      "outputs": [
        {
          "data": {
            "text/plain": [
              "tensor([[[-2.0527,  1.1695],\n",
              "         [-0.3344,  0.5091]],\n",
              "\n",
              "        [[-0.9373, -1.3022],\n",
              "         [-0.3344,  0.5091]],\n",
              "\n",
              "        [[ 1.3657,  1.4691],\n",
              "         [-0.3344,  0.5091]]], device='cuda:0')"
            ]
          },
          "execution_count": 25,
          "metadata": {},
          "output_type": "execute_result"
        }
      ],
      "source": [
        "cache.cache_dict['hook_embed']"
      ]
    },
    {
      "cell_type": "code",
      "execution_count": 50,
      "metadata": {},
      "outputs": [
        {
          "name": "stdout",
          "output_type": "stream",
          "text": [
            "W_K:  tensor([[ 1.5040,  1.9884],\n",
            "        [-0.9069, -1.7974]])\n",
            "W_Q:  tensor([[ 1.8223,  1.1761],\n",
            "        [-1.5039, -1.4813]])\n",
            "W_K transposed:  tensor([[ 1.5040, -0.9069],\n",
            "        [ 1.9884, -1.7974]])\n",
            "tensor([[ 5.0793, -3.7666],\n",
            "        [-5.2072,  4.0264]])\n",
            "tensor([[3.8114, 0.9125],\n",
            "        [1.8140, 6.0918]])\n",
            "U:  [[-0.6927834   0.72114575]\n",
            " [ 0.72114575  0.6927834 ]]\n",
            "S:  [9.127106   0.09178303]\n",
            "V:  [[-0.79696536  0.60402507]\n",
            " [ 0.60402507  0.79696536]]\n",
            "S_rank_1:  [[9.12710571 0.        ]\n",
            " [0.         0.        ]]\n",
            "W_QK_rank_1:  [[ 5.03929762 -3.8193154 ]\n",
            " [-5.24560487  3.97567697]]\n"
          ]
        }
      ],
      "source": [
        "W_K = model.blocks[0].attn.W_K.data[0].cpu()\n",
        "W_Q = model.blocks[0].attn.W_Q.data[0].cpu()\n",
        "print(\"W_K: \", W_K)\n",
        "W_K_T = torch.transpose(W_K, 0, 1)\n",
        "W_QK = torch.matmul(W_Q, W_K_T)\n",
        "print(\"W_Q: \", W_Q)\n",
        "print(\"W_K transposed: \", W_K_T)\n",
        "print(W_QK)\n",
        "W_V = model.blocks[0].attn.W_V.data[0].cpu()\n",
        "W_O = model.blocks[0].attn.W_O.data[0].cpu()\n",
        "W_VO = torch.matmul(W_V, W_O)\n",
        "print(W_VO)\n",
        "W_E = model.embed.W_E.data.cpu().numpy()\n",
        "U, S, V = np.linalg.svd(W_QK)\n",
        "print(\"U: \", U)\n",
        "print(\"S: \", S)\n",
        "print(\"V: \", V)\n",
        "S_rank_1 = np.zeros((2, 2))\n",
        "S_rank_1[0, 0] = S[0]\n",
        "print(\"S_rank_1: \", S_rank_1)\n",
        "W_QK_rank_1 = np.matmul(np.matmul(U, S_rank_1), V)\n",
        "print(\"W_QK_rank_1: \", W_QK_rank_1)"
      ]
    },
    {
      "cell_type": "code",
      "execution_count": null,
      "metadata": {},
      "outputs": [
        {
          "data": {
            "text/plain": [
              "{'hook_embed': tensor([[[-2.0527,  1.1695],\n",
              "          [-0.3344,  0.5091]],\n",
              " \n",
              "         [[-0.9373, -1.3022],\n",
              "          [-0.3344,  0.5091]],\n",
              " \n",
              "         [[ 1.3657,  1.4691],\n",
              "          [-0.3344,  0.5091]]]),\n",
              " 'hook_pos_embed': tensor([[[-1.4752,  0.5975],\n",
              "          [-0.1681, -0.1446]],\n",
              " \n",
              "         [[-1.4752,  0.5975],\n",
              "          [-0.1681, -0.1446]],\n",
              " \n",
              "         [[-1.4752,  0.5975],\n",
              "          [-0.1681, -0.1446]]]),\n",
              " 'blocks.0.hook_resid_pre': tensor([[[-3.5279,  1.7671],\n",
              "          [-0.5025,  0.3645]],\n",
              " \n",
              "         [[-2.4125, -0.7046],\n",
              "          [-0.5025,  0.3645]],\n",
              " \n",
              "         [[-0.1095,  2.0667],\n",
              "          [-0.5025,  0.3645]]]),\n",
              " 'blocks.0.attn.hook_q': tensor([[[[-9.0861, -6.7668]],\n",
              " \n",
              "          [[-1.4639, -1.1310]]],\n",
              " \n",
              " \n",
              "         [[[-3.3365, -1.7936]],\n",
              " \n",
              "          [[-1.4639, -1.1310]]],\n",
              " \n",
              " \n",
              "         [[[-3.3074, -3.1901]],\n",
              " \n",
              "          [[-1.4639, -1.1310]]]]),\n",
              " 'blocks.0.attn.hook_k': tensor([[[[ -6.9083, -10.1908]],\n",
              " \n",
              "          [[ -1.0863,  -1.6544]]],\n",
              " \n",
              " \n",
              "         [[[ -2.9893,  -3.5303]],\n",
              " \n",
              "          [[ -1.0863,  -1.6544]]],\n",
              " \n",
              " \n",
              "         [[[ -2.0388,  -3.9323]],\n",
              " \n",
              "          [[ -1.0863,  -1.6544]]]]),\n",
              " 'blocks.0.attn.hook_v': tensor([[[[-2.1040,  6.5852]],\n",
              " \n",
              "          [[-0.1145,  1.1323]]],\n",
              " \n",
              " \n",
              "         [[[-4.5787,  1.2083]],\n",
              " \n",
              "          [[-0.1145,  1.1323]]],\n",
              " \n",
              " \n",
              "         [[[ 3.2368,  3.6694]],\n",
              " \n",
              "          [[-0.1145,  1.1323]]]]),\n",
              " 'blocks.0.attn.hook_attn_scores': tensor([[[[93.1468,    -inf],\n",
              "           [15.3010,  2.4476]]],\n",
              " \n",
              " \n",
              "         [[[11.5300,    -inf],\n",
              "           [ 5.9177,  2.4476]]],\n",
              " \n",
              " \n",
              "         [[[13.6385,    -inf],\n",
              "           [ 5.2552,  2.4476]]]]),\n",
              " 'blocks.0.attn.hook_pattern': tensor([[[[1.0000e+00, 0.0000e+00],\n",
              "           [1.0000e+00, 2.6171e-06]]],\n",
              " \n",
              " \n",
              "         [[[1.0000e+00, 0.0000e+00],\n",
              "           [9.6983e-01, 3.0175e-02]]],\n",
              " \n",
              " \n",
              "         [[[1.0000e+00, 0.0000e+00],\n",
              "           [9.4309e-01, 5.6912e-02]]]]),\n",
              " 'blocks.0.attn.hook_z': tensor([[[[-2.1040,  6.5852]],\n",
              " \n",
              "          [[-2.1040,  6.5852]]],\n",
              " \n",
              " \n",
              "         [[[-4.5787,  1.2083]],\n",
              " \n",
              "          [[-4.4440,  1.2060]]],\n",
              " \n",
              " \n",
              "         [[[ 3.2368,  3.6694]],\n",
              " \n",
              "          [[ 3.0461,  3.5250]]]]),\n",
              " 'blocks.0.hook_attn_out': tensor([[[-10.2407,   7.5454],\n",
              "          [-10.2406,   7.5454]],\n",
              " \n",
              "         [[-10.4732,  -6.4939],\n",
              "          [-10.1950,  -6.2448]],\n",
              " \n",
              "         [[  3.3318,  12.4898],\n",
              "          [  3.0708,  11.8793]]]),\n",
              " 'blocks.0.hook_resid_mid': tensor([[[-13.7685,   9.3125],\n",
              "          [-10.7432,   7.9099]],\n",
              " \n",
              "         [[-12.8856,  -7.1985],\n",
              "          [-10.6975,  -5.8802]],\n",
              " \n",
              "         [[  3.2223,  14.5565],\n",
              "          [  2.5683,  12.2438]]]),\n",
              " 'blocks.0.mlp.hook_pre': tensor([], size=(3, 2, 0)),\n",
              " 'blocks.0.mlp.hook_post': tensor([], size=(3, 2, 0)),\n",
              " 'blocks.0.hook_mlp_out': tensor([[[0., 0.],\n",
              "          [0., 0.]],\n",
              " \n",
              "         [[0., 0.],\n",
              "          [0., 0.]],\n",
              " \n",
              "         [[0., 0.],\n",
              "          [0., 0.]]]),\n",
              " 'blocks.0.hook_resid_post': tensor([[[-13.7685,   9.3125],\n",
              "          [-10.7432,   7.9099]],\n",
              " \n",
              "         [[-12.8856,  -7.1985],\n",
              "          [-10.6975,  -5.8802]],\n",
              " \n",
              "         [[  3.2223,  14.5565],\n",
              "          [  2.5683,  12.2438]]])}"
            ]
          },
          "execution_count": 27,
          "metadata": {},
          "output_type": "execute_result"
        }
      ],
      "source": [
        "cache.cache_dict"
      ]
    }
  ],
  "metadata": {
    "colab": {
      "provenance": []
    },
    "kernelspec": {
      "display_name": "base",
      "language": "python",
      "name": "python3"
    },
    "language_info": {
      "codemirror_mode": {
        "name": "ipython",
        "version": 3
      },
      "file_extension": ".py",
      "mimetype": "text/x-python",
      "name": "python",
      "nbconvert_exporter": "python",
      "pygments_lexer": "ipython3",
      "version": "3.10.12"
    },
    "orig_nbformat": 4,
    "vscode": {
      "interpreter": {
        "hash": "8859a5491331dba93123a91c2831400aced845b502848170e05fcb48b2c144be"
      }
    }
  },
  "nbformat": 4,
  "nbformat_minor": 0
}
