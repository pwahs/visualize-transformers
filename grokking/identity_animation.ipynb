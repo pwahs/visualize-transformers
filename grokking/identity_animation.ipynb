{
  "cells": [
    {
      "cell_type": "markdown",
      "metadata": {},
      "source": [
        "# Interpreting Identity"
      ]
    },
    {
      "cell_type": "markdown",
      "metadata": {
        "id": "WBvIU6zdIZpa"
      },
      "source": [
        "# Setup\n",
        "(No need to read)"
      ]
    },
    {
      "cell_type": "code",
      "execution_count": 1,
      "metadata": {
        "id": "ssx2pnTOIZpa"
      },
      "outputs": [],
      "source": [
        "TRAIN_MODEL = True"
      ]
    },
    {
      "cell_type": "code",
      "execution_count": 2,
      "metadata": {
        "id": "7Jfz-lAWIZpb",
        "outputId": "48df1c71-5bc3-4a14-9a34-1af5c16786a4"
      },
      "outputs": [
        {
          "name": "stdout",
          "output_type": "stream",
          "text": [
            "Requirement already satisfied: pip in /home/philippw/Stuff/programming/mechint/getting_started/.venv/lib/python3.10/site-packages (24.2)\n",
            "Note: you may need to restart the kernel to use updated packages.\n",
            "Running as a Jupyter notebook - intended for development only!\n"
          ]
        },
        {
          "name": "stderr",
          "output_type": "stream",
          "text": [
            "/tmp/ipykernel_88687/863253725.py:24: DeprecationWarning: `magic(...)` is deprecated since IPython 0.13 (warning added in 8.1), use run_line_magic(magic_name, parameter_s).\n",
            "  ipython.magic(\"load_ext autoreload\")\n",
            "/tmp/ipykernel_88687/863253725.py:25: DeprecationWarning: `magic(...)` is deprecated since IPython 0.13 (warning added in 8.1), use run_line_magic(magic_name, parameter_s).\n",
            "  ipython.magic(\"autoreload 2\")\n"
          ]
        },
        {
          "name": "stdout",
          "output_type": "stream",
          "text": [
            "Requirement already satisfied: ipympl in /home/philippw/Stuff/programming/mechint/getting_started/.venv/lib/python3.10/site-packages (0.9.4)\n",
            "Requirement already satisfied: ipython-genutils in /home/philippw/Stuff/programming/mechint/getting_started/.venv/lib/python3.10/site-packages (from ipympl) (0.2.0)\n",
            "Requirement already satisfied: ipython<9 in /home/philippw/Stuff/programming/mechint/getting_started/.venv/lib/python3.10/site-packages (from ipympl) (8.22.1)\n",
            "Requirement already satisfied: ipywidgets<9,>=7.6.0 in /home/philippw/Stuff/programming/mechint/getting_started/.venv/lib/python3.10/site-packages (from ipympl) (8.1.5)\n",
            "Requirement already satisfied: matplotlib<4,>=3.4.0 in /home/philippw/Stuff/programming/mechint/getting_started/.venv/lib/python3.10/site-packages (from ipympl) (3.8.3)\n",
            "Requirement already satisfied: numpy in /home/philippw/Stuff/programming/mechint/getting_started/.venv/lib/python3.10/site-packages (from ipympl) (1.26.4)\n",
            "Requirement already satisfied: pillow in /home/philippw/Stuff/programming/mechint/getting_started/.venv/lib/python3.10/site-packages (from ipympl) (10.2.0)\n",
            "Requirement already satisfied: traitlets<6 in /home/philippw/Stuff/programming/mechint/getting_started/.venv/lib/python3.10/site-packages (from ipympl) (5.14.1)\n",
            "Requirement already satisfied: decorator in /home/philippw/Stuff/programming/mechint/getting_started/.venv/lib/python3.10/site-packages (from ipython<9->ipympl) (5.1.1)\n",
            "Requirement already satisfied: jedi>=0.16 in /home/philippw/Stuff/programming/mechint/getting_started/.venv/lib/python3.10/site-packages (from ipython<9->ipympl) (0.19.1)\n",
            "Requirement already satisfied: matplotlib-inline in /home/philippw/Stuff/programming/mechint/getting_started/.venv/lib/python3.10/site-packages (from ipython<9->ipympl) (0.1.6)\n",
            "Requirement already satisfied: prompt-toolkit<3.1.0,>=3.0.41 in /home/philippw/Stuff/programming/mechint/getting_started/.venv/lib/python3.10/site-packages (from ipython<9->ipympl) (3.0.43)\n",
            "Requirement already satisfied: pygments>=2.4.0 in /home/philippw/Stuff/programming/mechint/getting_started/.venv/lib/python3.10/site-packages (from ipython<9->ipympl) (2.17.2)\n",
            "Requirement already satisfied: stack-data in /home/philippw/Stuff/programming/mechint/getting_started/.venv/lib/python3.10/site-packages (from ipython<9->ipympl) (0.6.3)\n",
            "Requirement already satisfied: exceptiongroup in /home/philippw/Stuff/programming/mechint/getting_started/.venv/lib/python3.10/site-packages (from ipython<9->ipympl) (1.2.0)\n",
            "Requirement already satisfied: pexpect>4.3 in /home/philippw/Stuff/programming/mechint/getting_started/.venv/lib/python3.10/site-packages (from ipython<9->ipympl) (4.9.0)\n",
            "Requirement already satisfied: comm>=0.1.3 in /home/philippw/Stuff/programming/mechint/getting_started/.venv/lib/python3.10/site-packages (from ipywidgets<9,>=7.6.0->ipympl) (0.2.1)\n",
            "Requirement already satisfied: widgetsnbextension~=4.0.12 in /home/philippw/Stuff/programming/mechint/getting_started/.venv/lib/python3.10/site-packages (from ipywidgets<9,>=7.6.0->ipympl) (4.0.13)\n",
            "Requirement already satisfied: jupyterlab-widgets~=3.0.12 in /home/philippw/Stuff/programming/mechint/getting_started/.venv/lib/python3.10/site-packages (from ipywidgets<9,>=7.6.0->ipympl) (3.0.13)\n",
            "Requirement already satisfied: contourpy>=1.0.1 in /home/philippw/Stuff/programming/mechint/getting_started/.venv/lib/python3.10/site-packages (from matplotlib<4,>=3.4.0->ipympl) (1.2.0)\n",
            "Requirement already satisfied: cycler>=0.10 in /home/philippw/Stuff/programming/mechint/getting_started/.venv/lib/python3.10/site-packages (from matplotlib<4,>=3.4.0->ipympl) (0.12.1)\n",
            "Requirement already satisfied: fonttools>=4.22.0 in /home/philippw/Stuff/programming/mechint/getting_started/.venv/lib/python3.10/site-packages (from matplotlib<4,>=3.4.0->ipympl) (4.50.0)\n",
            "Requirement already satisfied: kiwisolver>=1.3.1 in /home/philippw/Stuff/programming/mechint/getting_started/.venv/lib/python3.10/site-packages (from matplotlib<4,>=3.4.0->ipympl) (1.4.5)\n",
            "Requirement already satisfied: packaging>=20.0 in /home/philippw/Stuff/programming/mechint/getting_started/.venv/lib/python3.10/site-packages (from matplotlib<4,>=3.4.0->ipympl) (23.2)\n",
            "Requirement already satisfied: pyparsing>=2.3.1 in /home/philippw/Stuff/programming/mechint/getting_started/.venv/lib/python3.10/site-packages (from matplotlib<4,>=3.4.0->ipympl) (3.1.2)\n",
            "Requirement already satisfied: python-dateutil>=2.7 in /home/philippw/Stuff/programming/mechint/getting_started/.venv/lib/python3.10/site-packages (from matplotlib<4,>=3.4.0->ipympl) (2.8.2)\n",
            "Requirement already satisfied: parso<0.9.0,>=0.8.3 in /home/philippw/Stuff/programming/mechint/getting_started/.venv/lib/python3.10/site-packages (from jedi>=0.16->ipython<9->ipympl) (0.8.3)\n",
            "Requirement already satisfied: ptyprocess>=0.5 in /home/philippw/Stuff/programming/mechint/getting_started/.venv/lib/python3.10/site-packages (from pexpect>4.3->ipython<9->ipympl) (0.7.0)\n",
            "Requirement already satisfied: wcwidth in /home/philippw/Stuff/programming/mechint/getting_started/.venv/lib/python3.10/site-packages (from prompt-toolkit<3.1.0,>=3.0.41->ipython<9->ipympl) (0.2.13)\n",
            "Requirement already satisfied: six>=1.5 in /home/philippw/Stuff/programming/mechint/getting_started/.venv/lib/python3.10/site-packages (from python-dateutil>=2.7->matplotlib<4,>=3.4.0->ipympl) (1.16.0)\n",
            "Requirement already satisfied: executing>=1.2.0 in /home/philippw/Stuff/programming/mechint/getting_started/.venv/lib/python3.10/site-packages (from stack-data->ipython<9->ipympl) (2.0.1)\n",
            "Requirement already satisfied: asttokens>=2.1.0 in /home/philippw/Stuff/programming/mechint/getting_started/.venv/lib/python3.10/site-packages (from stack-data->ipython<9->ipympl) (2.4.1)\n",
            "Requirement already satisfied: pure-eval in /home/philippw/Stuff/programming/mechint/getting_started/.venv/lib/python3.10/site-packages (from stack-data->ipython<9->ipympl) (0.2.2)\n",
            "Note: you may need to restart the kernel to use updated packages.\n",
            "Requirement already satisfied: scipy in /home/philippw/Stuff/programming/mechint/getting_started/.venv/lib/python3.10/site-packages (1.14.1)\n",
            "Requirement already satisfied: numpy<2.3,>=1.23.5 in /home/philippw/Stuff/programming/mechint/getting_started/.venv/lib/python3.10/site-packages (from scipy) (1.26.4)\n",
            "Note: you may need to restart the kernel to use updated packages.\n",
            "Requirement already satisfied: manim in /home/philippw/Stuff/programming/mechint/getting_started/.venv/lib/python3.10/site-packages (0.18.1)\n",
            "Requirement already satisfied: Pillow>=9.1 in /home/philippw/Stuff/programming/mechint/getting_started/.venv/lib/python3.10/site-packages (from manim) (10.2.0)\n",
            "Requirement already satisfied: Pygments>=2.0.0 in /home/philippw/Stuff/programming/mechint/getting_started/.venv/lib/python3.10/site-packages (from manim) (2.17.2)\n",
            "Requirement already satisfied: click>=8.0 in /home/philippw/Stuff/programming/mechint/getting_started/.venv/lib/python3.10/site-packages (from manim) (8.1.7)\n",
            "Requirement already satisfied: cloup>=2.0.0 in /home/philippw/Stuff/programming/mechint/getting_started/.venv/lib/python3.10/site-packages (from manim) (3.0.5)\n",
            "Requirement already satisfied: decorator>=4.3.2 in /home/philippw/Stuff/programming/mechint/getting_started/.venv/lib/python3.10/site-packages (from manim) (5.1.1)\n",
            "Requirement already satisfied: isosurfaces>=0.1.0 in /home/philippw/Stuff/programming/mechint/getting_started/.venv/lib/python3.10/site-packages (from manim) (0.1.2)\n",
            "Requirement already satisfied: manimpango<1.0.0,>=0.5.0 in /home/philippw/Stuff/programming/mechint/getting_started/.venv/lib/python3.10/site-packages (from manim) (0.6.0)\n",
            "Requirement already satisfied: mapbox-earcut>=1.0.0 in /home/philippw/Stuff/programming/mechint/getting_started/.venv/lib/python3.10/site-packages (from manim) (1.0.2)\n",
            "Requirement already satisfied: moderngl<6.0.0,>=5.0.0 in /home/philippw/Stuff/programming/mechint/getting_started/.venv/lib/python3.10/site-packages (from manim) (5.11.1)\n",
            "Requirement already satisfied: moderngl-window>=2.0.0 in /home/philippw/Stuff/programming/mechint/getting_started/.venv/lib/python3.10/site-packages (from manim) (2.4.6)\n",
            "Requirement already satisfied: networkx>=2.6 in /home/philippw/Stuff/programming/mechint/getting_started/.venv/lib/python3.10/site-packages (from manim) (3.2.1)\n",
            "Requirement already satisfied: numpy>=1.26 in /home/philippw/Stuff/programming/mechint/getting_started/.venv/lib/python3.10/site-packages (from manim) (1.26.4)\n",
            "Requirement already satisfied: pycairo<2.0.0,>=1.13 in /home/philippw/Stuff/programming/mechint/getting_started/.venv/lib/python3.10/site-packages (from manim) (1.27.0)\n",
            "Requirement already satisfied: pydub>=0.20.0 in /home/philippw/Stuff/programming/mechint/getting_started/.venv/lib/python3.10/site-packages (from manim) (0.25.1)\n",
            "Requirement already satisfied: rich>=12.0.0 in /home/philippw/Stuff/programming/mechint/getting_started/.venv/lib/python3.10/site-packages (from manim) (13.7.0)\n",
            "Requirement already satisfied: scipy>=1.6.0 in /home/philippw/Stuff/programming/mechint/getting_started/.venv/lib/python3.10/site-packages (from manim) (1.14.1)\n",
            "Requirement already satisfied: screeninfo>=0.7 in /home/philippw/Stuff/programming/mechint/getting_started/.venv/lib/python3.10/site-packages (from manim) (0.8.1)\n",
            "Requirement already satisfied: skia-pathops>=0.7.0 in /home/philippw/Stuff/programming/mechint/getting_started/.venv/lib/python3.10/site-packages (from manim) (0.8.0.post1)\n",
            "Requirement already satisfied: srt>=3.0.0 in /home/philippw/Stuff/programming/mechint/getting_started/.venv/lib/python3.10/site-packages (from manim) (3.5.3)\n",
            "Requirement already satisfied: svgelements>=1.8.0 in /home/philippw/Stuff/programming/mechint/getting_started/.venv/lib/python3.10/site-packages (from manim) (1.9.6)\n",
            "Requirement already satisfied: tqdm>=4.0.0 in /home/philippw/Stuff/programming/mechint/getting_started/.venv/lib/python3.10/site-packages (from manim) (4.66.2)\n",
            "Requirement already satisfied: typing-extensions>=4.0.0 in /home/philippw/Stuff/programming/mechint/getting_started/.venv/lib/python3.10/site-packages (from manim) (4.9.0)\n",
            "Requirement already satisfied: watchdog>=2.0.0 in /home/philippw/Stuff/programming/mechint/getting_started/.venv/lib/python3.10/site-packages (from manim) (5.0.2)\n",
            "Requirement already satisfied: glcontext>=3.0.0 in /home/philippw/Stuff/programming/mechint/getting_started/.venv/lib/python3.10/site-packages (from moderngl<6.0.0,>=5.0.0->manim) (3.0.0)\n",
            "Requirement already satisfied: pyglet>=2.0.0 in /home/philippw/Stuff/programming/mechint/getting_started/.venv/lib/python3.10/site-packages (from moderngl-window>=2.0.0->manim) (2.0.17)\n",
            "Requirement already satisfied: pyrr<1,>=0.10.3 in /home/philippw/Stuff/programming/mechint/getting_started/.venv/lib/python3.10/site-packages (from moderngl-window>=2.0.0->manim) (0.10.3)\n",
            "Requirement already satisfied: markdown-it-py>=2.2.0 in /home/philippw/Stuff/programming/mechint/getting_started/.venv/lib/python3.10/site-packages (from rich>=12.0.0->manim) (3.0.0)\n",
            "Requirement already satisfied: mdurl~=0.1 in /home/philippw/Stuff/programming/mechint/getting_started/.venv/lib/python3.10/site-packages (from markdown-it-py>=2.2.0->rich>=12.0.0->manim) (0.1.2)\n",
            "Requirement already satisfied: multipledispatch in /home/philippw/Stuff/programming/mechint/getting_started/.venv/lib/python3.10/site-packages (from pyrr<1,>=0.10.3->moderngl-window>=2.0.0->manim) (1.0.0)\n",
            "Note: you may need to restart the kernel to use updated packages.\n"
          ]
        }
      ],
      "source": [
        "# Janky code to do different setup when run in a Colab notebook vs VSCode\n",
        "import os\n",
        "\n",
        "DEVELOPMENT_MODE = True\n",
        "IN_GITHUB = os.getenv(\"GITHUB_ACTIONS\") == \"true\"\n",
        "# Upgrade pip\n",
        "%pip install --upgrade pip\n",
        "try:\n",
        "    import google.colab\n",
        "    IN_COLAB = True\n",
        "    print(\"Running as a Colab notebook\")\n",
        "\n",
        "    # PySvelte is an unmaintained visualization library, use it as a backup if circuitsvis isn't working\n",
        "    # # Install another version of node that makes PySvelte work way faster\n",
        "    # !curl -fsSL https://deb.nodesource.com/setup_16.x | sudo -E bash -; sudo apt-get install -y nodejs\n",
        "    # %pip install git+https://github.com/neelnanda-io/PySvelte.git\n",
        "except:\n",
        "    IN_COLAB = False\n",
        "    print(\"Running as a Jupyter notebook - intended for development only!\")\n",
        "    from IPython import get_ipython\n",
        "\n",
        "    ipython = get_ipython()\n",
        "    # Code to automatically update the HookedTransformer code as its edited without restarting the kernel\n",
        "    ipython.magic(\"load_ext autoreload\")\n",
        "    ipython.magic(\"autoreload 2\")\n",
        "    ipython.run_line_magic(\"pip\", \"install ipympl\")\n",
        "    ipython.run_line_magic(\"pip\", \"install scipy\")\n",
        "    ipython.run_line_magic(\"pip\", \"install manim\")\n",
        "\n",
        "if IN_COLAB or IN_GITHUB:\n",
        "    %pip install transformer_lens\n",
        "    %pip install circuitsvis\n",
        "    %pip install ipympl"
      ]
    },
    {
      "cell_type": "code",
      "execution_count": 3,
      "metadata": {
        "id": "caNlrFAnIZpc",
        "outputId": "b116f2ef-8c45-4d6b-a408-b86670d5b807"
      },
      "outputs": [
        {
          "name": "stdout",
          "output_type": "stream",
          "text": [
            "Using renderer: notebook_connected\n"
          ]
        }
      ],
      "source": [
        "# Plotly needs a different renderer for VSCode/Notebooks vs Colab argh\n",
        "import plotly.io as pio\n",
        "if IN_COLAB or not DEVELOPMENT_MODE:\n",
        "    pio.renderers.default = \"colab\"\n",
        "else:\n",
        "    pio.renderers.default = \"notebook_connected\"\n",
        "print(f\"Using renderer: {pio.renderers.default}\")"
      ]
    },
    {
      "cell_type": "code",
      "execution_count": 4,
      "metadata": {
        "id": "bakRjAcIIZpc"
      },
      "outputs": [],
      "source": [
        "pio.templates['plotly'].layout.xaxis.title.font.size = 20\n",
        "pio.templates['plotly'].layout.yaxis.title.font.size = 20\n",
        "pio.templates['plotly'].layout.title.font.size = 30"
      ]
    },
    {
      "cell_type": "code",
      "execution_count": 5,
      "metadata": {
        "id": "i8GCNEdpIZpc"
      },
      "outputs": [],
      "source": [
        "# Import stuff\n",
        "import torch\n",
        "import torch.nn as nn\n",
        "import torch.nn.functional as F\n",
        "import torch.optim as optim\n",
        "import numpy as np\n",
        "import einops\n",
        "from fancy_einsum import einsum\n",
        "import os\n",
        "import tqdm.auto as tqdm\n",
        "import random\n",
        "from pathlib import Path\n",
        "import plotly.express as px\n",
        "from torch.utils.data import DataLoader\n",
        "\n",
        "from typing import List, Union, Optional\n",
        "from functools import partial\n",
        "import copy\n",
        "\n",
        "import itertools\n",
        "from transformers import AutoModelForCausalLM, AutoConfig, AutoTokenizer\n",
        "import dataclasses\n",
        "import datasets\n",
        "from IPython.display import HTML"
      ]
    },
    {
      "cell_type": "code",
      "execution_count": 6,
      "metadata": {
        "id": "KxZBfCTlIZpd"
      },
      "outputs": [],
      "source": [
        "import transformer_lens\n",
        "import transformer_lens.utils as utils\n",
        "from transformer_lens.hook_points import (\n",
        "    HookedRootModule,\n",
        "    HookPoint,\n",
        ")  # Hooking utilities\n",
        "from transformer_lens import HookedTransformer, HookedTransformerConfig, FactoredMatrix, ActivationCache\n",
        "\n",
        "\n",
        "device = \"cuda\" if torch.cuda.is_available() else \"cpu\""
      ]
    },
    {
      "cell_type": "markdown",
      "metadata": {
        "id": "0iC52U60IZpd"
      },
      "source": [
        "Plotting helper functions:"
      ]
    },
    {
      "cell_type": "code",
      "execution_count": 7,
      "metadata": {
        "id": "hvpC2mPgIZpd"
      },
      "outputs": [],
      "source": [
        "def imshow(tensor, renderer=None, xaxis=\"\", yaxis=\"\", **kwargs):\n",
        "    px.imshow(utils.to_numpy(tensor), color_continuous_midpoint=0.0, color_continuous_scale=\"RdBu\", labels={\"x\":xaxis, \"y\":yaxis}, **kwargs).show(renderer)\n",
        "\n",
        "def line(tensor, renderer=None, xaxis=\"\", yaxis=\"\", **kwargs):\n",
        "    px.line(utils.to_numpy(tensor), labels={\"x\":xaxis, \"y\":yaxis}, **kwargs).show(renderer)\n",
        "\n",
        "def scatter(x, y, xaxis=\"\", yaxis=\"\", caxis=\"\", renderer=None, **kwargs):\n",
        "    x = utils.to_numpy(x)\n",
        "    y = utils.to_numpy(y)\n",
        "    px.scatter(y=y, x=x, labels={\"x\":xaxis, \"y\":yaxis, \"color\":caxis}, **kwargs).show(renderer)"
      ]
    },
    {
      "cell_type": "code",
      "execution_count": 8,
      "metadata": {
        "id": "dFCGZobRIZpe"
      },
      "outputs": [],
      "source": [
        "# Define the location to save the model, using a relative path\n",
        "PTH_LOCATION = \"workspace/_scratch/identity.pth\"\n",
        "\n",
        "# Create the directory if it does not exist\n",
        "os.makedirs(Path(PTH_LOCATION).parent, exist_ok=True)"
      ]
    },
    {
      "cell_type": "markdown",
      "metadata": {
        "id": "7M2Nzu7EIZpe"
      },
      "source": [
        "# Model Training"
      ]
    },
    {
      "cell_type": "markdown",
      "metadata": {
        "id": "vOckI2-GIZpe"
      },
      "source": [
        "## Config"
      ]
    },
    {
      "cell_type": "code",
      "execution_count": 9,
      "metadata": {
        "id": "_2OXlPG-IZpe"
      },
      "outputs": [],
      "source": [
        "p = 3\n",
        "frac_train = 1\n",
        "\n",
        "# Optimizer config\n",
        "lr = 1e-3\n",
        "wd = 1e-2\n",
        "betas = (0.9, 0.999)\n",
        "\n",
        "num_epochs = 20000\n",
        "checkpoint_every = 200\n",
        "\n",
        "DATA_SEED = 598"
      ]
    },
    {
      "cell_type": "markdown",
      "metadata": {
        "id": "kT7xY9WsIZpe"
      },
      "source": [
        "## Define Task\n",
        "* Define modular addition\n",
        "* Define the dataset & labels"
      ]
    },
    {
      "cell_type": "markdown",
      "metadata": {
        "id": "aOJMbA26IZpe"
      },
      "source": [
        "Input format:\n",
        "|a|=|"
      ]
    },
    {
      "cell_type": "code",
      "execution_count": 10,
      "metadata": {
        "id": "HGFlE125IZpe"
      },
      "outputs": [],
      "source": [
        "a_vector = torch.arange(p)\n",
        "equals_vector = einops.repeat(torch.tensor(p), \" -> i\", i=p)\n"
      ]
    },
    {
      "cell_type": "code",
      "execution_count": 11,
      "metadata": {
        "id": "6JOHNIJDIZpe",
        "outputId": "a35e475f-c388-4568-9c29-228adf72fc44"
      },
      "outputs": [
        {
          "name": "stdout",
          "output_type": "stream",
          "text": [
            "tensor([[0, 3],\n",
            "        [1, 3],\n",
            "        [2, 3]], device='cuda:0')\n",
            "torch.Size([3, 2])\n"
          ]
        }
      ],
      "source": [
        "dataset = torch.stack([a_vector, equals_vector], dim=1).to(device)\n",
        "print(dataset)\n",
        "print(dataset.shape)"
      ]
    },
    {
      "cell_type": "code",
      "execution_count": 12,
      "metadata": {
        "id": "cjUu4BTsIZpf",
        "outputId": "b94f7dbb-e7ad-46fa-addb-f904a37c3ab0"
      },
      "outputs": [
        {
          "name": "stdout",
          "output_type": "stream",
          "text": [
            "torch.Size([3])\n",
            "tensor([0, 1, 2], device='cuda:0')\n"
          ]
        }
      ],
      "source": [
        "labels = dataset[:, 0]\n",
        "print(labels.shape)\n",
        "print(labels)"
      ]
    },
    {
      "cell_type": "markdown",
      "metadata": {
        "id": "96Ad6m8BIZpf"
      },
      "source": [
        "Convert this to a train + test set - 30% in the training set"
      ]
    },
    {
      "cell_type": "code",
      "execution_count": 13,
      "metadata": {
        "id": "I8Af2zLZIZpf",
        "outputId": "5075c607-e865-4b8c-90df-d2685d17ebb3"
      },
      "outputs": [
        {
          "name": "stdout",
          "output_type": "stream",
          "text": [
            "tensor([[2, 3],\n",
            "        [0, 3],\n",
            "        [1, 3]], device='cuda:0')\n",
            "tensor([2, 0, 1], device='cuda:0')\n",
            "torch.Size([3, 2])\n",
            "tensor([], device='cuda:0', size=(0, 2), dtype=torch.int64)\n",
            "tensor([], device='cuda:0', dtype=torch.int64)\n",
            "torch.Size([0, 2])\n"
          ]
        }
      ],
      "source": [
        "torch.manual_seed(DATA_SEED)\n",
        "indices = torch.randperm(p)\n",
        "cutoff = int(p*frac_train)\n",
        "train_indices = indices[:cutoff]\n",
        "test_indices = indices[cutoff:]\n",
        "\n",
        "train_data = dataset[train_indices]\n",
        "train_labels = labels[train_indices]\n",
        "test_data = dataset[test_indices]\n",
        "test_labels = labels[test_indices]\n",
        "print(train_data)\n",
        "print(train_labels)\n",
        "print(train_data.shape)\n",
        "print(test_data[:5])\n",
        "print(test_labels[:5])\n",
        "print(test_data.shape)"
      ]
    },
    {
      "cell_type": "markdown",
      "metadata": {
        "id": "_83i1bUkIZpf"
      },
      "source": [
        "## Define Model"
      ]
    },
    {
      "cell_type": "code",
      "execution_count": 14,
      "metadata": {
        "id": "UL7gVZ9WIZpf"
      },
      "outputs": [],
      "source": [
        "cfg = HookedTransformerConfig(\n",
        "    n_layers = 1,\n",
        "    n_heads = 1,\n",
        "    d_model = 2,\n",
        "    d_head = 2,\n",
        "    d_mlp = 0,\n",
        "    act_fn = \"relu\",\n",
        "    normalization_type=None,\n",
        "    d_vocab=p+1,\n",
        "    d_vocab_out=p,\n",
        "    n_ctx=2,\n",
        "    init_weights=True,\n",
        "    device=device,\n",
        "    seed = 995,\n",
        ")\n",
        "model = HookedTransformer(cfg)\n",
        "for name, param in model.named_parameters():\n",
        "    if \"b_\" in name:\n",
        "        param.requires_grad = False"
      ]
    },
    {
      "cell_type": "markdown",
      "metadata": {
        "id": "H61FscDoIZpg"
      },
      "source": [
        "Disable the biases, as we don't need them for this task and it makes things easier to interpret."
      ]
    },
    {
      "cell_type": "markdown",
      "metadata": {
        "id": "lctx1jAtIZpg"
      },
      "source": [
        "## Define Optimizer + Loss"
      ]
    },
    {
      "cell_type": "code",
      "execution_count": 15,
      "metadata": {
        "id": "dJORAU_PIZpg",
        "outputId": "1c2b9f25-056e-4e0d-defc-0bd11586136d"
      },
      "outputs": [
        {
          "name": "stdout",
          "output_type": "stream",
          "text": [
            "tensor(1.0439, device='cuda:0', dtype=torch.float64, grad_fn=<NegBackward0>)\n",
            "tensor(nan, device='cuda:0', dtype=torch.float64, grad_fn=<NegBackward0>)\n",
            "Uniform loss:\n",
            "1.0986122886681098\n"
          ]
        }
      ],
      "source": [
        "optimizer = torch.optim.AdamW(model.parameters(), lr=lr, weight_decay=wd, betas=betas)\n",
        "def loss_fn(logits, labels):\n",
        "    if len(logits.shape)==3:\n",
        "        logits = logits[:, -1]\n",
        "    logits = logits.to(torch.float64)\n",
        "    log_probs = logits.log_softmax(dim=-1)\n",
        "    correct_log_probs = log_probs.gather(dim=-1, index=labels[:, None])[:, 0]\n",
        "    return -correct_log_probs.mean()\n",
        "train_logits = model(train_data)\n",
        "train_loss = loss_fn(train_logits, train_labels)\n",
        "print(train_loss)\n",
        "test_logits = model(test_data)\n",
        "test_loss = loss_fn(test_logits, test_labels)\n",
        "print(test_loss)\n",
        "print(\"Uniform loss:\")\n",
        "print(np.log(p))"
      ]
    },
    {
      "cell_type": "markdown",
      "metadata": {
        "id": "iW9Q4bIcIZpg"
      },
      "source": [
        "## Actually Train"
      ]
    },
    {
      "cell_type": "markdown",
      "metadata": {
        "id": "Uj4h2LIRIZpg"
      },
      "source": [
        "**Weird Decision:** Training the model with full batch training rather than stochastic gradient descent. We do this so to make training smoother and reduce the number of slingshots."
      ]
    },
    {
      "cell_type": "code",
      "execution_count": 16,
      "metadata": {
        "colab": {
          "referenced_widgets": [
            "c477d3a6463646deb7cf1de99bb0199a"
          ]
        },
        "id": "UsZLeCMeIZph",
        "outputId": "133f3502-ca28-490c-c030-f60b751dcd7b"
      },
      "outputs": [
        {
          "data": {
            "application/vnd.jupyter.widget-view+json": {
              "model_id": "f0124f713133475aa0942e7d5a98183a",
              "version_major": 2,
              "version_minor": 0
            },
            "text/plain": [
              "  0%|          | 0/20000 [00:00<?, ?it/s]"
            ]
          },
          "metadata": {},
          "output_type": "display_data"
        },
        {
          "name": "stdout",
          "output_type": "stream",
          "text": [
            "Epoch 199 Train Loss 0.599416147649265 Test Loss nan\n",
            "Epoch 399 Train Loss 0.2536531596408216 Test Loss nan\n",
            "Epoch 599 Train Loss 0.0830453918536438 Test Loss nan\n",
            "Epoch 799 Train Loss 0.025786546450267653 Test Loss nan\n",
            "Epoch 999 Train Loss 0.01081796870332112 Test Loss nan\n",
            "Epoch 1199 Train Loss 0.005687257155859752 Test Loss nan\n",
            "Epoch 1399 Train Loss 0.003435543898777571 Test Loss nan\n",
            "Epoch 1599 Train Loss 0.002270050972960362 Test Loss nan\n",
            "Epoch 1799 Train Loss 0.0015950851419154603 Test Loss nan\n",
            "Epoch 1999 Train Loss 0.0011715653605927781 Test Loss nan\n",
            "Epoch 2199 Train Loss 0.0008895253765779391 Test Loss nan\n",
            "Epoch 2399 Train Loss 0.0006928241528478441 Test Loss nan\n",
            "Epoch 2599 Train Loss 0.0005506402520210815 Test Loss nan\n",
            "Epoch 2799 Train Loss 0.00044476489711316555 Test Loss nan\n",
            "Epoch 2999 Train Loss 0.00036401668327608533 Test Loss nan\n",
            "Epoch 3199 Train Loss 0.0003011834146698921 Test Loss nan\n",
            "Epoch 3399 Train Loss 0.0002514712898811981 Test Loss nan\n",
            "Epoch 3599 Train Loss 0.00021158033080887091 Test Loss nan\n",
            "Epoch 3799 Train Loss 0.00017916117339169518 Test Loss nan\n",
            "Epoch 3999 Train Loss 0.00015255820697146678 Test Loss nan\n",
            "Epoch 4199 Train Loss 0.0001305082567817204 Test Loss nan\n",
            "Epoch 4399 Train Loss 0.00011210008588602895 Test Loss nan\n",
            "Epoch 4599 Train Loss 9.661517526930971e-05 Test Loss nan\n",
            "Epoch 4799 Train Loss 8.353519279369302e-05 Test Loss nan\n",
            "Epoch 4999 Train Loss 7.241472389641002e-05 Test Loss nan\n",
            "Epoch 5199 Train Loss 6.291856506119193e-05 Test Loss nan\n",
            "Epoch 5399 Train Loss 5.4776502871503945e-05 Test Loss nan\n",
            "Epoch 5599 Train Loss 4.7772565619511856e-05 Test Loss nan\n",
            "Epoch 5799 Train Loss 4.173728907920564e-05 Test Loss nan\n",
            "Epoch 5999 Train Loss 3.651687502727087e-05 Test Loss nan\n",
            "Epoch 6199 Train Loss 3.198771722569469e-05 Test Loss nan\n",
            "Epoch 6399 Train Loss 2.8051998391552723e-05 Test Loss nan\n",
            "Epoch 6599 Train Loss 2.4628004284974924e-05 Test Loss nan\n",
            "Epoch 6799 Train Loss 2.164170648836635e-05 Test Loss nan\n",
            "Epoch 6999 Train Loss 1.90348951314356e-05 Test Loss nan\n",
            "Epoch 7199 Train Loss 1.675788244109169e-05 Test Loss nan\n",
            "Epoch 7399 Train Loss 1.4767263858359122e-05 Test Loss nan\n",
            "Epoch 7599 Train Loss 1.302310511676559e-05 Test Loss nan\n",
            "Epoch 7799 Train Loss 1.149425019382911e-05 Test Loss nan\n",
            "Epoch 7999 Train Loss 1.0152308237513938e-05 Test Loss nan\n",
            "Epoch 8199 Train Loss 8.975048941599737e-06 Test Loss nan\n",
            "Epoch 8399 Train Loss 7.9417529481232e-06 Test Loss nan\n",
            "Epoch 8599 Train Loss 7.033790401812685e-06 Test Loss nan\n",
            "Epoch 8799 Train Loss 6.2361684137425525e-06 Test Loss nan\n",
            "Epoch 8999 Train Loss 5.5353173545031336e-06 Test Loss nan\n",
            "Epoch 9199 Train Loss 4.919181202657484e-06 Test Loss nan\n",
            "Epoch 9399 Train Loss 4.379033684892621e-06 Test Loss nan\n",
            "Epoch 9599 Train Loss 3.904585426276717e-06 Test Loss nan\n",
            "Epoch 9799 Train Loss 3.487296430172998e-06 Test Loss nan\n",
            "Epoch 9999 Train Loss 3.120655653032932e-06 Test Loss nan\n",
            "Epoch 10199 Train Loss 2.798575559248717e-06 Test Loss nan\n",
            "Epoch 10399 Train Loss 2.516201337201548e-06 Test Loss nan\n",
            "Epoch 10599 Train Loss 2.2687423418187778e-06 Test Loss nan\n",
            "Epoch 10799 Train Loss 2.0517966085042963e-06 Test Loss nan\n",
            "Epoch 10999 Train Loss 1.8614745249453417e-06 Test Loss nan\n",
            "Epoch 11199 Train Loss 1.694437950167143e-06 Test Loss nan\n",
            "Epoch 11399 Train Loss 1.5478897761424987e-06 Test Loss nan\n",
            "Epoch 11599 Train Loss 1.4188816375315831e-06 Test Loss nan\n",
            "Epoch 11799 Train Loss 1.3049819469866246e-06 Test Loss nan\n",
            "Epoch 11999 Train Loss 1.2039278202724229e-06 Test Loss nan\n",
            "Epoch 12199 Train Loss 1.1134854253999867e-06 Test Loss nan\n",
            "Epoch 12399 Train Loss 1.0319700495370326e-06 Test Loss nan\n",
            "Epoch 12599 Train Loss 9.577188941935427e-07 Test Loss nan\n",
            "Epoch 12799 Train Loss 8.892037025124318e-07 Test Loss nan\n",
            "Epoch 12999 Train Loss 8.253837619901952e-07 Test Loss nan\n",
            "Epoch 13199 Train Loss 7.654668819624913e-07 Test Loss nan\n",
            "Epoch 13399 Train Loss 7.088157796513885e-07 Test Loss nan\n",
            "Epoch 13599 Train Loss 6.550932494199034e-07 Test Loss nan\n",
            "Epoch 13799 Train Loss 6.040440164273068e-07 Test Loss nan\n",
            "Epoch 13999 Train Loss 5.555616294764938e-07 Test Loss nan\n",
            "Epoch 14199 Train Loss 5.097442903962201e-07 Test Loss nan\n",
            "Epoch 14399 Train Loss 4.665832556348774e-07 Test Loss nan\n",
            "Epoch 14599 Train Loss 4.2603116031056594e-07 Test Loss nan\n",
            "Epoch 14799 Train Loss 3.8819188292036867e-07 Test Loss nan\n",
            "Epoch 14999 Train Loss 3.530414601882685e-07 Test Loss nan\n",
            "Epoch 15199 Train Loss 3.2045876220966126e-07 Test Loss nan\n",
            "Epoch 15399 Train Loss 2.9045963625207354e-07 Test Loss nan\n",
            "Epoch 15599 Train Loss 2.629388340247938e-07 Test Loss nan\n",
            "Epoch 15799 Train Loss 2.3772118604609982e-07 Test Loss nan\n",
            "Epoch 15999 Train Loss 2.147153402529605e-07 Test Loss nan\n",
            "Epoch 16199 Train Loss 1.937707263117496e-07 Test Loss nan\n",
            "Epoch 16399 Train Loss 1.7475114414343057e-07 Test Loss nan\n",
            "Epoch 16599 Train Loss 1.5748640128881964e-07 Test Loss nan\n",
            "Epoch 16799 Train Loss 1.418959439936757e-07 Test Loss nan\n",
            "Epoch 16999 Train Loss 1.278078397456508e-07 Test Loss nan\n",
            "Epoch 17199 Train Loss 1.1506648073326455e-07 Test Loss nan\n",
            "Epoch 17399 Train Loss 1.0355355321932732e-07 Test Loss nan\n",
            "Epoch 17599 Train Loss 9.318521306531254e-08 Test Loss nan\n",
            "Epoch 17799 Train Loss 8.384506342689048e-08 Test Loss nan\n",
            "Epoch 17999 Train Loss 7.542718566110093e-08 Test Loss nan\n",
            "Epoch 18199 Train Loss 6.786401451052775e-08 Test Loss nan\n",
            "Epoch 18399 Train Loss 6.105003440592778e-08 Test Loss nan\n",
            "Epoch 18599 Train Loss 5.491376410214826e-08 Test Loss nan\n",
            "Epoch 18799 Train Loss 4.939400345933952e-08 Test Loss nan\n",
            "Epoch 18999 Train Loss 4.4429137925764164e-08 Test Loss nan\n",
            "Epoch 19199 Train Loss 3.997224393590475e-08 Test Loss nan\n",
            "Epoch 19399 Train Loss 3.5956402214478004e-08 Test Loss nan\n",
            "Epoch 19599 Train Loss 3.235151869268156e-08 Test Loss nan\n",
            "Epoch 19799 Train Loss 2.9108265501613077e-08 Test Loss nan\n",
            "Epoch 19999 Train Loss 2.6188587975460742e-08 Test Loss nan\n"
          ]
        }
      ],
      "source": [
        "train_losses = []\n",
        "test_losses = []\n",
        "model_checkpoints = []\n",
        "checkpoint_epochs = []\n",
        "if TRAIN_MODEL:\n",
        "    for epoch in tqdm.tqdm(range(num_epochs)):\n",
        "        train_logits = model(train_data)\n",
        "        train_loss = loss_fn(train_logits, train_labels)\n",
        "        train_loss.backward()\n",
        "        train_losses.append(train_loss.item())\n",
        "\n",
        "        optimizer.step()\n",
        "        optimizer.zero_grad()\n",
        "\n",
        "        with torch.inference_mode():\n",
        "            test_logits = model(test_data)\n",
        "            test_loss = loss_fn(test_logits, test_labels)\n",
        "            test_losses.append(test_loss.item())\n",
        "\n",
        "        if ((epoch+1)%checkpoint_every)==0:\n",
        "            checkpoint_epochs.append(epoch)\n",
        "            model_checkpoints.append(copy.deepcopy(model.state_dict()))\n",
        "            print(f\"Epoch {epoch} Train Loss {train_loss.item()} Test Loss {test_loss.item()}\")"
      ]
    },
    {
      "cell_type": "code",
      "execution_count": 17,
      "metadata": {
        "id": "YhTuoGc5IZph"
      },
      "outputs": [],
      "source": [
        "if TRAIN_MODEL:\n",
        "    torch.save(\n",
        "        {\n",
        "            \"model\":model.state_dict(),\n",
        "            \"config\": model.cfg,\n",
        "            \"checkpoints\": model_checkpoints,\n",
        "            \"checkpoint_epochs\": checkpoint_epochs,\n",
        "            \"test_losses\": test_losses,\n",
        "            \"train_losses\": train_losses,\n",
        "            \"train_indices\": train_indices,\n",
        "            \"test_indices\": test_indices,\n",
        "        },\n",
        "        PTH_LOCATION)"
      ]
    },
    {
      "cell_type": "code",
      "execution_count": 18,
      "metadata": {
        "id": "EzRKi7J7IZph"
      },
      "outputs": [],
      "source": [
        "if not TRAIN_MODEL:\n",
        "    cached_data = torch.load(PTH_LOCATION)\n",
        "    model.load_state_dict(cached_data['model'])\n",
        "    model_checkpoints = cached_data[\"checkpoints\"]\n",
        "    checkpoint_epochs = cached_data[\"checkpoint_epochs\"]\n",
        "    test_losses = cached_data['test_losses']\n",
        "    train_losses = cached_data['train_losses']\n",
        "    train_indices = cached_data[\"train_indices\"]\n",
        "    test_indices = cached_data[\"test_indices\"]"
      ]
    },
    {
      "cell_type": "markdown",
      "metadata": {},
      "source": [
        "# Look at weights"
      ]
    },
    {
      "cell_type": "markdown",
      "metadata": {},
      "source": [
        "## Embedding weights"
      ]
    },
    {
      "cell_type": "code",
      "execution_count": 19,
      "metadata": {},
      "outputs": [
        {
          "name": "stdout",
          "output_type": "stream",
          "text": [
            "tensor([[ 1.9997,  0.6776],\n",
            "        [-1.7461,  2.4886],\n",
            "        [-1.0800, -0.9648],\n",
            "        [-1.0497,  0.1204]], device='cuda:0')\n",
            "torch.Size([4, 2])\n",
            "Norm of token 0: 2.111406087875366\n",
            "Embedding: [ 1.2195797 -1.0279466]\n",
            "Norm of token 1: 3.0400774478912354\n",
            "Embedding: [ 1.2195797 -1.0279466]\n",
            "Norm of token 2: 1.448216438293457\n",
            "Embedding: [ 1.2195797 -1.0279466]\n",
            "Norm of token 3: 1.0565892457962036\n",
            "Embedding: [-1.101781    0.77089185]\n",
            "[[ 3.2192955  -0.52654445  0.13953435 -2.151485  ]\n",
            " [-0.35032398  1.4606515  -1.9927434   0.89131844]]\n",
            "Q:  [[-0.9941311   0.10818143]\n",
            " [ 0.10818143  0.99413115]]\n",
            "R:  [[-3.2383006   0.68146956 -0.35429326  2.235282  ]\n",
            " [ 0.          1.3951168  -1.9659532   0.65333676]]\n",
            "[[ 3.2192953  -0.52654433  0.13953431 -2.1514843 ]\n",
            " [-0.350324    1.4606514  -1.9927433   0.89131844]]\n",
            "-7.238516 163.70720346091622\n",
            "-7.238515 163.70721712129455\n"
          ]
        }
      ],
      "source": [
        "from scipy.linalg import qr\n",
        "\n",
        "print(model.embed.W_E.data)\n",
        "print(model.embed.W_E.data.shape)\n",
        "\n",
        "W_E = model.embed.W_E.data.cpu().numpy()\n",
        "pos = model.W_E_pos.data.cpu().numpy()\n",
        "for i in range(W_E.shape[0]):\n",
        "    print(f\"Norm of token {i}: {np.linalg.norm(W_E[i])}\")\n",
        "    index = (4 if i < 3 else 5)\n",
        "    print(f\"Embedding: {pos[index]}\")\n",
        "    W_E[i] += pos[index]\n",
        "\n",
        "\n",
        "# Create a matrix with tensor[0] as the first column\n",
        "ttr = W_E.transpose()\n",
        "print(ttr)\n",
        "\n",
        "# Perform QR decomposition to obtain an orthonormal matrix\n",
        "Q, R = qr(ttr)\n",
        "\n",
        "print(\"Q: \", Q)\n",
        "print(\"R: \", R)\n",
        "print(np.matmul(Q, R))\n",
        "\n",
        "def get_angle(a, b):\n",
        "    return np.arccos(\n",
        "        np.dot(a, b)\n",
        "        / (np.linalg.norm(a) * np.linalg.norm(b))\n",
        "    ) / np.pi * 180\n",
        "\n",
        "dot_product = np.dot(W_E[0], W_E[3])\n",
        "print(dot_product, get_angle(W_E[0], W_E[3]))\n",
        "product2 = np.dot(R[:, 0], R[:, 3])\n",
        "print(product2, get_angle(R[:, 0], R[:, 3]))"
      ]
    },
    {
      "cell_type": "code",
      "execution_count": null,
      "metadata": {},
      "outputs": [],
      "source": []
    },
    {
      "cell_type": "code",
      "execution_count": 20,
      "metadata": {},
      "outputs": [
        {
          "name": "stdout",
          "output_type": "stream",
          "text": [
            "U= [[ 0.75650483 -0.6539881 ]\n",
            " [-0.6539881  -0.75650483]] \n",
            "S= [2.4501853  0.11576889] \n",
            "V= [[-0.07912531  0.9968647 ]\n",
            " [-0.9968647  -0.07912531]]\n",
            "U= [[ 0.75650483 -0.6539881 ]\n",
            " [-0.6539881  -0.75650483]] \n",
            "S= [2.4501853  0.11576889] \n",
            "V= [[-0.07912531  0.9968647 ]\n",
            " [-0.9968647  -0.07912531]]\n"
          ]
        },
        {
          "data": {
            "application/vnd.jupyter.widget-view+json": {
              "model_id": "fe4bcb26c1fa4f2f86f37f608cefdf44",
              "version_major": 2,
              "version_minor": 0
            },
            "image/png": "[encoded data removed]",
            "text/html": [
              "\n",
              "            <div style=\"display: inline-block;\">\n",
              "                <div class=\"jupyter-widgets widget-label\" style=\"text-align: center;\">\n",
              "                    Figure\n",
              "                </div>\n",
              "                <img src='data:image/png;base64,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' width=1500.0/>\n",
              "            </div>\n",
              "        "
            ],
            "text/plain": [
              "Canvas(toolbar=Toolbar(toolitems=[('Home', 'Reset original view', 'home', 'home'), ('Back', 'Back to previous …"
            ]
          },
          "metadata": {},
          "output_type": "display_data"
        },
        {
          "name": "stderr",
          "output_type": "stream",
          "text": [
            "[0000723d44004510] gl gl: Initialized libplacebo v4.192.1 (API v192)\n",
            "libva info: VA-API version 1.20.0\n",
            "libva error: vaGetDriverNames() failed with unknown libva error\n",
            "[0000723d44004510] glconv_vaapi_x11 gl error: vaInitialize: unknown libva error\n",
            "libva info: VA-API version 1.20.0\n",
            "libva info: Trying to open /usr/lib/x86_64-linux-gnu/dri/iHD_drv_video.so\n",
            "libva info: Found init function __vaDriverInit_1_19\n",
            "libva info: va_openDriver() returns 0\n",
            "[0000723d4c0489e0] main video output error: video output creation failed\n",
            "[0000723d58c144e0] main decoder error: failed to create video output\n",
            "[0000723d44560cd0] gl gl: Initialized libplacebo v4.192.1 (API v192)\n",
            "[0000723d58c144e0] avcodec decoder: Using NVIDIA VDPAU Driver Shared Library  550.90.12  Thu Aug 29 05:29:07 UTC 2024 for hardware decoding\n"
          ]
        }
      ],
      "source": [
        "import matplotlib.pyplot as plt\n",
        "import numpy as n\n",
        "\n",
        "%matplotlib widget\n",
        "\n",
        "plt.close('all')\n",
        "\n",
        "def plot_tensor(fig, tensor, position = 111, title = \"\"):\n",
        "    ax = fig.add_subplot(position)\n",
        "    ax.set_title(title)\n",
        "\n",
        "    # Define the origin\n",
        "    origin = np.zeros((4, 2))\n",
        "\n",
        "    # Plot the arrows\n",
        "    for i in range(tensor.shape[0]):\n",
        "        ax.quiver(origin[i, 0], origin[i, 1], \n",
        "                tensor[i, 0], tensor[i, 1],\n",
        "                angles='xy', scale_units='xy', scale=1)\n",
        "\n",
        "        ax.text(tensor[i, 0], tensor[i, 1], f\"Embedding {i}\", color='red')\n",
        "    W_Q = model.blocks[0].attn.W_Q.data[0]\n",
        "    W_K = model.blocks[0].attn.W_K.data[0].transpose(0, 1)\n",
        "    W_QK = torch.matmul(W_Q, W_K)\n",
        "    U, S, V = np.linalg.svd(W_QK.cpu())\n",
        "    print(\"U=\", U, \"\\nS=\", S, \"\\nV=\", V)\n",
        "    \n",
        "    ax.quiver(origin[i, 0], origin[i, 1], U[0, 0], U[0, 1], angles='xy', scale_units='xy', scale=1, color='blue')\n",
        "    ax.text(U[0, 0], U[0, 1], f\"U\", color='blue')\n",
        "    ax.quiver(origin[i, 0], origin[i, 1], V[0, 0], V[0, 1], angles='xy', scale_units='xy', scale=1, color='blue')\n",
        "    ax.text(V[0, 0], V[0, 1], f\"V\", color='blue')\n",
        "\n",
        "    # Set labels\n",
        "    ax.set_xlabel('X')\n",
        "    ax.set_ylabel('Y')\n",
        "    ax.set_xlim(min(tensor[:, 0].min(), 0)*1.2, max(tensor[:, 0].max(), 0) * 1.2)\n",
        "    ax.set_aspect('equal')\n",
        "    ax.set_ylim(min(tensor[:, 1].min(), 0)*1.2, max(tensor[:, 1].max(), 0) * 1.2)\n",
        "\n",
        "fig = plt.figure(figsize=(15, 5))\n",
        "plot_tensor(fig, W_E, 121, \"original\")\n",
        "plot_tensor(fig, R.transpose(), 122, \"rotated\")\n",
        "plt.show()"
      ]
    },
    {
      "cell_type": "code",
      "execution_count": null,
      "metadata": {},
      "outputs": [],
      "source": []
    },
    {
      "cell_type": "markdown",
      "metadata": {},
      "source": [
        "# Unembedding weights"
      ]
    },
    {
      "cell_type": "code",
      "execution_count": 21,
      "metadata": {},
      "outputs": [
        {
          "name": "stdout",
          "output_type": "stream",
          "text": [
            "[[ 1.0067984  -1.2064402   0.80945724]\n",
            " [ 1.8358444   0.17659815 -1.3911792 ]]\n",
            "Q_U= [[-0.48084915 -0.87680334]\n",
            " [-0.87680334  0.48084915]]\n",
            "R_U= [[-2.0937927  0.4252739  0.8305637]\n",
            " [ 0.         1.1427279 -1.3786821]]\n",
            "W_E= [[ 3.2192955  -0.35032398]\n",
            " [-0.52654445  1.4606515 ]\n",
            " [ 0.13953435 -1.9927434 ]\n",
            " [-2.151485    0.89131844]]\n",
            "W_U= [[ 1.0067984  -1.2064402   0.80945724]\n",
            " [ 1.8358444   0.17659815 -1.3911792 ]]\n",
            "[[ 2.5980413 -3.945754   3.0932455]\n",
            " [ 2.1514046  0.8931927 -2.4582431]\n",
            " [-3.5178838 -0.5202546  2.88521  ]\n",
            " [-0.5297897  2.7530432 -2.9815187]]\n",
            "2\n"
          ]
        }
      ],
      "source": [
        "W_U = model.unembed.W_U.data.cpu().numpy()\n",
        "\n",
        "print(W_U)\n",
        "\n",
        "Qrev, Rrev = qr(W_U)\n",
        "\n",
        "print(\"Q_U=\", Qrev)\n",
        "print(\"R_U=\", Rrev)\n",
        "\n",
        "print(\"W_E=\", W_E)\n",
        "print(\"W_U=\", W_U)\n",
        "\n",
        "product = np.matmul(W_E, W_U)\n",
        "print(product)\n",
        "\n",
        "rank = np.linalg.matrix_rank(product)\n",
        "print(rank)"
      ]
    },
    {
      "cell_type": "markdown",
      "metadata": {},
      "source": [
        "# Activations"
      ]
    },
    {
      "cell_type": "code",
      "execution_count": 22,
      "metadata": {},
      "outputs": [
        {
          "name": "stdout",
          "output_type": "stream",
          "text": [
            "tensor([[[ 17.1634, -11.1712,   2.4636],\n",
            "         [ 13.9827,  -4.4364,  -3.6207]],\n",
            "\n",
            "        [[  3.5424,   9.0777, -13.2253],\n",
            "         [ -7.1477,  10.8722,  -8.5302]],\n",
            "\n",
            "        [[ -8.2037, -10.7014,  18.1756],\n",
            "         [ -5.2157,  -7.4279,  12.3087]]], device='cuda:0',\n",
            "       grad_fn=<AddBackward0>)\n"
          ]
        }
      ],
      "source": [
        "input = torch.tensor([[0,3], [1,3], [2,3]])\n",
        "logits, cache = model.run_with_cache(input)\n",
        "print(logits)"
      ]
    },
    {
      "cell_type": "code",
      "execution_count": 23,
      "metadata": {},
      "outputs": [
        {
          "name": "stdout",
          "output_type": "stream",
          "text": [
            "W_K:  tensor([[ 0.2248, -0.1274],\n",
            "        [-1.8512, -0.1664]])\n",
            "W_Q:  tensor([[-0.9076, -1.0428],\n",
            "        [ 0.8719, -0.1422]])\n",
            "W_K transposed:  tensor([[ 0.2248, -1.8512],\n",
            "        [-0.1274, -0.1664]])\n",
            "tensor([[-0.0712,  1.8538],\n",
            "        [ 0.2141, -1.5904]])\n",
            "tensor([[ 1.6610,  1.7129],\n",
            "        [-3.6303,  3.4555]])\n",
            "U:  [[ 0.75650483 -0.6539881 ]\n",
            " [-0.6539881  -0.75650483]]\n",
            "S:  [2.4501853  0.11576889]\n",
            "V:  [[-0.07912531  0.9968647 ]\n",
            " [-0.9968647  -0.07912531]]\n",
            "S_rank_1:  [[2.4501853 0.       ]\n",
            " [0.        0.       ]]\n",
            "W_QK_rank_1:  [[-0.14666485  1.84776546]\n",
            " [ 0.12678977 -1.59736807]]\n"
          ]
        }
      ],
      "source": [
        "W_K = model.blocks[0].attn.W_K.data[0].cpu()\n",
        "W_Q = model.blocks[0].attn.W_Q.data[0].cpu()\n",
        "print(\"W_K: \", W_K)\n",
        "W_K_T = torch.transpose(W_K, 0, 1)\n",
        "W_QK = torch.matmul(W_Q, W_K_T)\n",
        "print(\"W_Q: \", W_Q)\n",
        "print(\"W_K transposed: \", W_K_T)\n",
        "print(W_QK)\n",
        "W_V = model.blocks[0].attn.W_V.data[0].cpu()\n",
        "W_O = model.blocks[0].attn.W_O.data[0].cpu()\n",
        "W_VO = torch.matmul(W_V, W_O)\n",
        "print(W_VO)\n",
        "W_E = model.embed.W_E.data.cpu().numpy()\n",
        "U, S, V = np.linalg.svd(W_QK)\n",
        "print(\"U: \", U)\n",
        "print(\"S: \", S)\n",
        "print(\"V: \", V)\n",
        "S_rank_1 = np.zeros((2, 2))\n",
        "S_rank_1[0, 0] = S[0]\n",
        "print(\"S_rank_1: \", S_rank_1)\n",
        "W_QK_rank_1 = np.matmul(np.matmul(U, S_rank_1), V)\n",
        "print(\"W_QK_rank_1: \", W_QK_rank_1)"
      ]
    },
    {
      "cell_type": "code",
      "execution_count": 24,
      "metadata": {},
      "outputs": [
        {
          "data": {
            "text/plain": [
              "{'hook_embed': tensor([[[ 1.9997,  0.6776],\n",
              "          [-1.0497,  0.1204]],\n",
              " \n",
              "         [[-1.7461,  2.4886],\n",
              "          [-1.0497,  0.1204]],\n",
              " \n",
              "         [[-1.0800, -0.9648],\n",
              "          [-1.0497,  0.1204]]], device='cuda:0'),\n",
              " 'hook_pos_embed': tensor([[[ 1.2196, -1.0279],\n",
              "          [-1.1018,  0.7709]],\n",
              " \n",
              "         [[ 1.2196, -1.0279],\n",
              "          [-1.1018,  0.7709]],\n",
              " \n",
              "         [[ 1.2196, -1.0279],\n",
              "          [-1.1018,  0.7709]]], device='cuda:0'),\n",
              " 'blocks.0.hook_resid_pre': tensor([[[ 3.2193, -0.3503],\n",
              "          [-2.1515,  0.8913]],\n",
              " \n",
              "         [[-0.5265,  1.4607],\n",
              "          [-2.1515,  0.8913]],\n",
              " \n",
              "         [[ 0.1395, -1.9927],\n",
              "          [-2.1515,  0.8913]]], device='cuda:0'),\n",
              " 'blocks.0.attn.hook_q': tensor([[[[-3.2274, -3.3072]],\n",
              " \n",
              "          [[ 2.7299,  2.1168]]],\n",
              " \n",
              " \n",
              "         [[[ 1.7515,  0.3413]],\n",
              " \n",
              "          [[ 2.7299,  2.1168]]],\n",
              " \n",
              " \n",
              "         [[[-1.8642,  0.1379]],\n",
              " \n",
              "          [[ 2.7299,  2.1168]]]], device='cuda:0'),\n",
              " 'blocks.0.attn.hook_k': tensor([[[[ 1.3721, -0.3517]],\n",
              " \n",
              "          [[-2.1336,  0.1257]]],\n",
              " \n",
              " \n",
              "         [[[-2.8223, -0.1761]],\n",
              " \n",
              "          [[-2.1336,  0.1257]]],\n",
              " \n",
              " \n",
              "         [[[ 3.7203,  0.3139]],\n",
              " \n",
              "          [[-2.1336,  0.1257]]]], device='cuda:0'),\n",
              " 'blocks.0.attn.hook_v': tensor([[[[-3.4350, -0.7112]],\n",
              " \n",
              "          [[ 1.9121,  1.7420]]],\n",
              " \n",
              " \n",
              "         [[[-0.2570,  2.8211]],\n",
              " \n",
              "          [[ 1.9121,  1.7420]]],\n",
              " \n",
              " \n",
              "         [[[ 1.0050, -3.8423]],\n",
              " \n",
              "          [[ 1.9121,  1.7420]]]], device='cuda:0'),\n",
              " 'blocks.0.attn.hook_attn_scores': tensor([[[[-2.3088,    -inf],\n",
              "           [ 2.1222, -3.9304]]],\n",
              " \n",
              " \n",
              "         [[[-3.5379,    -inf],\n",
              "           [-5.7115, -3.9304]]],\n",
              " \n",
              " \n",
              "         [[[-4.8734,    -inf],\n",
              "           [ 7.6513, -3.9304]]]], device='cuda:0'),\n",
              " 'blocks.0.attn.hook_pattern': tensor([[[[1.0000e+00, 0.0000e+00],\n",
              "           [9.9765e-01, 2.3461e-03]]],\n",
              " \n",
              " \n",
              "         [[[1.0000e+00, 0.0000e+00],\n",
              "           [1.4417e-01, 8.5583e-01]]],\n",
              " \n",
              " \n",
              "         [[[1.0000e+00, 0.0000e+00],\n",
              "           [9.9999e-01, 9.3347e-06]]]], device='cuda:0'),\n",
              " 'blocks.0.attn.hook_z': tensor([[[[-3.4350, -0.7112]],\n",
              " \n",
              "          [[-3.4224, -0.7055]]],\n",
              " \n",
              " \n",
              "         [[[-0.2570,  2.8211]],\n",
              " \n",
              "          [[ 1.5994,  1.8976]]],\n",
              " \n",
              " \n",
              "         [[[ 1.0050, -3.8423]],\n",
              " \n",
              "          [[ 1.0050, -3.8422]]]], device='cuda:0'),\n",
              " 'blocks.0.hook_attn_out': tensor([[[ 6.6190,  4.3039],\n",
              "          [ 6.5875,  4.2924]],\n",
              " \n",
              "         [[-6.1772,  4.1453],\n",
              "          [-6.7182,  0.0795]],\n",
              " \n",
              "         [[ 7.4660, -6.6469],\n",
              "          [ 7.4659, -6.6468]]], device='cuda:0'),\n",
              " 'blocks.0.hook_resid_mid': tensor([[[ 9.8383,  3.9536],\n",
              "          [ 4.4360,  5.1837]],\n",
              " \n",
              "         [[-6.7037,  5.6060],\n",
              "          [-8.8697,  0.9708]],\n",
              " \n",
              "         [[ 7.6056, -8.6396],\n",
              "          [ 5.3144, -5.7555]]], device='cuda:0'),\n",
              " 'blocks.0.mlp.hook_pre': tensor([], device='cuda:0', size=(3, 2, 0)),\n",
              " 'blocks.0.mlp.hook_post': tensor([], device='cuda:0', size=(3, 2, 0)),\n",
              " 'blocks.0.hook_mlp_out': tensor([[[0., 0.],\n",
              "          [0., 0.]],\n",
              " \n",
              "         [[0., 0.],\n",
              "          [0., 0.]],\n",
              " \n",
              "         [[0., 0.],\n",
              "          [0., 0.]]], device='cuda:0'),\n",
              " 'blocks.0.hook_resid_post': tensor([[[ 9.8383,  3.9536],\n",
              "          [ 4.4360,  5.1837]],\n",
              " \n",
              "         [[-6.7037,  5.6060],\n",
              "          [-8.8697,  0.9708]],\n",
              " \n",
              "         [[ 7.6056, -8.6396],\n",
              "          [ 5.3144, -5.7555]]], device='cuda:0')}"
            ]
          },
          "execution_count": 24,
          "metadata": {},
          "output_type": "execute_result"
        }
      ],
      "source": [
        "cache.cache_dict"
      ]
    },
    {
      "cell_type": "markdown",
      "metadata": {},
      "source": [
        "# Animations"
      ]
    },
    {
      "cell_type": "code",
      "execution_count": 25,
      "metadata": {},
      "outputs": [],
      "source": [
        "from manim import *\n",
        "\n",
        "config.media_width = \"80%\"\n",
        "config.verbosity = \"WARNING\"\n",
        "config.preview = False"
      ]
    },
    {
      "cell_type": "code",
      "execution_count": 26,
      "metadata": {},
      "outputs": [
        {
          "name": "stdout",
          "output_type": "stream",
          "text": [
            "[[tensor([1.9997, 0.6776])(#FFFFFF), tensor([-1.0497,  0.1204])(#888888), tensor([-1.7461,  2.4886])(#FFFFFF), tensor([-1.0497,  0.1204])(#888888), tensor([-1.0800, -0.9648])(#FFFFFF), tensor([-1.0497,  0.1204])(#888888)], [tensor([ 3.2193, -0.3503])(#FFFFFF), tensor([-2.1515,  0.8913])(#FFFFFF), tensor([-0.5265,  1.4607])(#FFFFFF), tensor([-2.1515,  0.8913])(#FFFFFF), tensor([ 0.1395, -1.9927])(#FFFFFF), tensor([-2.1515,  0.8913])(#FFFFFF)], [tensor([9.8383, 3.9536])(#888888), tensor([4.4360, 5.1837])(#FFFFFF), tensor([-6.7037,  5.6060])(#888888), tensor([-8.8697,  0.9708])(#FFFFFF), tensor([ 7.6056, -8.6396])(#888888), tensor([ 5.3144, -5.7555])(#FFFFFF)]]\n"
          ]
        }
      ],
      "source": [
        "class VectorParams:\n",
        "    def __init__(self, values = [], color = WHITE):\n",
        "        self.values = values\n",
        "        self.color = color\n",
        "    def __repr__(self) -> str:\n",
        "        return str(self.values) + \"(\" + str(self.color) + \")\"\n",
        "\n",
        "class Data:\n",
        "    def __init__(self):\n",
        "        self.vectors: list[list[VectorParams]] = [[]]\n",
        "        self.steps = 0\n",
        "\n",
        "    def add_vector(self, vector, color = WHITE):\n",
        "        self.vectors[self.steps].append(VectorParams(values = vector, color = color))\n",
        "\n",
        "    def next_step(self):\n",
        "        self.steps += 1\n",
        "        self.vectors.append([])\n",
        "\n",
        "    def add_vectors_at_hook(self, c: ActivationCache, hook: str, color0 = WHITE, color1 = WHITE):\n",
        "        for i in range(3):\n",
        "            self.add_vector(c.cache_dict[hook][i][0].cpu(), color = color0)\n",
        "            self.add_vector(c.cache_dict[hook][i][1].cpu(), color = color1)\n",
        "\n",
        "\n",
        "vectors = Data()\n",
        "vectors.add_vectors_at_hook(cache, \"hook_embed\", color1 = GRAY)\n",
        "vectors.next_step()\n",
        "vectors.add_vectors_at_hook(cache, \"blocks.0.hook_resid_pre\")\n",
        "vectors.next_step()\n",
        "vectors.add_vectors_at_hook(cache, \"blocks.0.hook_resid_mid\", color0 = GRAY)\n",
        "#vectors.add_vectors_at_hook(cache, \"blocks.0.hook_resid_post\")\n",
        "\n",
        "print(vectors.vectors)"
      ]
    },
    {
      "cell_type": "code",
      "execution_count": 27,
      "metadata": {},
      "outputs": [],
      "source": [
        "def change_font_size(labeled_arrow: LabeledArrow, new_size):\n",
        "    # print(labeled_arrow, labeled_arrow.submobjects)\n",
        "    # print(labeled_arrow.submobjects[-1].font_size)\n",
        "    if not isinstance(labeled_arrow, LabeledArrow):\n",
        "        return\n",
        "    label = labeled_arrow.submobjects[-1]\n",
        "    box = labeled_arrow.submobjects[-2]\n",
        "    if not isinstance(box, BackgroundRectangle):\n",
        "        box = labeled_arrow.submobjects[-3]\n",
        "    coords = label.get_center()\n",
        "    # print(new_size)\n",
        "    labeled_arrow.submobjects[-1] = MathTex(\n",
        "        label.get_tex_string(), color=label.color, font_size=new_size\n",
        "    )\n",
        "    # print(\"size=\", labeled_arrow.submobjects[-1].font_size)\n",
        "    label = labeled_arrow.submobjects[-1]\n",
        "    label.move_to(coords)\n",
        "    box.width = label.width + 2 * box.buff\n",
        "    box.height = label.height + 2 * box.buff"
      ]
    },
    {
      "cell_type": "code",
      "execution_count": 28,
      "metadata": {},
      "outputs": [],
      "source": [
        "class VisualizeTransformer(MovingCameraScene):\n",
        "    def construct(self):\n",
        "        print(\"v=\", vectors.vectors)\n",
        "        axes = Axes(\n",
        "            x_range = [-20, 20, 1],\n",
        "            y_range = [-20, 20, 1],\n",
        "            x_axis_config={\n",
        "                \"numbers_to_include\": np.arange(-18, 18.1, 3),\n",
        "                \"font_size\": 24\n",
        "            },\n",
        "            y_axis_config={\n",
        "                \"numbers_to_include\": np.arange(-18, 18.1, 3), \n",
        "                \"font_size\": 24            \n",
        "            },\n",
        "            x_length = 40,\n",
        "            y_length = 40,\n",
        "            axis_config={\"color\": GREEN}\n",
        "        )\n",
        "        axes_labels = axes.get_axis_labels()\n",
        "\n",
        "        scale = ValueTracker(2)\n",
        "\n",
        "        arrows = VGroup()\n",
        "        def update_scale(self):\n",
        "            self.stroke_width = 6 * scale.get_value()\n",
        "            change_font_size(self, 48 * scale.get_value())\n",
        "            # print(\"New font size: \", self.font_size)\n",
        "\n",
        "        # Embedding arrows\n",
        "        for i, t in enumerate(vectors.vectors[0]):\n",
        "            # print(t, t.numpy())\n",
        "            arrow = LabeledArrow(\n",
        "                start=ORIGIN,\n",
        "                end=np.append(t.values.numpy(), 0),\n",
        "                buff = 0,\n",
        "                label = str(i//2) if i%2==0 else str(i//2) + \"=\",\n",
        "                label_frame = False,\n",
        "                label_color=YELLOW,\n",
        "                color = t.color,\n",
        "                max_stroke_width_to_length_ratio = 100,\n",
        "            )\n",
        "\n",
        "            arrow.add_updater(update_scale)\n",
        "            arrows.add(arrow)\n",
        "\n",
        "        # Transitioing the arrows through the model\n",
        "        self.add(axes, axes.get_axis_labels(), arrows)\n",
        "        for step in range(1, len(vectors.vectors)):\n",
        "            new_arrows = VGroup()\n",
        "            transition_arrows = VGroup()\n",
        "            for i, t in enumerate(vectors.vectors[step]):\n",
        "                # print(t, t.numpy())\n",
        "                new_arrow = LabeledArrow(\n",
        "                    start=ORIGIN,\n",
        "                    end=np.append(t.values.numpy(), 0),\n",
        "                    buff=0,\n",
        "                    label=str(i // 2) if i % 2 == 0 else str(i // 2) + \"=\",\n",
        "                    label_frame=False,\n",
        "                    label_color=YELLOW,\n",
        "                    color=t.color,\n",
        "                    max_stroke_width_to_length_ratio=100,\n",
        "                )\n",
        "                new_arrow.add_updater(update_scale)\n",
        "                new_arrows.add(new_arrow)\n",
        "                transition_arrow = Arrow(\n",
        "                    start=arrows[i].end, end=new_arrows[i].end, buff=0, color=RED\n",
        "                )\n",
        "                transition_arrow.add_updater(update_scale)\n",
        "                transition_arrows.add(transition_arrow)\n",
        "\n",
        "            view = SurroundingRectangle(new_arrows)\n",
        "            factor = max(\n",
        "                view.width / self.camera.frame_width,\n",
        "                view.height / self.camera.frame_height,\n",
        "            )\n",
        "            print(\n",
        "                factor,\n",
        "                self.camera.frame_width, view.width,\n",
        "                self.camera.frame_height, view.height,\n",
        "            )\n",
        "            self.wait()\n",
        "            self.play(FadeIn(transition_arrows), self.camera.auto_zoom(view, margin = 2), scale.animate.set_value(scale.get_value() * factor))\n",
        "            self.wait()\n",
        "            self.play(\n",
        "                ReplacementTransform(arrows, new_arrows)\n",
        "            )\n",
        "            self.wait()\n",
        "            self.play(FadeOut(transition_arrows))\n",
        "            self.wait()\n",
        "            arrows = new_arrows\n",
        "\n",
        "        # Unembedding Arrows\n",
        "        embedding_arrows = VGroup()\n",
        "        data = model.W_U.data\n",
        "        for i in range(model.W_U.data.size()[1]):\n",
        "            embedding_arrow = LabeledArrow(\n",
        "                start=ORIGIN,\n",
        "                end=[data[0, i].item(), data[1, i].item(), 0],\n",
        "                label=str(i),\n",
        "                color=BLUE,\n",
        "            )\n",
        "            embedding_arrows.add(embedding_arrow)\n",
        "        self.play(FadeIn(embedding_arrows))\n",
        "        self.wait()\n",
        "\n",
        "# v = VisualizeTransformer()\n",
        "# v.construct()"
      ]
    },
    {
      "cell_type": "code",
      "execution_count": 29,
      "metadata": {},
      "outputs": [
        {
          "data": {
            "text/html": [
              "<pre style=\"white-space:pre;overflow-x:auto;line-height:normal;font-family:Menlo,'DejaVu Sans Mono',consolas,'Courier New',monospace\">Manim Community <span style=\"color: #008000; text-decoration-color: #008000\">v0.18.1</span>\n",
              "\n",
              "</pre>\n"
            ],
            "text/plain": [
              "Manim Community \u001b[32mv0.\u001b[0m\u001b[32m18.1\u001b[0m\n",
              "\n"
            ]
          },
          "metadata": {},
          "output_type": "display_data"
        },
        {
          "name": "stdout",
          "output_type": "stream",
          "text": [
            "v= [[tensor([1.9997, 0.6776])(#FFFFFF), tensor([-1.0497,  0.1204])(#888888), tensor([-1.7461,  2.4886])(#FFFFFF), tensor([-1.0497,  0.1204])(#888888), tensor([-1.0800, -0.9648])(#FFFFFF), tensor([-1.0497,  0.1204])(#888888)], [tensor([ 3.2193, -0.3503])(#FFFFFF), tensor([-2.1515,  0.8913])(#FFFFFF), tensor([-0.5265,  1.4607])(#FFFFFF), tensor([-2.1515,  0.8913])(#FFFFFF), tensor([ 0.1395, -1.9927])(#FFFFFF), tensor([-2.1515,  0.8913])(#FFFFFF)], [tensor([9.8383, 3.9536])(#888888), tensor([4.4360, 5.1837])(#FFFFFF), tensor([-6.7037,  5.6060])(#888888), tensor([-8.8697,  0.9708])(#FFFFFF), tensor([ 7.6056, -8.6396])(#888888), tensor([ 5.3144, -5.7555])(#FFFFFF)]]\n",
            "0.45703113807365303 14.222222222222221 5.570780467987061 7.993754879000781 3.653394889831543\n"
          ]
        },
        {
          "name": "stderr",
          "output_type": "stream",
          "text": [
            "                                                                                                           \r"
          ]
        },
        {
          "name": "stdout",
          "output_type": "stream",
          "text": [
            "2.5552045236328884 10.058331741491953 18.908044052124023 5.653394889831543 14.445580196380615\n"
          ]
        },
        {
          "name": "stderr",
          "output_type": "stream",
          "text": [
            "[000058af32353640] main libvlc: VLC wird mit dem Standard-Interface ausgeführt. Benutzen Sie 'cvlc', um VLC ohne Interface zu verwenden.\n"
          ]
        },
        {
          "data": {
            "text/html": [
              "<video src=\"media/jupyter/Video@2024-09-27@22-38-56.mp4\" controls autoplay loop style=\"max-width: 80%;\"  >\n",
              "      Your browser does not support the <code>video</code> element.\n",
              "    </video>"
            ],
            "text/plain": [
              "<IPython.core.display.Video object>"
            ]
          },
          "metadata": {},
          "output_type": "display_data"
        }
      ],
      "source": [
        "%%manim -ql -p Video\n",
        "\n",
        "class Video(VisualizeTransformer):\n",
        "    def construct(self):\n",
        "        VisualizeTransformer.construct(self)"
      ]
    }
  ],
  "metadata": {
    "colab": {
      "provenance": []
    },
    "kernelspec": {
      "display_name": "base",
      "language": "python",
      "name": "python3"
    },
    "language_info": {
      "codemirror_mode": {
        "name": "ipython",
        "version": 3
      },
      "file_extension": ".py",
      "mimetype": "text/x-python",
      "name": "python",
      "nbconvert_exporter": "python",
      "pygments_lexer": "ipython3",
      "version": "3.10.12"
    },
    "orig_nbformat": 4,
    "vscode": {
      "interpreter": {
        "hash": "8859a5491331dba93123a91c2831400aced845b502848170e05fcb48b2c144be"
      }
    }
  },
  "nbformat": 4,
  "nbformat_minor": 0
}
