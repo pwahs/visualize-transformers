{
  "cells": [
    {
      "cell_type": "markdown",
      "metadata": {},
      "source": [
        "# Interpreting Identity"
      ]
    },
    {
      "cell_type": "markdown",
      "metadata": {
        "id": "WBvIU6zdIZpa"
      },
      "source": [
        "# Setup\n",
        "(No need to read)"
      ]
    },
    {
      "cell_type": "code",
      "execution_count": 1,
      "metadata": {
        "id": "ssx2pnTOIZpa"
      },
      "outputs": [],
      "source": [
        "TRAIN_MODEL = True"
      ]
    },
    {
      "cell_type": "code",
      "execution_count": 2,
      "metadata": {
        "id": "7Jfz-lAWIZpb",
        "outputId": "48df1c71-5bc3-4a14-9a34-1af5c16786a4"
      },
      "outputs": [
        {
          "name": "stdout",
          "output_type": "stream",
          "text": [
            "Requirement already satisfied: pip in /home/philippw/Stuff/programming/mechint/getting_started/.venv/lib/python3.10/site-packages (24.2)\n",
            "Note: you may need to restart the kernel to use updated packages.\n",
            "Running as a Jupyter notebook - intended for development only!\n"
          ]
        },
        {
          "name": "stderr",
          "output_type": "stream",
          "text": [
            "/tmp/ipykernel_72258/863253725.py:24: DeprecationWarning: `magic(...)` is deprecated since IPython 0.13 (warning added in 8.1), use run_line_magic(magic_name, parameter_s).\n",
            "  ipython.magic(\"load_ext autoreload\")\n",
            "/tmp/ipykernel_72258/863253725.py:25: DeprecationWarning: `magic(...)` is deprecated since IPython 0.13 (warning added in 8.1), use run_line_magic(magic_name, parameter_s).\n",
            "  ipython.magic(\"autoreload 2\")\n"
          ]
        },
        {
          "name": "stdout",
          "output_type": "stream",
          "text": [
            "Requirement already satisfied: ipympl in /home/philippw/Stuff/programming/mechint/getting_started/.venv/lib/python3.10/site-packages (0.9.4)\n",
            "Requirement already satisfied: ipython-genutils in /home/philippw/Stuff/programming/mechint/getting_started/.venv/lib/python3.10/site-packages (from ipympl) (0.2.0)\n",
            "Requirement already satisfied: ipython<9 in /home/philippw/Stuff/programming/mechint/getting_started/.venv/lib/python3.10/site-packages (from ipympl) (8.22.1)\n",
            "Requirement already satisfied: ipywidgets<9,>=7.6.0 in /home/philippw/Stuff/programming/mechint/getting_started/.venv/lib/python3.10/site-packages (from ipympl) (8.1.5)\n",
            "Requirement already satisfied: matplotlib<4,>=3.4.0 in /home/philippw/Stuff/programming/mechint/getting_started/.venv/lib/python3.10/site-packages (from ipympl) (3.8.3)\n",
            "Requirement already satisfied: numpy in /home/philippw/Stuff/programming/mechint/getting_started/.venv/lib/python3.10/site-packages (from ipympl) (1.26.4)\n",
            "Requirement already satisfied: pillow in /home/philippw/Stuff/programming/mechint/getting_started/.venv/lib/python3.10/site-packages (from ipympl) (10.2.0)\n",
            "Requirement already satisfied: traitlets<6 in /home/philippw/Stuff/programming/mechint/getting_started/.venv/lib/python3.10/site-packages (from ipympl) (5.14.1)\n",
            "Requirement already satisfied: decorator in /home/philippw/Stuff/programming/mechint/getting_started/.venv/lib/python3.10/site-packages (from ipython<9->ipympl) (5.1.1)\n",
            "Requirement already satisfied: jedi>=0.16 in /home/philippw/Stuff/programming/mechint/getting_started/.venv/lib/python3.10/site-packages (from ipython<9->ipympl) (0.19.1)\n",
            "Requirement already satisfied: matplotlib-inline in /home/philippw/Stuff/programming/mechint/getting_started/.venv/lib/python3.10/site-packages (from ipython<9->ipympl) (0.1.6)\n",
            "Requirement already satisfied: prompt-toolkit<3.1.0,>=3.0.41 in /home/philippw/Stuff/programming/mechint/getting_started/.venv/lib/python3.10/site-packages (from ipython<9->ipympl) (3.0.43)\n",
            "Requirement already satisfied: pygments>=2.4.0 in /home/philippw/Stuff/programming/mechint/getting_started/.venv/lib/python3.10/site-packages (from ipython<9->ipympl) (2.17.2)\n",
            "Requirement already satisfied: stack-data in /home/philippw/Stuff/programming/mechint/getting_started/.venv/lib/python3.10/site-packages (from ipython<9->ipympl) (0.6.3)\n",
            "Requirement already satisfied: exceptiongroup in /home/philippw/Stuff/programming/mechint/getting_started/.venv/lib/python3.10/site-packages (from ipython<9->ipympl) (1.2.0)\n",
            "Requirement already satisfied: pexpect>4.3 in /home/philippw/Stuff/programming/mechint/getting_started/.venv/lib/python3.10/site-packages (from ipython<9->ipympl) (4.9.0)\n",
            "Requirement already satisfied: comm>=0.1.3 in /home/philippw/Stuff/programming/mechint/getting_started/.venv/lib/python3.10/site-packages (from ipywidgets<9,>=7.6.0->ipympl) (0.2.1)\n",
            "Requirement already satisfied: widgetsnbextension~=4.0.12 in /home/philippw/Stuff/programming/mechint/getting_started/.venv/lib/python3.10/site-packages (from ipywidgets<9,>=7.6.0->ipympl) (4.0.13)\n",
            "Requirement already satisfied: jupyterlab-widgets~=3.0.12 in /home/philippw/Stuff/programming/mechint/getting_started/.venv/lib/python3.10/site-packages (from ipywidgets<9,>=7.6.0->ipympl) (3.0.13)\n",
            "Requirement already satisfied: contourpy>=1.0.1 in /home/philippw/Stuff/programming/mechint/getting_started/.venv/lib/python3.10/site-packages (from matplotlib<4,>=3.4.0->ipympl) (1.2.0)\n",
            "Requirement already satisfied: cycler>=0.10 in /home/philippw/Stuff/programming/mechint/getting_started/.venv/lib/python3.10/site-packages (from matplotlib<4,>=3.4.0->ipympl) (0.12.1)\n",
            "Requirement already satisfied: fonttools>=4.22.0 in /home/philippw/Stuff/programming/mechint/getting_started/.venv/lib/python3.10/site-packages (from matplotlib<4,>=3.4.0->ipympl) (4.50.0)\n",
            "Requirement already satisfied: kiwisolver>=1.3.1 in /home/philippw/Stuff/programming/mechint/getting_started/.venv/lib/python3.10/site-packages (from matplotlib<4,>=3.4.0->ipympl) (1.4.5)\n",
            "Requirement already satisfied: packaging>=20.0 in /home/philippw/Stuff/programming/mechint/getting_started/.venv/lib/python3.10/site-packages (from matplotlib<4,>=3.4.0->ipympl) (23.2)\n",
            "Requirement already satisfied: pyparsing>=2.3.1 in /home/philippw/Stuff/programming/mechint/getting_started/.venv/lib/python3.10/site-packages (from matplotlib<4,>=3.4.0->ipympl) (3.1.2)\n",
            "Requirement already satisfied: python-dateutil>=2.7 in /home/philippw/Stuff/programming/mechint/getting_started/.venv/lib/python3.10/site-packages (from matplotlib<4,>=3.4.0->ipympl) (2.8.2)\n",
            "Requirement already satisfied: parso<0.9.0,>=0.8.3 in /home/philippw/Stuff/programming/mechint/getting_started/.venv/lib/python3.10/site-packages (from jedi>=0.16->ipython<9->ipympl) (0.8.3)\n",
            "Requirement already satisfied: ptyprocess>=0.5 in /home/philippw/Stuff/programming/mechint/getting_started/.venv/lib/python3.10/site-packages (from pexpect>4.3->ipython<9->ipympl) (0.7.0)\n",
            "Requirement already satisfied: wcwidth in /home/philippw/Stuff/programming/mechint/getting_started/.venv/lib/python3.10/site-packages (from prompt-toolkit<3.1.0,>=3.0.41->ipython<9->ipympl) (0.2.13)\n",
            "Requirement already satisfied: six>=1.5 in /home/philippw/Stuff/programming/mechint/getting_started/.venv/lib/python3.10/site-packages (from python-dateutil>=2.7->matplotlib<4,>=3.4.0->ipympl) (1.16.0)\n",
            "Requirement already satisfied: executing>=1.2.0 in /home/philippw/Stuff/programming/mechint/getting_started/.venv/lib/python3.10/site-packages (from stack-data->ipython<9->ipympl) (2.0.1)\n",
            "Requirement already satisfied: asttokens>=2.1.0 in /home/philippw/Stuff/programming/mechint/getting_started/.venv/lib/python3.10/site-packages (from stack-data->ipython<9->ipympl) (2.4.1)\n",
            "Requirement already satisfied: pure-eval in /home/philippw/Stuff/programming/mechint/getting_started/.venv/lib/python3.10/site-packages (from stack-data->ipython<9->ipympl) (0.2.2)\n",
            "Note: you may need to restart the kernel to use updated packages.\n",
            "Requirement already satisfied: scipy in /home/philippw/Stuff/programming/mechint/getting_started/.venv/lib/python3.10/site-packages (1.14.1)\n",
            "Requirement already satisfied: numpy<2.3,>=1.23.5 in /home/philippw/Stuff/programming/mechint/getting_started/.venv/lib/python3.10/site-packages (from scipy) (1.26.4)\n",
            "Note: you may need to restart the kernel to use updated packages.\n",
            "Requirement already satisfied: manim in /home/philippw/Stuff/programming/mechint/getting_started/.venv/lib/python3.10/site-packages (0.18.1)\n",
            "Requirement already satisfied: Pillow>=9.1 in /home/philippw/Stuff/programming/mechint/getting_started/.venv/lib/python3.10/site-packages (from manim) (10.2.0)\n",
            "Requirement already satisfied: Pygments>=2.0.0 in /home/philippw/Stuff/programming/mechint/getting_started/.venv/lib/python3.10/site-packages (from manim) (2.17.2)\n",
            "Requirement already satisfied: click>=8.0 in /home/philippw/Stuff/programming/mechint/getting_started/.venv/lib/python3.10/site-packages (from manim) (8.1.7)\n",
            "Requirement already satisfied: cloup>=2.0.0 in /home/philippw/Stuff/programming/mechint/getting_started/.venv/lib/python3.10/site-packages (from manim) (3.0.5)\n",
            "Requirement already satisfied: decorator>=4.3.2 in /home/philippw/Stuff/programming/mechint/getting_started/.venv/lib/python3.10/site-packages (from manim) (5.1.1)\n",
            "Requirement already satisfied: isosurfaces>=0.1.0 in /home/philippw/Stuff/programming/mechint/getting_started/.venv/lib/python3.10/site-packages (from manim) (0.1.2)\n",
            "Requirement already satisfied: manimpango<1.0.0,>=0.5.0 in /home/philippw/Stuff/programming/mechint/getting_started/.venv/lib/python3.10/site-packages (from manim) (0.6.0)\n",
            "Requirement already satisfied: mapbox-earcut>=1.0.0 in /home/philippw/Stuff/programming/mechint/getting_started/.venv/lib/python3.10/site-packages (from manim) (1.0.2)\n",
            "Requirement already satisfied: moderngl<6.0.0,>=5.0.0 in /home/philippw/Stuff/programming/mechint/getting_started/.venv/lib/python3.10/site-packages (from manim) (5.11.1)\n",
            "Requirement already satisfied: moderngl-window>=2.0.0 in /home/philippw/Stuff/programming/mechint/getting_started/.venv/lib/python3.10/site-packages (from manim) (2.4.6)\n",
            "Requirement already satisfied: networkx>=2.6 in /home/philippw/Stuff/programming/mechint/getting_started/.venv/lib/python3.10/site-packages (from manim) (3.2.1)\n",
            "Requirement already satisfied: numpy>=1.26 in /home/philippw/Stuff/programming/mechint/getting_started/.venv/lib/python3.10/site-packages (from manim) (1.26.4)\n",
            "Requirement already satisfied: pycairo<2.0.0,>=1.13 in /home/philippw/Stuff/programming/mechint/getting_started/.venv/lib/python3.10/site-packages (from manim) (1.27.0)\n",
            "Requirement already satisfied: pydub>=0.20.0 in /home/philippw/Stuff/programming/mechint/getting_started/.venv/lib/python3.10/site-packages (from manim) (0.25.1)\n",
            "Requirement already satisfied: rich>=12.0.0 in /home/philippw/Stuff/programming/mechint/getting_started/.venv/lib/python3.10/site-packages (from manim) (13.7.0)\n",
            "Requirement already satisfied: scipy>=1.6.0 in /home/philippw/Stuff/programming/mechint/getting_started/.venv/lib/python3.10/site-packages (from manim) (1.14.1)\n",
            "Requirement already satisfied: screeninfo>=0.7 in /home/philippw/Stuff/programming/mechint/getting_started/.venv/lib/python3.10/site-packages (from manim) (0.8.1)\n",
            "Requirement already satisfied: skia-pathops>=0.7.0 in /home/philippw/Stuff/programming/mechint/getting_started/.venv/lib/python3.10/site-packages (from manim) (0.8.0.post1)\n",
            "Requirement already satisfied: srt>=3.0.0 in /home/philippw/Stuff/programming/mechint/getting_started/.venv/lib/python3.10/site-packages (from manim) (3.5.3)\n",
            "Requirement already satisfied: svgelements>=1.8.0 in /home/philippw/Stuff/programming/mechint/getting_started/.venv/lib/python3.10/site-packages (from manim) (1.9.6)\n",
            "Requirement already satisfied: tqdm>=4.0.0 in /home/philippw/Stuff/programming/mechint/getting_started/.venv/lib/python3.10/site-packages (from manim) (4.66.2)\n",
            "Requirement already satisfied: typing-extensions>=4.0.0 in /home/philippw/Stuff/programming/mechint/getting_started/.venv/lib/python3.10/site-packages (from manim) (4.9.0)\n",
            "Requirement already satisfied: watchdog>=2.0.0 in /home/philippw/Stuff/programming/mechint/getting_started/.venv/lib/python3.10/site-packages (from manim) (5.0.2)\n",
            "Requirement already satisfied: glcontext>=3.0.0 in /home/philippw/Stuff/programming/mechint/getting_started/.venv/lib/python3.10/site-packages (from moderngl<6.0.0,>=5.0.0->manim) (3.0.0)\n",
            "Requirement already satisfied: pyglet>=2.0.0 in /home/philippw/Stuff/programming/mechint/getting_started/.venv/lib/python3.10/site-packages (from moderngl-window>=2.0.0->manim) (2.0.17)\n",
            "Requirement already satisfied: pyrr<1,>=0.10.3 in /home/philippw/Stuff/programming/mechint/getting_started/.venv/lib/python3.10/site-packages (from moderngl-window>=2.0.0->manim) (0.10.3)\n",
            "Requirement already satisfied: markdown-it-py>=2.2.0 in /home/philippw/Stuff/programming/mechint/getting_started/.venv/lib/python3.10/site-packages (from rich>=12.0.0->manim) (3.0.0)\n",
            "Requirement already satisfied: mdurl~=0.1 in /home/philippw/Stuff/programming/mechint/getting_started/.venv/lib/python3.10/site-packages (from markdown-it-py>=2.2.0->rich>=12.0.0->manim) (0.1.2)\n",
            "Requirement already satisfied: multipledispatch in /home/philippw/Stuff/programming/mechint/getting_started/.venv/lib/python3.10/site-packages (from pyrr<1,>=0.10.3->moderngl-window>=2.0.0->manim) (1.0.0)\n",
            "Note: you may need to restart the kernel to use updated packages.\n"
          ]
        }
      ],
      "source": [
        "# Janky code to do different setup when run in a Colab notebook vs VSCode\n",
        "import os\n",
        "\n",
        "DEVELOPMENT_MODE = True\n",
        "IN_GITHUB = os.getenv(\"GITHUB_ACTIONS\") == \"true\"\n",
        "# Upgrade pip\n",
        "%pip install --upgrade pip\n",
        "try:\n",
        "    import google.colab\n",
        "    IN_COLAB = True\n",
        "    print(\"Running as a Colab notebook\")\n",
        "\n",
        "    # PySvelte is an unmaintained visualization library, use it as a backup if circuitsvis isn't working\n",
        "    # # Install another version of node that makes PySvelte work way faster\n",
        "    # !curl -fsSL https://deb.nodesource.com/setup_16.x | sudo -E bash -; sudo apt-get install -y nodejs\n",
        "    # %pip install git+https://github.com/neelnanda-io/PySvelte.git\n",
        "except:\n",
        "    IN_COLAB = False\n",
        "    print(\"Running as a Jupyter notebook - intended for development only!\")\n",
        "    from IPython import get_ipython\n",
        "\n",
        "    ipython = get_ipython()\n",
        "    # Code to automatically update the HookedTransformer code as its edited without restarting the kernel\n",
        "    ipython.magic(\"load_ext autoreload\")\n",
        "    ipython.magic(\"autoreload 2\")\n",
        "    ipython.run_line_magic(\"pip\", \"install ipympl\")\n",
        "    ipython.run_line_magic(\"pip\", \"install scipy\")\n",
        "    ipython.run_line_magic(\"pip\", \"install manim\")\n",
        "\n",
        "if IN_COLAB or IN_GITHUB:\n",
        "    %pip install transformer_lens\n",
        "    %pip install circuitsvis\n",
        "    %pip install ipympl"
      ]
    },
    {
      "cell_type": "code",
      "execution_count": 3,
      "metadata": {
        "id": "caNlrFAnIZpc",
        "outputId": "b116f2ef-8c45-4d6b-a408-b86670d5b807"
      },
      "outputs": [
        {
          "name": "stdout",
          "output_type": "stream",
          "text": [
            "Using renderer: notebook_connected\n"
          ]
        }
      ],
      "source": [
        "# Plotly needs a different renderer for VSCode/Notebooks vs Colab argh\n",
        "import plotly.io as pio\n",
        "if IN_COLAB or not DEVELOPMENT_MODE:\n",
        "    pio.renderers.default = \"colab\"\n",
        "else:\n",
        "    pio.renderers.default = \"notebook_connected\"\n",
        "print(f\"Using renderer: {pio.renderers.default}\")"
      ]
    },
    {
      "cell_type": "code",
      "execution_count": 4,
      "metadata": {
        "id": "bakRjAcIIZpc"
      },
      "outputs": [],
      "source": [
        "pio.templates['plotly'].layout.xaxis.title.font.size = 20\n",
        "pio.templates['plotly'].layout.yaxis.title.font.size = 20\n",
        "pio.templates['plotly'].layout.title.font.size = 30"
      ]
    },
    {
      "cell_type": "code",
      "execution_count": 5,
      "metadata": {
        "id": "i8GCNEdpIZpc"
      },
      "outputs": [],
      "source": [
        "# Import stuff\n",
        "import torch\n",
        "import torch.nn as nn\n",
        "import torch.nn.functional as F\n",
        "import torch.optim as optim\n",
        "import numpy as np\n",
        "import einops\n",
        "from fancy_einsum import einsum\n",
        "import os\n",
        "import tqdm.auto as tqdm\n",
        "import random\n",
        "from pathlib import Path\n",
        "import plotly.express as px\n",
        "from torch.utils.data import DataLoader\n",
        "\n",
        "from typing import List, Union, Optional\n",
        "from functools import partial\n",
        "import copy\n",
        "\n",
        "import itertools\n",
        "from transformers import AutoModelForCausalLM, AutoConfig, AutoTokenizer\n",
        "import dataclasses\n",
        "import datasets\n",
        "from IPython.display import HTML"
      ]
    },
    {
      "cell_type": "code",
      "execution_count": 6,
      "metadata": {
        "id": "KxZBfCTlIZpd"
      },
      "outputs": [],
      "source": [
        "import transformer_lens\n",
        "import transformer_lens.utils as utils\n",
        "from transformer_lens.hook_points import (\n",
        "    HookedRootModule,\n",
        "    HookPoint,\n",
        ")  # Hooking utilities\n",
        "from transformer_lens import HookedTransformer, HookedTransformerConfig, FactoredMatrix, ActivationCache\n",
        "\n",
        "\n",
        "device = \"cuda\" if torch.cuda.is_available() else \"cpu\""
      ]
    },
    {
      "cell_type": "markdown",
      "metadata": {
        "id": "0iC52U60IZpd"
      },
      "source": [
        "Plotting helper functions:"
      ]
    },
    {
      "cell_type": "code",
      "execution_count": 7,
      "metadata": {
        "id": "hvpC2mPgIZpd"
      },
      "outputs": [],
      "source": [
        "def imshow(tensor, renderer=None, xaxis=\"\", yaxis=\"\", **kwargs):\n",
        "    px.imshow(utils.to_numpy(tensor), color_continuous_midpoint=0.0, color_continuous_scale=\"RdBu\", labels={\"x\":xaxis, \"y\":yaxis}, **kwargs).show(renderer)\n",
        "\n",
        "def line(tensor, renderer=None, xaxis=\"\", yaxis=\"\", **kwargs):\n",
        "    px.line(utils.to_numpy(tensor), labels={\"x\":xaxis, \"y\":yaxis}, **kwargs).show(renderer)\n",
        "\n",
        "def scatter(x, y, xaxis=\"\", yaxis=\"\", caxis=\"\", renderer=None, **kwargs):\n",
        "    x = utils.to_numpy(x)\n",
        "    y = utils.to_numpy(y)\n",
        "    px.scatter(y=y, x=x, labels={\"x\":xaxis, \"y\":yaxis, \"color\":caxis}, **kwargs).show(renderer)"
      ]
    },
    {
      "cell_type": "code",
      "execution_count": 8,
      "metadata": {
        "id": "dFCGZobRIZpe"
      },
      "outputs": [],
      "source": [
        "# Define the location to save the model, using a relative path\n",
        "PTH_LOCATION = \"workspace/_scratch/identity.pth\"\n",
        "\n",
        "# Create the directory if it does not exist\n",
        "os.makedirs(Path(PTH_LOCATION).parent, exist_ok=True)"
      ]
    },
    {
      "cell_type": "markdown",
      "metadata": {
        "id": "7M2Nzu7EIZpe"
      },
      "source": [
        "# Model Training"
      ]
    },
    {
      "cell_type": "markdown",
      "metadata": {
        "id": "vOckI2-GIZpe"
      },
      "source": [
        "## Config"
      ]
    },
    {
      "cell_type": "code",
      "execution_count": 9,
      "metadata": {
        "id": "_2OXlPG-IZpe"
      },
      "outputs": [],
      "source": [
        "p = 3\n",
        "frac_train = 1\n",
        "\n",
        "# Optimizer config\n",
        "lr = 1e-3\n",
        "wd = 1e-2\n",
        "betas = (0.9, 0.999)\n",
        "\n",
        "num_epochs = 10000\n",
        "checkpoint_every = 200\n",
        "\n",
        "DATA_SEED = 598"
      ]
    },
    {
      "cell_type": "markdown",
      "metadata": {
        "id": "kT7xY9WsIZpe"
      },
      "source": [
        "## Define Task\n",
        "* Define modular addition\n",
        "* Define the dataset & labels"
      ]
    },
    {
      "cell_type": "markdown",
      "metadata": {
        "id": "aOJMbA26IZpe"
      },
      "source": [
        "Input format:\n",
        "|a|=|"
      ]
    },
    {
      "cell_type": "code",
      "execution_count": 10,
      "metadata": {
        "id": "HGFlE125IZpe"
      },
      "outputs": [],
      "source": [
        "a_vector = torch.arange(p)\n",
        "equals_vector = einops.repeat(torch.tensor(p), \" -> i\", i=p)\n"
      ]
    },
    {
      "cell_type": "code",
      "execution_count": 11,
      "metadata": {
        "id": "6JOHNIJDIZpe",
        "outputId": "a35e475f-c388-4568-9c29-228adf72fc44"
      },
      "outputs": [
        {
          "name": "stdout",
          "output_type": "stream",
          "text": [
            "tensor([[0, 3],\n",
            "        [1, 3],\n",
            "        [2, 3]], device='cuda:0')\n",
            "torch.Size([3, 2])\n"
          ]
        }
      ],
      "source": [
        "dataset = torch.stack([a_vector, equals_vector], dim=1).to(device)\n",
        "print(dataset)\n",
        "print(dataset.shape)"
      ]
    },
    {
      "cell_type": "code",
      "execution_count": 12,
      "metadata": {
        "id": "cjUu4BTsIZpf",
        "outputId": "b94f7dbb-e7ad-46fa-addb-f904a37c3ab0"
      },
      "outputs": [
        {
          "name": "stdout",
          "output_type": "stream",
          "text": [
            "torch.Size([3])\n",
            "tensor([0, 1, 2], device='cuda:0')\n"
          ]
        }
      ],
      "source": [
        "labels = dataset[:, 0]\n",
        "print(labels.shape)\n",
        "print(labels)"
      ]
    },
    {
      "cell_type": "markdown",
      "metadata": {
        "id": "96Ad6m8BIZpf"
      },
      "source": [
        "Convert this to a train + test set - 30% in the training set"
      ]
    },
    {
      "cell_type": "code",
      "execution_count": 13,
      "metadata": {
        "id": "I8Af2zLZIZpf",
        "outputId": "5075c607-e865-4b8c-90df-d2685d17ebb3"
      },
      "outputs": [
        {
          "name": "stdout",
          "output_type": "stream",
          "text": [
            "tensor([[2, 3],\n",
            "        [0, 3],\n",
            "        [1, 3]], device='cuda:0')\n",
            "tensor([2, 0, 1], device='cuda:0')\n",
            "torch.Size([3, 2])\n",
            "tensor([], device='cuda:0', size=(0, 2), dtype=torch.int64)\n",
            "tensor([], device='cuda:0', dtype=torch.int64)\n",
            "torch.Size([0, 2])\n"
          ]
        }
      ],
      "source": [
        "torch.manual_seed(DATA_SEED)\n",
        "indices = torch.randperm(p)\n",
        "cutoff = int(p*frac_train)\n",
        "train_indices = indices[:cutoff]\n",
        "test_indices = indices[cutoff:]\n",
        "\n",
        "train_data = dataset[train_indices]\n",
        "train_labels = labels[train_indices]\n",
        "test_data = dataset[test_indices]\n",
        "test_labels = labels[test_indices]\n",
        "print(train_data)\n",
        "print(train_labels)\n",
        "print(train_data.shape)\n",
        "print(test_data[:5])\n",
        "print(test_labels[:5])\n",
        "print(test_data.shape)"
      ]
    },
    {
      "cell_type": "markdown",
      "metadata": {
        "id": "_83i1bUkIZpf"
      },
      "source": [
        "## Define Model"
      ]
    },
    {
      "cell_type": "code",
      "execution_count": 14,
      "metadata": {
        "id": "UL7gVZ9WIZpf"
      },
      "outputs": [],
      "source": [
        "cfg = HookedTransformerConfig(\n",
        "    n_layers = 1,\n",
        "    n_heads = 1,\n",
        "    d_model = 2,\n",
        "    d_head = 2,\n",
        "    d_mlp = 0,\n",
        "    act_fn = \"relu\",\n",
        "    normalization_type=None,\n",
        "    d_vocab=p+1,\n",
        "    d_vocab_out=p,\n",
        "    n_ctx=2,\n",
        "    init_weights=True,\n",
        "    device=device,\n",
        "    seed = 995,\n",
        ")\n",
        "model = HookedTransformer(cfg)\n",
        "for name, param in model.named_parameters():\n",
        "    if \"b_\" in name:\n",
        "        param.requires_grad = False"
      ]
    },
    {
      "cell_type": "markdown",
      "metadata": {
        "id": "H61FscDoIZpg"
      },
      "source": [
        "Disable the biases, as we don't need them for this task and it makes things easier to interpret."
      ]
    },
    {
      "cell_type": "markdown",
      "metadata": {
        "id": "lctx1jAtIZpg"
      },
      "source": [
        "## Define Optimizer + Loss"
      ]
    },
    {
      "cell_type": "code",
      "execution_count": 15,
      "metadata": {
        "id": "dJORAU_PIZpg",
        "outputId": "1c2b9f25-056e-4e0d-defc-0bd11586136d"
      },
      "outputs": [
        {
          "name": "stdout",
          "output_type": "stream",
          "text": [
            "tensor(1.0439, device='cuda:0', dtype=torch.float64, grad_fn=<NegBackward0>)\n",
            "tensor(nan, device='cuda:0', dtype=torch.float64, grad_fn=<NegBackward0>)\n",
            "Uniform loss:\n",
            "1.0986122886681098\n"
          ]
        }
      ],
      "source": [
        "optimizer = torch.optim.AdamW(model.parameters(), lr=lr, weight_decay=wd, betas=betas)\n",
        "def loss_fn(logits, labels):\n",
        "    if len(logits.shape)==3:\n",
        "        logits = logits[:, -1]\n",
        "    logits = logits.to(torch.float64)\n",
        "    log_probs = logits.log_softmax(dim=-1)\n",
        "    correct_log_probs = log_probs.gather(dim=-1, index=labels[:, None])[:, 0]\n",
        "    return -correct_log_probs.mean()\n",
        "train_logits = model(train_data)\n",
        "train_loss = loss_fn(train_logits, train_labels)\n",
        "print(train_loss)\n",
        "test_logits = model(test_data)\n",
        "test_loss = loss_fn(test_logits, test_labels)\n",
        "print(test_loss)\n",
        "print(\"Uniform loss:\")\n",
        "print(np.log(p))"
      ]
    },
    {
      "cell_type": "markdown",
      "metadata": {
        "id": "iW9Q4bIcIZpg"
      },
      "source": [
        "## Actually Train"
      ]
    },
    {
      "cell_type": "markdown",
      "metadata": {
        "id": "Uj4h2LIRIZpg"
      },
      "source": [
        "**Weird Decision:** Training the model with full batch training rather than stochastic gradient descent. We do this so to make training smoother and reduce the number of slingshots."
      ]
    },
    {
      "cell_type": "code",
      "execution_count": 30,
      "metadata": {
        "colab": {
          "referenced_widgets": [
            "c477d3a6463646deb7cf1de99bb0199a"
          ]
        },
        "id": "UsZLeCMeIZph",
        "outputId": "133f3502-ca28-490c-c030-f60b751dcd7b"
      },
      "outputs": [
        {
          "data": {
            "application/vnd.jupyter.widget-view+json": {
              "model_id": "f56ee32a255349fb97dc0f4e5449f5b3",
              "version_major": 2,
              "version_minor": 0
            },
            "text/plain": [
              "  0%|          | 0/10000 [00:00<?, ?it/s]"
            ]
          },
          "metadata": {},
          "output_type": "display_data"
        },
        {
          "name": "stdout",
          "output_type": "stream",
          "text": [
            "Angle between vec1 and vec2: 105.95932006835938 degrees\n",
            "Angle between vec1 and vec3: 125.59600830078125 degrees\n",
            "Angle between vec2 and vec3: 128.44467163085938 degrees\n",
            "Epoch 199 Train Loss 2.798575559248717e-06 Test Loss nan\n",
            "Angle between vec1 and vec2: 106.10772705078125 degrees\n",
            "Angle between vec1 and vec3: 125.4011001586914 degrees\n",
            "Angle between vec2 and vec3: 128.49118041992188 degrees\n",
            "Epoch 399 Train Loss 2.516201337201548e-06 Test Loss nan\n",
            "Angle between vec1 and vec2: 106.2513427734375 degrees\n",
            "Angle between vec1 and vec3: 125.2099380493164 degrees\n",
            "Angle between vec2 and vec3: 128.53872680664062 degrees\n",
            "Epoch 599 Train Loss 2.2687423418187778e-06 Test Loss nan\n",
            "Angle between vec1 and vec2: 106.39028930664062 degrees\n",
            "Angle between vec1 and vec3: 125.0225601196289 degrees\n",
            "Angle between vec2 and vec3: 128.587158203125 degrees\n",
            "Epoch 799 Train Loss 2.0517966085042963e-06 Test Loss nan\n",
            "Angle between vec1 and vec2: 106.52416229248047 degrees\n",
            "Angle between vec1 and vec3: 124.84009552001953 degrees\n",
            "Angle between vec2 and vec3: 128.6357421875 degrees\n",
            "Epoch 999 Train Loss 1.8614745249453417e-06 Test Loss nan\n",
            "Angle between vec1 and vec2: 106.65332794189453 degrees\n",
            "Angle between vec1 and vec3: 124.66201782226562 degrees\n",
            "Angle between vec2 and vec3: 128.68466186523438 degrees\n",
            "Epoch 1199 Train Loss 1.694437950167143e-06 Test Loss nan\n",
            "Angle between vec1 and vec2: 106.77779388427734 degrees\n",
            "Angle between vec1 and vec3: 124.48899841308594 degrees\n",
            "Angle between vec2 and vec3: 128.7332000732422 degrees\n",
            "Epoch 1399 Train Loss 1.5478897761424987e-06 Test Loss nan\n",
            "Angle between vec1 and vec2: 106.8978271484375 degrees\n",
            "Angle between vec1 and vec3: 124.32122039794922 degrees\n",
            "Angle between vec2 and vec3: 128.78094482421875 degrees\n",
            "Epoch 1599 Train Loss 1.4188816375315831e-06 Test Loss nan\n",
            "Angle between vec1 and vec2: 107.0133285522461 degrees\n",
            "Angle between vec1 and vec3: 124.1588363647461 degrees\n",
            "Angle between vec2 and vec3: 128.8278350830078 degrees\n",
            "Epoch 1799 Train Loss 1.3049819469866246e-06 Test Loss nan\n",
            "Angle between vec1 and vec2: 107.12446594238281 degrees\n",
            "Angle between vec1 and vec3: 124.00247955322266 degrees\n",
            "Angle between vec2 and vec3: 128.87306213378906 degrees\n",
            "Epoch 1999 Train Loss 1.2039278202724229e-06 Test Loss nan\n",
            "Angle between vec1 and vec2: 107.23174285888672 degrees\n",
            "Angle between vec1 and vec3: 123.8522720336914 degrees\n",
            "Angle between vec2 and vec3: 128.91600036621094 degrees\n",
            "Epoch 2199 Train Loss 1.1134854253999867e-06 Test Loss nan\n",
            "Angle between vec1 and vec2: 107.33513641357422 degrees\n",
            "Angle between vec1 and vec3: 123.7081527709961 degrees\n",
            "Angle between vec2 and vec3: 128.9567108154297 degrees\n",
            "Epoch 2399 Train Loss 1.0319700495370326e-06 Test Loss nan\n",
            "Angle between vec1 and vec2: 107.43508911132812 degrees\n",
            "Angle between vec1 and vec3: 123.57097625732422 degrees\n",
            "Angle between vec2 and vec3: 128.9939422607422 degrees\n",
            "Epoch 2599 Train Loss 9.577188941935427e-07 Test Loss nan\n",
            "Angle between vec1 and vec2: 107.53192138671875 degrees\n",
            "Angle between vec1 and vec3: 123.4402084350586 degrees\n",
            "Angle between vec2 and vec3: 129.0278778076172 degrees\n",
            "Epoch 2799 Train Loss 8.892037025124318e-07 Test Loss nan\n",
            "Angle between vec1 and vec2: 107.62554931640625 degrees\n",
            "Angle between vec1 and vec3: 123.31640625 degrees\n",
            "Angle between vec2 and vec3: 129.0580596923828 degrees\n",
            "Epoch 2999 Train Loss 8.253837619901952e-07 Test Loss nan\n",
            "Angle between vec1 and vec2: 107.7162857055664 degrees\n",
            "Angle between vec1 and vec3: 123.1993637084961 degrees\n",
            "Angle between vec2 and vec3: 129.08436584472656 degrees\n",
            "Epoch 3199 Train Loss 7.654668819624913e-07 Test Loss nan\n",
            "Angle between vec1 and vec2: 107.80448150634766 degrees\n",
            "Angle between vec1 and vec3: 123.08865356445312 degrees\n",
            "Angle between vec2 and vec3: 129.1068572998047 degrees\n",
            "Epoch 3399 Train Loss 7.088157796513885e-07 Test Loss nan\n",
            "Angle between vec1 and vec2: 107.89016723632812 degrees\n",
            "Angle between vec1 and vec3: 122.9845962524414 degrees\n",
            "Angle between vec2 and vec3: 129.12522888183594 degrees\n",
            "Epoch 3599 Train Loss 6.550932494199034e-07 Test Loss nan\n",
            "Angle between vec1 and vec2: 107.97384643554688 degrees\n",
            "Angle between vec1 and vec3: 122.88642883300781 degrees\n",
            "Angle between vec2 and vec3: 129.13973999023438 degrees\n",
            "Epoch 3799 Train Loss 6.040440164273068e-07 Test Loss nan\n",
            "Angle between vec1 and vec2: 108.05571746826172 degrees\n",
            "Angle between vec1 and vec3: 122.79359436035156 degrees\n",
            "Angle between vec2 and vec3: 129.1507110595703 degrees\n",
            "Epoch 3999 Train Loss 5.555616294764938e-07 Test Loss nan\n",
            "Angle between vec1 and vec2: 108.13601684570312 degrees\n",
            "Angle between vec1 and vec3: 122.70623779296875 degrees\n",
            "Angle between vec2 and vec3: 129.15774536132812 degrees\n",
            "Epoch 4199 Train Loss 5.097442903962201e-07 Test Loss nan\n",
            "Angle between vec1 and vec2: 108.21488952636719 degrees\n",
            "Angle between vec1 and vec3: 122.62339782714844 degrees\n",
            "Angle between vec2 and vec3: 129.16171264648438 degrees\n",
            "Epoch 4399 Train Loss 4.665832556348774e-07 Test Loss nan\n",
            "Angle between vec1 and vec2: 108.29291534423828 degrees\n",
            "Angle between vec1 and vec3: 122.54467010498047 degrees\n",
            "Angle between vec2 and vec3: 129.1623992919922 degrees\n",
            "Epoch 4599 Train Loss 4.2603116031056594e-07 Test Loss nan\n",
            "Angle between vec1 and vec2: 108.3698959350586 degrees\n",
            "Angle between vec1 and vec3: 122.4697494506836 degrees\n",
            "Angle between vec2 and vec3: 129.1603546142578 degrees\n",
            "Epoch 4799 Train Loss 3.8819188292036867e-07 Test Loss nan\n",
            "Angle between vec1 and vec2: 108.4461669921875 degrees\n",
            "Angle between vec1 and vec3: 122.3980712890625 degrees\n",
            "Angle between vec2 and vec3: 129.15577697753906 degrees\n",
            "Epoch 4999 Train Loss 3.530414601882685e-07 Test Loss nan\n",
            "Angle between vec1 and vec2: 108.52208709716797 degrees\n",
            "Angle between vec1 and vec3: 122.3294677734375 degrees\n",
            "Angle between vec2 and vec3: 129.14845275878906 degrees\n",
            "Epoch 5199 Train Loss 3.2045876220966126e-07 Test Loss nan\n",
            "Angle between vec1 and vec2: 108.59805297851562 degrees\n",
            "Angle between vec1 and vec3: 122.26260375976562 degrees\n",
            "Angle between vec2 and vec3: 129.1393585205078 degrees\n",
            "Epoch 5399 Train Loss 2.9045963625207354e-07 Test Loss nan\n",
            "Angle between vec1 and vec2: 108.67388916015625 degrees\n",
            "Angle between vec1 and vec3: 122.19799041748047 degrees\n",
            "Angle between vec2 and vec3: 129.1281280517578 degrees\n",
            "Epoch 5599 Train Loss 2.629388340247938e-07 Test Loss nan\n",
            "Angle between vec1 and vec2: 108.7497787475586 degrees\n",
            "Angle between vec1 and vec3: 122.13566589355469 degrees\n",
            "Angle between vec2 and vec3: 129.1145477294922 degrees\n",
            "Epoch 5799 Train Loss 2.3772118604609982e-07 Test Loss nan\n",
            "Angle between vec1 and vec2: 108.82587432861328 degrees\n",
            "Angle between vec1 and vec3: 122.0747299194336 degrees\n",
            "Angle between vec2 and vec3: 129.09939575195312 degrees\n",
            "Epoch 5999 Train Loss 2.147153402529605e-07 Test Loss nan\n",
            "Angle between vec1 and vec2: 108.9022216796875 degrees\n",
            "Angle between vec1 and vec3: 122.0156478881836 degrees\n",
            "Angle between vec2 and vec3: 129.08213806152344 degrees\n",
            "Epoch 6199 Train Loss 1.937707263117496e-07 Test Loss nan\n",
            "Angle between vec1 and vec2: 108.97856903076172 degrees\n",
            "Angle between vec1 and vec3: 121.95809936523438 degrees\n",
            "Angle between vec2 and vec3: 129.06332397460938 degrees\n",
            "Epoch 6399 Train Loss 1.7475114414343057e-07 Test Loss nan\n",
            "Angle between vec1 and vec2: 109.05511474609375 degrees\n",
            "Angle between vec1 and vec3: 121.90200805664062 degrees\n",
            "Angle between vec2 and vec3: 129.04287719726562 degrees\n",
            "Epoch 6599 Train Loss 1.5748640128881964e-07 Test Loss nan\n",
            "Angle between vec1 and vec2: 109.1323013305664 degrees\n",
            "Angle between vec1 and vec3: 121.8462905883789 degrees\n",
            "Angle between vec2 and vec3: 129.02142333984375 degrees\n",
            "Epoch 6799 Train Loss 1.418959439936757e-07 Test Loss nan\n",
            "Angle between vec1 and vec2: 109.20990753173828 degrees\n",
            "Angle between vec1 and vec3: 121.79142761230469 degrees\n",
            "Angle between vec2 and vec3: 128.9986572265625 degrees\n",
            "Epoch 6999 Train Loss 1.278078397456508e-07 Test Loss nan\n",
            "Angle between vec1 and vec2: 109.28770446777344 degrees\n",
            "Angle between vec1 and vec3: 121.73811340332031 degrees\n",
            "Angle between vec2 and vec3: 128.9741973876953 degrees\n",
            "Epoch 7199 Train Loss 1.1506648073326455e-07 Test Loss nan\n",
            "Angle between vec1 and vec2: 109.36601257324219 degrees\n",
            "Angle between vec1 and vec3: 121.68551635742188 degrees\n",
            "Angle between vec2 and vec3: 128.94845581054688 degrees\n",
            "Epoch 7399 Train Loss 1.0355355321932732e-07 Test Loss nan\n",
            "Angle between vec1 and vec2: 109.44457244873047 degrees\n",
            "Angle between vec1 and vec3: 121.63377380371094 degrees\n",
            "Angle between vec2 and vec3: 128.92164611816406 degrees\n",
            "Epoch 7599 Train Loss 9.318521306531254e-08 Test Loss nan\n",
            "Angle between vec1 and vec2: 109.52351379394531 degrees\n",
            "Angle between vec1 and vec3: 121.58324432373047 degrees\n",
            "Angle between vec2 and vec3: 128.8932342529297 degrees\n",
            "Epoch 7799 Train Loss 8.384506342689048e-08 Test Loss nan\n",
            "Angle between vec1 and vec2: 109.60301208496094 degrees\n",
            "Angle between vec1 and vec3: 121.53304290771484 degrees\n",
            "Angle between vec2 and vec3: 128.86395263671875 degrees\n",
            "Epoch 7999 Train Loss 7.542718566110093e-08 Test Loss nan\n",
            "Angle between vec1 and vec2: 109.6829605102539 degrees\n",
            "Angle between vec1 and vec3: 121.48301696777344 degrees\n",
            "Angle between vec2 and vec3: 128.83401489257812 degrees\n",
            "Epoch 8199 Train Loss 6.786401451052775e-08 Test Loss nan\n",
            "Angle between vec1 and vec2: 109.76322937011719 degrees\n",
            "Angle between vec1 and vec3: 121.43376922607422 degrees\n",
            "Angle between vec2 and vec3: 128.802978515625 degrees\n",
            "Epoch 8399 Train Loss 6.105003440592778e-08 Test Loss nan\n",
            "Angle between vec1 and vec2: 109.8434066772461 degrees\n",
            "Angle between vec1 and vec3: 121.38546752929688 degrees\n",
            "Angle between vec2 and vec3: 128.77113342285156 degrees\n",
            "Epoch 8599 Train Loss 5.491376410214826e-08 Test Loss nan\n",
            "Angle between vec1 and vec2: 109.9237060546875 degrees\n",
            "Angle between vec1 and vec3: 121.33837890625 degrees\n",
            "Angle between vec2 and vec3: 128.73789978027344 degrees\n",
            "Epoch 8799 Train Loss 4.939400345933952e-08 Test Loss nan\n",
            "Angle between vec1 and vec2: 110.00431823730469 degrees\n",
            "Angle between vec1 and vec3: 121.29204559326172 degrees\n",
            "Angle between vec2 and vec3: 128.70364379882812 degrees\n",
            "Epoch 8999 Train Loss 4.4429137925764164e-08 Test Loss nan\n",
            "Angle between vec1 and vec2: 110.08551788330078 degrees\n",
            "Angle between vec1 and vec3: 121.24569702148438 degrees\n",
            "Angle between vec2 and vec3: 128.66879272460938 degrees\n",
            "Epoch 9199 Train Loss 3.997224393590475e-08 Test Loss nan\n",
            "Angle between vec1 and vec2: 110.16736602783203 degrees\n",
            "Angle between vec1 and vec3: 121.1997299194336 degrees\n",
            "Angle between vec2 and vec3: 128.63291931152344 degrees\n",
            "Epoch 9399 Train Loss 3.5956402214478004e-08 Test Loss nan\n",
            "Angle between vec1 and vec2: 110.24906921386719 degrees\n",
            "Angle between vec1 and vec3: 121.15451049804688 degrees\n",
            "Angle between vec2 and vec3: 128.59642028808594 degrees\n",
            "Epoch 9599 Train Loss 3.235151869268156e-08 Test Loss nan\n",
            "Angle between vec1 and vec2: 110.33111572265625 degrees\n",
            "Angle between vec1 and vec3: 121.10981750488281 degrees\n",
            "Angle between vec2 and vec3: 128.55906677246094 degrees\n",
            "Epoch 9799 Train Loss 2.9108265501613077e-08 Test Loss nan\n",
            "Angle between vec1 and vec2: 110.4130859375 degrees\n",
            "Angle between vec1 and vec3: 121.06615447998047 degrees\n",
            "Angle between vec2 and vec3: 128.52076721191406 degrees\n",
            "Epoch 9999 Train Loss 2.6188587975460742e-08 Test Loss nan\n"
          ]
        }
      ],
      "source": [
        "train_losses = []\n",
        "test_losses = []\n",
        "model_checkpoints = []\n",
        "checkpoint_epochs = []\n",
        "if TRAIN_MODEL:\n",
        "    for epoch in tqdm.tqdm(range(num_epochs)):\n",
        "        train_logits = model(train_data)\n",
        "        train_loss = loss_fn(train_logits, train_labels)\n",
        "        train_loss.backward()\n",
        "        train_losses.append(train_loss.item())\n",
        "\n",
        "        optimizer.step()\n",
        "        optimizer.zero_grad()\n",
        "\n",
        "        with torch.inference_mode():\n",
        "            test_logits = model(test_data)\n",
        "            test_loss = loss_fn(test_logits, test_labels)\n",
        "            test_losses.append(test_loss.item())\n",
        "\n",
        "        if ((epoch+1)%checkpoint_every)==0:\n",
        "            checkpoint_epochs.append(epoch)\n",
        "            model_checkpoints.append(copy.deepcopy(model.state_dict()))\n",
        "            # Extract the three 2-dimensional tensors\n",
        "            vec1 = model.W_U.data[:, 0]\n",
        "            vec2 = model.W_U.data[:, 1]\n",
        "            vec3 = model.W_U.data[:, 2]\n",
        "\n",
        "            # Function to compute the angle between two vectors\n",
        "            def compute_angle(v1, v2):\n",
        "                cos_theta = torch.dot(v1, v2) / (torch.norm(v1) * torch.norm(v2))\n",
        "                angle = torch.acos(cos_theta) * (180.0 / np.pi)\n",
        "                return angle\n",
        "\n",
        "            # Compute pairwise angles\n",
        "            angle_12 = compute_angle(vec1, vec2)\n",
        "            angle_13 = compute_angle(vec1, vec3)\n",
        "            angle_23 = compute_angle(vec2, vec3)\n",
        "\n",
        "            print(f\"Norms: {torch.norm(vec1)}, {torch.norm(vec2)}, {torch.norm(vec3)}\")\n",
        "            print(f\"Angle between vec1 and vec2: {angle_12.item()} degrees\")\n",
        "            print(f\"Angle between vec1 and vec3: {angle_13.item()} degrees\")\n",
        "            print(f\"Angle between vec2 and vec3: {angle_23.item()} degrees\")\n",
        "            print(f\"Epoch {epoch} Train Loss {train_loss.item()} Test Loss {test_loss.item()}\")"
      ]
    },
    {
      "cell_type": "code",
      "execution_count": 17,
      "metadata": {
        "id": "YhTuoGc5IZph"
      },
      "outputs": [],
      "source": [
        "if TRAIN_MODEL:\n",
        "    torch.save(\n",
        "        {\n",
        "            \"model\":model.state_dict(),\n",
        "            \"config\": model.cfg,\n",
        "            \"checkpoints\": model_checkpoints,\n",
        "            \"checkpoint_epochs\": checkpoint_epochs,\n",
        "            \"test_losses\": test_losses,\n",
        "            \"train_losses\": train_losses,\n",
        "            \"train_indices\": train_indices,\n",
        "            \"test_indices\": test_indices,\n",
        "        },\n",
        "        PTH_LOCATION)"
      ]
    },
    {
      "cell_type": "code",
      "execution_count": 18,
      "metadata": {
        "id": "EzRKi7J7IZph"
      },
      "outputs": [],
      "source": [
        "if not TRAIN_MODEL:\n",
        "    cached_data = torch.load(PTH_LOCATION)\n",
        "    model.load_state_dict(cached_data['model'])\n",
        "    model_checkpoints = cached_data[\"checkpoints\"]\n",
        "    checkpoint_epochs = cached_data[\"checkpoint_epochs\"]\n",
        "    test_losses = cached_data['test_losses']\n",
        "    train_losses = cached_data['train_losses']\n",
        "    train_indices = cached_data[\"train_indices\"]\n",
        "    test_indices = cached_data[\"test_indices\"]"
      ]
    },
    {
      "cell_type": "markdown",
      "metadata": {},
      "source": [
        "# Look at weights"
      ]
    },
    {
      "cell_type": "markdown",
      "metadata": {},
      "source": [
        "## Embedding weights"
      ]
    },
    {
      "cell_type": "code",
      "execution_count": 19,
      "metadata": {},
      "outputs": [
        {
          "name": "stdout",
          "output_type": "stream",
          "text": [
            "tensor([[ 1.9919,  0.6364],\n",
            "        [-1.7832,  2.1832],\n",
            "        [-1.0393, -0.8866],\n",
            "        [-1.0032, -0.0141]], device='cuda:0')\n",
            "torch.Size([4, 2])\n",
            "Norm of token 0: 2.0911331176757812\n",
            "Embedding: [ 0.95460916 -0.90652376]\n",
            "Norm of token 1: 2.8188352584838867\n",
            "Embedding: [ 0.95460916 -0.90652376]\n",
            "Norm of token 2: 1.36609947681427\n",
            "Embedding: [ 0.95460916 -0.90652376]\n",
            "Norm of token 3: 1.0033173561096191\n",
            "Embedding: [-1.0607953   0.70485854]\n",
            "[[ 2.9465358  -0.8285537  -0.08472562 -2.0640135 ]\n",
            " [-0.27007568  1.2766306  -1.7930963   0.6907403 ]]\n",
            "Q:  [[-0.99582565  0.09127609]\n",
            " [ 0.09127609  0.99582565]]\n",
            "R:  [[-2.9588873   0.9416208  -0.07929488  2.1184459 ]\n",
            " [ 0.          1.1956744  -1.7933446   0.49946177]]\n",
            "[[ 2.9465358  -0.8285537  -0.08472563 -2.0640137 ]\n",
            " [-0.27007568  1.2766308  -1.7930962   0.6907403 ]]\n",
            "-6.268242 166.73375590479725\n",
            "-6.268243 166.73376956517558\n"
          ]
        }
      ],
      "source": [
        "from scipy.linalg import qr\n",
        "\n",
        "print(model.embed.W_E.data)\n",
        "print(model.embed.W_E.data.shape)\n",
        "\n",
        "W_E = model.embed.W_E.data.cpu().numpy()\n",
        "pos = model.W_E_pos.data.cpu().numpy()\n",
        "for i in range(W_E.shape[0]):\n",
        "    print(f\"Norm of token {i}: {np.linalg.norm(W_E[i])}\")\n",
        "    index = (4 if i < 3 else 5)\n",
        "    print(f\"Embedding: {pos[index]}\")\n",
        "    W_E[i] += pos[index]\n",
        "\n",
        "\n",
        "# Create a matrix with tensor[0] as the first column\n",
        "ttr = W_E.transpose()\n",
        "print(ttr)\n",
        "\n",
        "# Perform QR decomposition to obtain an orthonormal matrix\n",
        "Q, R = qr(ttr)\n",
        "\n",
        "print(\"Q: \", Q)\n",
        "print(\"R: \", R)\n",
        "print(np.matmul(Q, R))\n",
        "\n",
        "def get_angle(a, b):\n",
        "    return np.arccos(\n",
        "        np.dot(a, b)\n",
        "        / (np.linalg.norm(a) * np.linalg.norm(b))\n",
        "    ) / np.pi * 180\n",
        "\n",
        "dot_product = np.dot(W_E[0], W_E[3])\n",
        "print(dot_product, get_angle(W_E[0], W_E[3]))\n",
        "product2 = np.dot(R[:, 0], R[:, 3])\n",
        "print(product2, get_angle(R[:, 0], R[:, 3]))"
      ]
    },
    {
      "cell_type": "code",
      "execution_count": null,
      "metadata": {},
      "outputs": [],
      "source": []
    },
    {
      "cell_type": "code",
      "execution_count": 20,
      "metadata": {},
      "outputs": [
        {
          "name": "stdout",
          "output_type": "stream",
          "text": [
            "U= [[-0.73782986  0.6749867 ]\n",
            " [ 0.6749867   0.73782986]] \n",
            "S= [2.406839   0.01346607] \n",
            "V= [[ 0.26945356 -0.9630134 ]\n",
            " [ 0.9630134   0.26945356]]\n",
            "U= [[-0.73782986  0.6749867 ]\n",
            " [ 0.6749867   0.73782986]] \n",
            "S= [2.406839   0.01346607] \n",
            "V= [[ 0.26945356 -0.9630134 ]\n",
            " [ 0.9630134   0.26945356]]\n"
          ]
        },
        {
          "data": {
            "application/vnd.jupyter.widget-view+json": {
              "model_id": "ca853b2281af41d4be5728d834521f02",
              "version_major": 2,
              "version_minor": 0
            },
            "image/png": "[encoded data removed]",
            "text/html": [
              "\n",
              "            <div style=\"display: inline-block;\">\n",
              "                <div class=\"jupyter-widgets widget-label\" style=\"text-align: center;\">\n",
              "                    Figure\n",
              "                </div>\n",
              "                <img src='data:image/png;base64,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' width=1500.0/>\n",
              "            </div>\n",
              "        "
            ],
            "text/plain": [
              "Canvas(toolbar=Toolbar(toolitems=[('Home', 'Reset original view', 'home', 'home'), ('Back', 'Back to previous …"
            ]
          },
          "metadata": {},
          "output_type": "display_data"
        }
      ],
      "source": [
        "import matplotlib.pyplot as plt\n",
        "import numpy as n\n",
        "\n",
        "%matplotlib widget\n",
        "\n",
        "plt.close('all')\n",
        "\n",
        "def plot_tensor(fig, tensor, position = 111, title = \"\"):\n",
        "    ax = fig.add_subplot(position)\n",
        "    ax.set_title(title)\n",
        "\n",
        "    # Define the origin\n",
        "    origin = np.zeros((4, 2))\n",
        "\n",
        "    # Plot the arrows\n",
        "    for i in range(tensor.shape[0]):\n",
        "        ax.quiver(origin[i, 0], origin[i, 1], \n",
        "                tensor[i, 0], tensor[i, 1],\n",
        "                angles='xy', scale_units='xy', scale=1)\n",
        "\n",
        "        ax.text(tensor[i, 0], tensor[i, 1], f\"Embedding {i}\", color='red')\n",
        "    W_Q = model.blocks[0].attn.W_Q.data[0]\n",
        "    W_K = model.blocks[0].attn.W_K.data[0].transpose(0, 1)\n",
        "    W_QK = torch.matmul(W_Q, W_K)\n",
        "    U, S, V = np.linalg.svd(W_QK.cpu())\n",
        "    print(\"U=\", U, \"\\nS=\", S, \"\\nV=\", V)\n",
        "    \n",
        "    ax.quiver(origin[i, 0], origin[i, 1], U[0, 0], U[0, 1], angles='xy', scale_units='xy', scale=1, color='blue')\n",
        "    ax.text(U[0, 0], U[0, 1], f\"U\", color='blue')\n",
        "    ax.quiver(origin[i, 0], origin[i, 1], V[0, 0], V[0, 1], angles='xy', scale_units='xy', scale=1, color='blue')\n",
        "    ax.text(V[0, 0], V[0, 1], f\"V\", color='blue')\n",
        "\n",
        "    # Set labels\n",
        "    ax.set_xlabel('X')\n",
        "    ax.set_ylabel('Y')\n",
        "    ax.set_xlim(min(tensor[:, 0].min(), 0)*1.2, max(tensor[:, 0].max(), 0) * 1.2)\n",
        "    ax.set_aspect('equal')\n",
        "    ax.set_ylim(min(tensor[:, 1].min(), 0)*1.2, max(tensor[:, 1].max(), 0) * 1.2)\n",
        "\n",
        "fig = plt.figure(figsize=(15, 5))\n",
        "plot_tensor(fig, W_E, 121, \"original\")\n",
        "plot_tensor(fig, R.transpose(), 122, \"rotated\")\n",
        "plt.show()"
      ]
    },
    {
      "cell_type": "code",
      "execution_count": null,
      "metadata": {},
      "outputs": [],
      "source": []
    },
    {
      "cell_type": "markdown",
      "metadata": {},
      "source": [
        "# Unembedding weights"
      ]
    },
    {
      "cell_type": "code",
      "execution_count": 21,
      "metadata": {},
      "outputs": [
        {
          "name": "stdout",
          "output_type": "stream",
          "text": [
            "[[ 0.9159276  -1.1328202   0.69533354]\n",
            " [ 1.7992926   0.22373027 -1.3513923 ]]\n",
            "Q_U= [[-0.45365322 -0.89117837]\n",
            " [-0.89117837  0.45365316]]\n",
            "R_U= [[-2.0190039   0.31452394  0.8888912 ]\n",
            " [ 0.          1.1110408  -1.2327296 ]]\n",
            "W_E= [[ 2.9465358  -0.27007568]\n",
            " [-0.8285537   1.2766306 ]\n",
            " [-0.08472562 -1.7930963 ]\n",
            " [-2.0640135   0.6907403 ]]\n",
            "W_U= [[ 0.9159276  -1.1328202   0.69533354]\n",
            " [ 1.7992926   0.22373027 -1.3513923 ]]\n",
            "[[ 2.2128682  -3.3983195   2.4138036 ]\n",
            " [ 1.538137    1.2242233  -2.3013499 ]\n",
            " [-3.3039074  -0.30519104  2.364264  ]\n",
            " [-0.64764297  2.4926958  -2.368639  ]]\n",
            "2\n"
          ]
        }
      ],
      "source": [
        "W_U = model.unembed.W_U.data.cpu().numpy()\n",
        "\n",
        "print(W_U)\n",
        "\n",
        "Qrev, Rrev = qr(W_U)\n",
        "\n",
        "print(\"Q_U=\", Qrev)\n",
        "print(\"R_U=\", Rrev)\n",
        "\n",
        "print(\"W_E=\", W_E)\n",
        "print(\"W_U=\", W_U)\n",
        "\n",
        "product = np.matmul(W_E, W_U)\n",
        "print(product)\n",
        "\n",
        "rank = np.linalg.matrix_rank(product)\n",
        "print(rank)"
      ]
    },
    {
      "cell_type": "markdown",
      "metadata": {},
      "source": [
        "# Activations"
      ]
    },
    {
      "cell_type": "code",
      "execution_count": 22,
      "metadata": {},
      "outputs": [
        {
          "name": "stdout",
          "output_type": "stream",
          "text": [
            "tensor([[[13.5004, -7.9870,  0.5846],\n",
            "         [10.6316, -2.0914, -4.1978]],\n",
            "\n",
            "        [[ 2.1089,  7.1756, -9.2545],\n",
            "         [-4.8386,  7.8999, -5.7986]],\n",
            "\n",
            "        [[-9.2451, -7.1642, 13.6171],\n",
            "         [-6.5888, -4.3657,  8.8835]]], device='cuda:0',\n",
            "       grad_fn=<AddBackward0>)\n"
          ]
        }
      ],
      "source": [
        "input = torch.tensor([[0,3], [1,3], [2,3]])\n",
        "logits, cache = model.run_with_cache(input)\n",
        "print(logits)"
      ]
    },
    {
      "cell_type": "code",
      "execution_count": 23,
      "metadata": {},
      "outputs": [
        {
          "name": "stdout",
          "output_type": "stream",
          "text": [
            "W_K:  tensor([[ 5.1414e-01,  1.1962e-03],\n",
            "        [-1.8203e+00, -6.0450e-02]])\n",
            "W_Q:  tensor([[-0.9116, -0.8793],\n",
            "        [ 0.8709, -0.3900]])\n",
            "W_K transposed:  tensor([[ 5.1414e-01, -1.8203e+00],\n",
            "        [ 1.1962e-03, -6.0450e-02]])\n",
            "tensor([[-0.4698,  1.7126],\n",
            "        [ 0.4473, -1.5618]])\n",
            "tensor([[ 1.3743,  1.5883],\n",
            "        [-2.8028,  3.1601]])\n",
            "U:  [[-0.73782986  0.6749867 ]\n",
            " [ 0.6749867   0.73782986]]\n",
            "S:  [2.406839   0.01346607]\n",
            "V:  [[ 0.26945356 -0.9630134 ]\n",
            " [ 0.9630134   0.26945356]]\n",
            "S_rank_1:  [[2.40683889 0.        ]\n",
            " [0.         0.        ]]\n",
            "W_QK_rank_1:  [[-0.47850576  1.71015544]\n",
            " [ 0.43775001 -1.56449646]]\n"
          ]
        }
      ],
      "source": [
        "W_K = model.blocks[0].attn.W_K.data[0].cpu()\n",
        "W_Q = model.blocks[0].attn.W_Q.data[0].cpu()\n",
        "print(\"W_K: \", W_K)\n",
        "W_K_T = torch.transpose(W_K, 0, 1)\n",
        "W_QK = torch.matmul(W_Q, W_K_T)\n",
        "print(\"W_Q: \", W_Q)\n",
        "print(\"W_K transposed: \", W_K_T)\n",
        "print(W_QK)\n",
        "W_V = model.blocks[0].attn.W_V.data[0].cpu()\n",
        "W_O = model.blocks[0].attn.W_O.data[0].cpu()\n",
        "W_VO = torch.matmul(W_V, W_O)\n",
        "print(W_VO)\n",
        "W_E = model.embed.W_E.data.cpu().numpy()\n",
        "U, S, V = np.linalg.svd(W_QK)\n",
        "print(\"U: \", U)\n",
        "print(\"S: \", S)\n",
        "print(\"V: \", V)\n",
        "S_rank_1 = np.zeros((2, 2))\n",
        "S_rank_1[0, 0] = S[0]\n",
        "print(\"S_rank_1: \", S_rank_1)\n",
        "W_QK_rank_1 = np.matmul(np.matmul(U, S_rank_1), V)\n",
        "print(\"W_QK_rank_1: \", W_QK_rank_1)"
      ]
    },
    {
      "cell_type": "code",
      "execution_count": 24,
      "metadata": {},
      "outputs": [
        {
          "data": {
            "text/plain": [
              "{'hook_embed': tensor([[[ 1.9919,  0.6364],\n",
              "          [-1.0032, -0.0141]],\n",
              " \n",
              "         [[-1.7832,  2.1832],\n",
              "          [-1.0032, -0.0141]],\n",
              " \n",
              "         [[-1.0393, -0.8866],\n",
              "          [-1.0032, -0.0141]]], device='cuda:0'),\n",
              " 'hook_pos_embed': tensor([[[ 0.9546, -0.9065],\n",
              "          [-1.0608,  0.7049]],\n",
              " \n",
              "         [[ 0.9546, -0.9065],\n",
              "          [-1.0608,  0.7049]],\n",
              " \n",
              "         [[ 0.9546, -0.9065],\n",
              "          [-1.0608,  0.7049]]], device='cuda:0'),\n",
              " 'blocks.0.hook_resid_pre': tensor([[[ 2.9465, -0.2701],\n",
              "          [-2.0640,  0.6907]],\n",
              " \n",
              "         [[-0.8286,  1.2766],\n",
              "          [-2.0640,  0.6907]],\n",
              " \n",
              "         [[-0.0847, -1.7931],\n",
              "          [-2.0640,  0.6907]]], device='cuda:0'),\n",
              " 'blocks.0.attn.hook_q': tensor([[[[-2.9213, -2.4856]],\n",
              " \n",
              "          [[ 2.4832,  1.5455]]],\n",
              " \n",
              " \n",
              "         [[[ 1.8672,  0.2306]],\n",
              " \n",
              "          [[ 2.4832,  1.5455]]],\n",
              " \n",
              " \n",
              "         [[[-1.4844,  0.7739]],\n",
              " \n",
              "          [[ 2.4832,  1.5455]]]], device='cuda:0'),\n",
              " 'blocks.0.attn.hook_k': tensor([[[[ 2.0066,  0.0199]],\n",
              " \n",
              "          [[-2.3186, -0.0442]]],\n",
              " \n",
              " \n",
              "         [[[-2.7499, -0.0782]],\n",
              " \n",
              "          [[-2.3186, -0.0442]]],\n",
              " \n",
              " \n",
              "         [[[ 3.2205,  0.1083]],\n",
              " \n",
              "          [[-2.3186, -0.0442]]]], device='cuda:0'),\n",
              " 'blocks.0.attn.hook_v': tensor([[[[-2.9596, -0.4286]],\n",
              " \n",
              "          [[ 1.7877,  1.1959]]],\n",
              " \n",
              " \n",
              "         [[[ 0.1490,  2.2648]],\n",
              " \n",
              "          [[ 1.7877,  1.1959]]],\n",
              " \n",
              " \n",
              "         [[[ 1.1099, -3.2038]],\n",
              " \n",
              "          [[ 1.7877,  1.1959]]]], device='cuda:0'),\n",
              " 'blocks.0.attn.hook_attn_scores': tensor([[[[-4.1798,    -inf],\n",
              "           [ 3.5450, -4.1195]]],\n",
              " \n",
              " \n",
              "         [[[-3.6434,    -inf],\n",
              "           [-4.9139, -4.1195]]],\n",
              " \n",
              " \n",
              "         [[[-3.3211,    -inf],\n",
              "           [ 5.7731, -4.1195]]]], device='cuda:0'),\n",
              " 'blocks.0.attn.hook_pattern': tensor([[[[1.0000e+00, 0.0000e+00],\n",
              "           [9.9953e-01, 4.6900e-04]]],\n",
              " \n",
              " \n",
              "         [[[1.0000e+00, 0.0000e+00],\n",
              "           [3.1122e-01, 6.8878e-01]]],\n",
              " \n",
              " \n",
              "         [[[1.0000e+00, 0.0000e+00],\n",
              "           [9.9995e-01, 5.0547e-05]]]], device='cuda:0'),\n",
              " 'blocks.0.attn.hook_z': tensor([[[[-2.9596, -0.4286]],\n",
              " \n",
              "          [[-2.9573, -0.4278]]],\n",
              " \n",
              " \n",
              "         [[[ 0.1490,  2.2648]],\n",
              " \n",
              "          [[ 1.2777,  1.5286]]],\n",
              " \n",
              " \n",
              "         [[[ 1.1099, -3.2038]],\n",
              " \n",
              "          [[ 1.1099, -3.2036]]]], device='cuda:0'),\n",
              " 'blocks.0.hook_attn_out': tensor([[[ 4.8064,  3.8266],\n",
              "          [ 4.8019,  3.8243]],\n",
              " \n",
              "         [[-4.7168,  2.7183],\n",
              "          [-4.7552,  0.0914]],\n",
              " \n",
              "         [[ 4.9092, -5.8009],\n",
              "          [ 4.9087, -5.8007]]], device='cuda:0'),\n",
              " 'blocks.0.hook_resid_mid': tensor([[[ 7.7529,  3.5565],\n",
              "          [ 2.7379,  4.5150]],\n",
              " \n",
              "         [[-5.5453,  3.9949],\n",
              "          [-6.8192,  0.7821]],\n",
              " \n",
              "         [[ 4.8244, -7.5940],\n",
              "          [ 2.8447, -5.1100]]], device='cuda:0'),\n",
              " 'blocks.0.mlp.hook_pre': tensor([], device='cuda:0', size=(3, 2, 0)),\n",
              " 'blocks.0.mlp.hook_post': tensor([], device='cuda:0', size=(3, 2, 0)),\n",
              " 'blocks.0.hook_mlp_out': tensor([[[0., 0.],\n",
              "          [0., 0.]],\n",
              " \n",
              "         [[0., 0.],\n",
              "          [0., 0.]],\n",
              " \n",
              "         [[0., 0.],\n",
              "          [0., 0.]]], device='cuda:0'),\n",
              " 'blocks.0.hook_resid_post': tensor([[[ 7.7529,  3.5565],\n",
              "          [ 2.7379,  4.5150]],\n",
              " \n",
              "         [[-5.5453,  3.9949],\n",
              "          [-6.8192,  0.7821]],\n",
              " \n",
              "         [[ 4.8244, -7.5940],\n",
              "          [ 2.8447, -5.1100]]], device='cuda:0')}"
            ]
          },
          "execution_count": 24,
          "metadata": {},
          "output_type": "execute_result"
        }
      ],
      "source": [
        "cache.cache_dict"
      ]
    },
    {
      "cell_type": "markdown",
      "metadata": {},
      "source": [
        "# Animations"
      ]
    },
    {
      "cell_type": "code",
      "execution_count": 25,
      "metadata": {},
      "outputs": [],
      "source": [
        "from manim import *\n",
        "\n",
        "config.media_width = \"80%\"\n",
        "config.verbosity = \"WARNING\"\n",
        "config.preview = False"
      ]
    },
    {
      "cell_type": "code",
      "execution_count": 26,
      "metadata": {},
      "outputs": [
        {
          "name": "stdout",
          "output_type": "stream",
          "text": [
            "[[tensor([1.9919, 0.6364])(#FFFFFF), tensor([-1.0032, -0.0141])(#888888), tensor([-1.7832,  2.1832])(#FFFFFF), tensor([-1.0032, -0.0141])(#888888), tensor([-1.0393, -0.8866])(#FFFFFF), tensor([-1.0032, -0.0141])(#888888)], [tensor([ 2.9465, -0.2701])(#FFFFFF), tensor([-2.0640,  0.6907])(#FFFFFF), tensor([-0.8286,  1.2766])(#FFFFFF), tensor([-2.0640,  0.6907])(#FFFFFF), tensor([-0.0847, -1.7931])(#FFFFFF), tensor([-2.0640,  0.6907])(#FFFFFF)], [tensor([7.7529, 3.5565])(#888888), tensor([2.7379, 4.5150])(#FFFFFF), tensor([-5.5453,  3.9949])(#888888), tensor([-6.8192,  0.7821])(#FFFFFF), tensor([ 4.8244, -7.5940])(#888888), tensor([ 2.8447, -5.1100])(#FFFFFF)]]\n"
          ]
        }
      ],
      "source": [
        "class VectorParams:\n",
        "    def __init__(self, values = [], color = WHITE):\n",
        "        self.values = values\n",
        "        self.color = color\n",
        "    def __repr__(self) -> str:\n",
        "        return str(self.values) + \"(\" + str(self.color) + \")\"\n",
        "\n",
        "class Data:\n",
        "    def __init__(self):\n",
        "        self.vectors: list[list[VectorParams]] = [[]]\n",
        "        self.steps = 0\n",
        "\n",
        "    def add_vector(self, vector, color = WHITE):\n",
        "        self.vectors[self.steps].append(VectorParams(values = vector, color = color))\n",
        "\n",
        "    def next_step(self):\n",
        "        self.steps += 1\n",
        "        self.vectors.append([])\n",
        "\n",
        "    def add_vectors_at_hook(self, c: ActivationCache, hook: str, color0 = WHITE, color1 = WHITE):\n",
        "        for i in range(3):\n",
        "            self.add_vector(c.cache_dict[hook][i][0].cpu(), color = color0)\n",
        "            self.add_vector(c.cache_dict[hook][i][1].cpu(), color = color1)\n",
        "\n",
        "\n",
        "vectors = Data()\n",
        "vectors.add_vectors_at_hook(cache, \"hook_embed\", color1 = GRAY)\n",
        "vectors.next_step()\n",
        "vectors.add_vectors_at_hook(cache, \"blocks.0.hook_resid_pre\")\n",
        "vectors.next_step()\n",
        "vectors.add_vectors_at_hook(cache, \"blocks.0.hook_resid_mid\", color0 = GRAY)\n",
        "#vectors.add_vectors_at_hook(cache, \"blocks.0.hook_resid_post\")\n",
        "\n",
        "print(vectors.vectors)"
      ]
    },
    {
      "cell_type": "code",
      "execution_count": 27,
      "metadata": {},
      "outputs": [],
      "source": [
        "def change_font_size(labeled_arrow: LabeledArrow, new_size):\n",
        "    # print(labeled_arrow, labeled_arrow.submobjects)\n",
        "    # print(labeled_arrow.submobjects[-1].font_size)\n",
        "    if not isinstance(labeled_arrow, LabeledArrow):\n",
        "        return\n",
        "    label = labeled_arrow.submobjects[-1]\n",
        "    box = labeled_arrow.submobjects[-2]\n",
        "    if not isinstance(box, BackgroundRectangle):\n",
        "        box = labeled_arrow.submobjects[-3]\n",
        "    coords = label.get_center()\n",
        "    # print(new_size)\n",
        "    labeled_arrow.submobjects[-1] = MathTex(\n",
        "        label.get_tex_string(), color=label.color, font_size=new_size\n",
        "    )\n",
        "    # print(\"size=\", labeled_arrow.submobjects[-1].font_size)\n",
        "    label = labeled_arrow.submobjects[-1]\n",
        "    label.move_to(coords)\n",
        "    box.width = label.width + 2 * box.buff\n",
        "    box.height = label.height + 2 * box.buff"
      ]
    },
    {
      "cell_type": "code",
      "execution_count": 28,
      "metadata": {},
      "outputs": [],
      "source": [
        "class VisualizeTransformer(MovingCameraScene):\n",
        "    def construct(self):\n",
        "        print(\"v=\", vectors.vectors)\n",
        "        axes = Axes(\n",
        "            x_range = [-20, 20, 1],\n",
        "            y_range = [-20, 20, 1],\n",
        "            x_axis_config={\n",
        "                \"numbers_to_include\": np.arange(-18, 18.1, 3),\n",
        "                \"font_size\": 24\n",
        "            },\n",
        "            y_axis_config={\n",
        "                \"numbers_to_include\": np.arange(-18, 18.1, 3), \n",
        "                \"font_size\": 24            \n",
        "            },\n",
        "            x_length = 40,\n",
        "            y_length = 40,\n",
        "            axis_config={\"color\": GREEN}\n",
        "        )\n",
        "        axes_labels = axes.get_axis_labels()\n",
        "\n",
        "        scale = ValueTracker(2)\n",
        "\n",
        "        arrows = VGroup()\n",
        "        def update_scale(self):\n",
        "            self.stroke_width = 6 * scale.get_value()\n",
        "            change_font_size(self, 48 * scale.get_value())\n",
        "            # print(\"New font size: \", self.font_size)\n",
        "\n",
        "        # Embedding arrows\n",
        "        for i, t in enumerate(vectors.vectors[0]):\n",
        "            # print(t, t.numpy())\n",
        "            arrow = LabeledArrow(\n",
        "                start=ORIGIN,\n",
        "                end=np.append(t.values.numpy(), 0),\n",
        "                buff = 0,\n",
        "                label = str(i//2) if i%2==0 else str(i//2) + \"=\",\n",
        "                label_frame = False,\n",
        "                label_color=YELLOW,\n",
        "                color = t.color,\n",
        "                max_stroke_width_to_length_ratio = 100,\n",
        "            )\n",
        "\n",
        "            arrow.add_updater(update_scale)\n",
        "            arrows.add(arrow)\n",
        "\n",
        "        # Transitioing the arrows through the model\n",
        "        self.add(axes, axes.get_axis_labels(), arrows)\n",
        "        for step in range(1, len(vectors.vectors)):\n",
        "            new_arrows = VGroup()\n",
        "            transition_arrows = VGroup()\n",
        "            for i, t in enumerate(vectors.vectors[step]):\n",
        "                # print(t, t.numpy())\n",
        "                new_arrow = LabeledArrow(\n",
        "                    start=ORIGIN,\n",
        "                    end=np.append(t.values.numpy(), 0),\n",
        "                    buff=0,\n",
        "                    label=str(i // 2) if i % 2 == 0 else str(i // 2) + \"=\",\n",
        "                    label_frame=False,\n",
        "                    label_color=YELLOW,\n",
        "                    color=t.color,\n",
        "                    max_stroke_width_to_length_ratio=100,\n",
        "                )\n",
        "                new_arrow.add_updater(update_scale)\n",
        "                new_arrows.add(new_arrow)\n",
        "                transition_arrow = Arrow(\n",
        "                    start=arrows[i].end, end=new_arrows[i].end, buff=0, color=RED\n",
        "                )\n",
        "                transition_arrow.add_updater(update_scale)\n",
        "                transition_arrows.add(transition_arrow)\n",
        "\n",
        "            view = SurroundingRectangle(new_arrows)\n",
        "            factor = max(\n",
        "                view.width / self.camera.frame_width,\n",
        "                view.height / self.camera.frame_height,\n",
        "            )\n",
        "            print(\n",
        "                factor,\n",
        "                self.camera.frame_width, view.width,\n",
        "                self.camera.frame_height, view.height,\n",
        "            )\n",
        "            self.wait()\n",
        "            self.play(FadeIn(transition_arrows), self.camera.auto_zoom(view, margin = 2), scale.animate.set_value(scale.get_value() * factor))\n",
        "            self.wait()\n",
        "            self.play(\n",
        "                ReplacementTransform(arrows, new_arrows)\n",
        "            )\n",
        "            self.wait()\n",
        "            self.play(FadeOut(transition_arrows))\n",
        "            self.wait()\n",
        "            arrows = new_arrows\n",
        "\n",
        "        # Unembedding Arrows\n",
        "        embedding_arrows = VGroup()\n",
        "        data = model.W_U.data\n",
        "        for i in range(model.W_U.data.size()[1]):\n",
        "            embedding_arrow = LabeledArrow(\n",
        "                start=ORIGIN,\n",
        "                end=[data[0, i].item(), data[1, i].item(), 0],\n",
        "                label=str(i),\n",
        "                color=BLUE,\n",
        "            )\n",
        "            embedding_arrows.add(embedding_arrow)\n",
        "        self.play(FadeIn(embedding_arrows))\n",
        "        self.wait()\n",
        "\n",
        "# v = VisualizeTransformer()\n",
        "# v.construct()"
      ]
    },
    {
      "cell_type": "code",
      "execution_count": 29,
      "metadata": {},
      "outputs": [
        {
          "data": {
            "text/html": [
              "<pre style=\"white-space:pre;overflow-x:auto;line-height:normal;font-family:Menlo,'DejaVu Sans Mono',consolas,'Courier New',monospace\">Manim Community <span style=\"color: #008000; text-decoration-color: #008000\">v0.18.1</span>\n",
              "\n",
              "</pre>\n"
            ],
            "text/plain": [
              "Manim Community \u001b[32mv0.\u001b[0m\u001b[32m18.1\u001b[0m\n",
              "\n"
            ]
          },
          "metadata": {},
          "output_type": "display_data"
        },
        {
          "name": "stdout",
          "output_type": "stream",
          "text": [
            "v= [[tensor([1.9919, 0.6364])(#FFFFFF), tensor([-1.0032, -0.0141])(#888888), tensor([-1.7832,  2.1832])(#FFFFFF), tensor([-1.0032, -0.0141])(#888888), tensor([-1.0393, -0.8866])(#FFFFFF), tensor([-1.0032, -0.0141])(#888888)], [tensor([ 2.9465, -0.2701])(#FFFFFF), tensor([-2.0640,  0.6907])(#FFFFFF), tensor([-0.8286,  1.2766])(#FFFFFF), tensor([-2.0640,  0.6907])(#FFFFFF), tensor([-0.0847, -1.7931])(#FFFFFF), tensor([-2.0640,  0.6907])(#FFFFFF)], [tensor([7.7529, 3.5565])(#888888), tensor([2.7379, 4.5150])(#FFFFFF), tensor([-5.5453,  3.9949])(#888888), tensor([-6.8192,  0.7821])(#FFFFFF), tensor([ 4.8244, -7.5940])(#888888), tensor([ 2.8447, -5.1100])(#FFFFFF)]]\n",
            "0.4090351772680879 14.222222222222221 5.210549306869507 7.993754879000781 3.2697269439697267\n"
          ]
        },
        {
          "name": "stderr",
          "output_type": "stream",
          "text": [
            "                                                                                                           \r"
          ]
        },
        {
          "name": "stdout",
          "output_type": "stream",
          "text": [
            "2.3358097092767744 9.375722521146137 14.772139263153075 5.269726943969727 12.309079360961913\n"
          ]
        },
        {
          "name": "stderr",
          "output_type": "stream",
          "text": [
            "[0000581fa8bc5640] main libvlc: VLC wird mit dem Standard-Interface ausgeführt. Benutzen Sie 'cvlc', um VLC ohne Interface zu verwenden.\n"
          ]
        },
        {
          "data": {
            "text/html": [
              "<video src=\"media/jupyter/Video@2024-10-01@12-05-58.mp4\" controls autoplay loop style=\"max-width: 80%;\"  >\n",
              "      Your browser does not support the <code>video</code> element.\n",
              "    </video>"
            ],
            "text/plain": [
              "<IPython.core.display.Video object>"
            ]
          },
          "metadata": {},
          "output_type": "display_data"
        },
        {
          "name": "stderr",
          "output_type": "stream",
          "text": [
            "[00007ce6b0004930] gl gl: Initialized libplacebo v4.192.1 (API v192)\n",
            "libva info: VA-API version 1.20.0\n",
            "libva error: vaGetDriverNames() failed with unknown libva error\n",
            "[00007ce6b0004930] glconv_vaapi_x11 gl error: vaInitialize: unknown libva error\n",
            "libva info: VA-API version 1.20.0\n",
            "libva info: Trying to open /usr/lib/x86_64-linux-gnu/dri/nvidia_drv_video.so\n",
            "libva info: va_openDriver() returns -1\n",
            "[00007ce6b0004930] glconv_vaapi_drm gl error: vaInitialize: unknown libva error\n",
            "libva info: VA-API version 1.20.0\n",
            "libva info: Trying to open /usr/lib/x86_64-linux-gnu/dri/iHD_drv_video.so\n",
            "libva info: Found init function __vaDriverInit_1_19\n",
            "libva info: va_openDriver() returns 0\n",
            "[00007ce6b4048920] main video output error: video output creation failed\n",
            "[00007ce6c0c1b4a0] main decoder error: failed to create video output\n",
            "[00007ce6b052f860] gl gl: Initialized libplacebo v4.192.1 (API v192)\n",
            "[00007ce6c0c1b4a0] avcodec decoder: Using NVIDIA VDPAU Driver Shared Library  550.90.12  Thu Aug 29 05:29:07 UTC 2024 for hardware decoding\n",
            "[00007ce6b05aaae0] gl gl: Initialized libplacebo v4.192.1 (API v192)\n",
            "[00007ce6b05aaae0] gl gl: Initialized libplacebo v4.192.1 (API v192)\n",
            "[00007ce6c0c5e930] avcodec decoder: Using NVIDIA VDPAU Driver Shared Library  550.90.12  Thu Aug 29 05:29:07 UTC 2024 for hardware decoding\n",
            "[00007ce6b05aaae0] gl gl: Initialized libplacebo v4.192.1 (API v192)\n",
            "[00007ce6b05aaae0] gl gl: Initialized libplacebo v4.192.1 (API v192)\n",
            "[00007ce6c0c047d0] avcodec decoder: Using NVIDIA VDPAU Driver Shared Library  550.90.12  Thu Aug 29 05:29:07 UTC 2024 for hardware decoding\n"
          ]
        }
      ],
      "source": [
        "%%manim -ql -p Video\n",
        "\n",
        "class Video(VisualizeTransformer):\n",
        "    def construct(self):\n",
        "        VisualizeTransformer.construct(self)"
      ]
    }
  ],
  "metadata": {
    "colab": {
      "provenance": []
    },
    "kernelspec": {
      "display_name": "base",
      "language": "python",
      "name": "python3"
    },
    "language_info": {
      "codemirror_mode": {
        "name": "ipython",
        "version": 3
      },
      "file_extension": ".py",
      "mimetype": "text/x-python",
      "name": "python",
      "nbconvert_exporter": "python",
      "pygments_lexer": "ipython3",
      "version": "3.10.12"
    },
    "orig_nbformat": 4,
    "vscode": {
      "interpreter": {
        "hash": "8859a5491331dba93123a91c2831400aced845b502848170e05fcb48b2c144be"
      }
    }
  },
  "nbformat": 4,
  "nbformat_minor": 0
}
