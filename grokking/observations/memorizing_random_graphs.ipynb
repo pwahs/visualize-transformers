{
 "cells": [
  {
   "cell_type": "markdown",
   "metadata": {},
   "source": [
    "# Obervations on training memorization:\n",
    "\n",
    "Vocabulary: 0, 1, 2 (, ..., N)\n",
    "\n",
    "Output Vocab: 0, 1, 2 (, ..., M)\n",
    "\n",
    "Task: Memorize 00, 01, 02, 10, 11, 12, 20, 21, 22 with random output\n",
    "\n",
    "* Use one attention head to copy the first token to the second, then use one MLP-layer to compute the memorized value"
   ]
  },
  {
   "cell_type": "markdown",
   "metadata": {},
   "source": [
    "# Open questions:\n",
    "\n",
    "* What capacity is there, depending on various dimensions? When does the training loss become limited?\n",
    "\n",
    "* Can we visualize my folding theory? (one MLP hidden neuron = 1 fold and stretch)"
   ]
  }
 ],
 "metadata": {
  "language_info": {
   "name": "python"
  }
 },
 "nbformat": 4,
 "nbformat_minor": 2
}
