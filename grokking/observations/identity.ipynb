{
 "cells": [
  {
   "cell_type": "markdown",
   "metadata": {},
   "source": [
    "# Obervations on training identity mapping:\n",
    "\n",
    "Vocabulary: 0, 1, 2, =\n",
    "\n",
    "Output Vocab: 0, 1, 2\n",
    "\n",
    "Task: Complete 0=, 1=, 2=\n",
    "\n",
    "* Higher accuracy depends on long vectors, not just correct direction\n",
    "* Un-embedding vectors are not strictly along \"right\" vectors, but roughly 120 degrees separate from each other (+-10 degrees)\n",
    "* size of parameters are limited by training that is meant to guarantee numeric stability. There would be better solutions with arbitrarily large weights."
   ]
  },
  {
   "cell_type": "markdown",
   "metadata": {},
   "source": [
    "# Open questions:\n",
    "\n",
    "* Are 120 degrees optimal? Given any other weights, or \n",
    "* In combination with those other weights?\n",
    "* What happens for larger vocabulary?\n",
    "    * Same angles?"
   ]
  }
 ],
 "metadata": {
  "language_info": {
   "name": "python"
  }
 },
 "nbformat": 4,
 "nbformat_minor": 2
}
