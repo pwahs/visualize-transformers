{
 "cells": [
  {
   "cell_type": "code",
   "execution_count": 2,
   "metadata": {},
   "outputs": [
    {
     "name": "stderr",
     "output_type": "stream",
     "text": [
      "/tmp/ipykernel_5534/4090766318.py:4: DeprecationWarning: `magic(...)` is deprecated since IPython 0.13 (warning added in 8.1), use run_line_magic(magic_name, parameter_s).\n",
      "  ipython.magic(\"load_ext autoreload\")\n",
      "/tmp/ipykernel_5534/4090766318.py:5: DeprecationWarning: `magic(...)` is deprecated since IPython 0.13 (warning added in 8.1), use run_line_magic(magic_name, parameter_s).\n",
      "  ipython.magic(\"autoreload 2\")\n"
     ]
    },
    {
     "name": "stdout",
     "output_type": "stream",
     "text": [
      "Requirement already satisfied: ipympl in ./getting_started/.venv/lib/python3.10/site-packages (0.9.4)\n",
      "Requirement already satisfied: ipython-genutils in ./getting_started/.venv/lib/python3.10/site-packages (from ipympl) (0.2.0)\n",
      "Requirement already satisfied: ipython<9 in ./getting_started/.venv/lib/python3.10/site-packages (from ipympl) (8.22.1)\n",
      "Requirement already satisfied: ipywidgets<9,>=7.6.0 in ./getting_started/.venv/lib/python3.10/site-packages (from ipympl) (8.1.5)\n",
      "Requirement already satisfied: matplotlib<4,>=3.4.0 in ./getting_started/.venv/lib/python3.10/site-packages (from ipympl) (3.8.3)\n",
      "Requirement already satisfied: numpy in ./getting_started/.venv/lib/python3.10/site-packages (from ipympl) (1.26.4)\n",
      "Requirement already satisfied: pillow in ./getting_started/.venv/lib/python3.10/site-packages (from ipympl) (10.2.0)\n",
      "Requirement already satisfied: traitlets<6 in ./getting_started/.venv/lib/python3.10/site-packages (from ipympl) (5.14.1)\n",
      "Requirement already satisfied: decorator in ./getting_started/.venv/lib/python3.10/site-packages (from ipython<9->ipympl) (5.1.1)\n",
      "Requirement already satisfied: jedi>=0.16 in ./getting_started/.venv/lib/python3.10/site-packages (from ipython<9->ipympl) (0.19.1)\n",
      "Requirement already satisfied: matplotlib-inline in ./getting_started/.venv/lib/python3.10/site-packages (from ipython<9->ipympl) (0.1.6)\n",
      "Requirement already satisfied: prompt-toolkit<3.1.0,>=3.0.41 in ./getting_started/.venv/lib/python3.10/site-packages (from ipython<9->ipympl) (3.0.43)\n",
      "Requirement already satisfied: pygments>=2.4.0 in ./getting_started/.venv/lib/python3.10/site-packages (from ipython<9->ipympl) (2.17.2)\n",
      "Requirement already satisfied: stack-data in ./getting_started/.venv/lib/python3.10/site-packages (from ipython<9->ipympl) (0.6.3)\n",
      "Requirement already satisfied: exceptiongroup in ./getting_started/.venv/lib/python3.10/site-packages (from ipython<9->ipympl) (1.2.0)\n",
      "Requirement already satisfied: pexpect>4.3 in ./getting_started/.venv/lib/python3.10/site-packages (from ipython<9->ipympl) (4.9.0)\n",
      "Requirement already satisfied: comm>=0.1.3 in ./getting_started/.venv/lib/python3.10/site-packages (from ipywidgets<9,>=7.6.0->ipympl) (0.2.1)\n",
      "Requirement already satisfied: widgetsnbextension~=4.0.12 in ./getting_started/.venv/lib/python3.10/site-packages (from ipywidgets<9,>=7.6.0->ipympl) (4.0.13)\n",
      "Requirement already satisfied: jupyterlab-widgets~=3.0.12 in ./getting_started/.venv/lib/python3.10/site-packages (from ipywidgets<9,>=7.6.0->ipympl) (3.0.13)\n",
      "Requirement already satisfied: contourpy>=1.0.1 in ./getting_started/.venv/lib/python3.10/site-packages (from matplotlib<4,>=3.4.0->ipympl) (1.2.0)\n",
      "Requirement already satisfied: cycler>=0.10 in ./getting_started/.venv/lib/python3.10/site-packages (from matplotlib<4,>=3.4.0->ipympl) (0.12.1)\n",
      "Requirement already satisfied: fonttools>=4.22.0 in ./getting_started/.venv/lib/python3.10/site-packages (from matplotlib<4,>=3.4.0->ipympl) (4.50.0)\n",
      "Requirement already satisfied: kiwisolver>=1.3.1 in ./getting_started/.venv/lib/python3.10/site-packages (from matplotlib<4,>=3.4.0->ipympl) (1.4.5)\n",
      "Requirement already satisfied: packaging>=20.0 in ./getting_started/.venv/lib/python3.10/site-packages (from matplotlib<4,>=3.4.0->ipympl) (23.2)\n",
      "Requirement already satisfied: pyparsing>=2.3.1 in ./getting_started/.venv/lib/python3.10/site-packages (from matplotlib<4,>=3.4.0->ipympl) (3.1.2)\n",
      "Requirement already satisfied: python-dateutil>=2.7 in ./getting_started/.venv/lib/python3.10/site-packages (from matplotlib<4,>=3.4.0->ipympl) (2.8.2)\n",
      "Requirement already satisfied: parso<0.9.0,>=0.8.3 in ./getting_started/.venv/lib/python3.10/site-packages (from jedi>=0.16->ipython<9->ipympl) (0.8.3)\n",
      "Requirement already satisfied: ptyprocess>=0.5 in ./getting_started/.venv/lib/python3.10/site-packages (from pexpect>4.3->ipython<9->ipympl) (0.7.0)\n",
      "Requirement already satisfied: wcwidth in ./getting_started/.venv/lib/python3.10/site-packages (from prompt-toolkit<3.1.0,>=3.0.41->ipython<9->ipympl) (0.2.13)\n",
      "Requirement already satisfied: six>=1.5 in ./getting_started/.venv/lib/python3.10/site-packages (from python-dateutil>=2.7->matplotlib<4,>=3.4.0->ipympl) (1.16.0)\n",
      "Requirement already satisfied: executing>=1.2.0 in ./getting_started/.venv/lib/python3.10/site-packages (from stack-data->ipython<9->ipympl) (2.0.1)\n",
      "Requirement already satisfied: asttokens>=2.1.0 in ./getting_started/.venv/lib/python3.10/site-packages (from stack-data->ipython<9->ipympl) (2.4.1)\n",
      "Requirement already satisfied: pure-eval in ./getting_started/.venv/lib/python3.10/site-packages (from stack-data->ipython<9->ipympl) (0.2.2)\n",
      "Note: you may need to restart the kernel to use updated packages.\n",
      "Requirement already satisfied: scipy in ./getting_started/.venv/lib/python3.10/site-packages (1.14.1)\n",
      "Requirement already satisfied: numpy<2.3,>=1.23.5 in ./getting_started/.venv/lib/python3.10/site-packages (from scipy) (1.26.4)\n",
      "Note: you may need to restart the kernel to use updated packages.\n",
      "Requirement already satisfied: manim in ./getting_started/.venv/lib/python3.10/site-packages (0.18.1)\n",
      "Requirement already satisfied: Pillow>=9.1 in ./getting_started/.venv/lib/python3.10/site-packages (from manim) (10.2.0)\n",
      "Requirement already satisfied: Pygments>=2.0.0 in ./getting_started/.venv/lib/python3.10/site-packages (from manim) (2.17.2)\n",
      "Requirement already satisfied: click>=8.0 in ./getting_started/.venv/lib/python3.10/site-packages (from manim) (8.1.7)\n",
      "Requirement already satisfied: cloup>=2.0.0 in ./getting_started/.venv/lib/python3.10/site-packages (from manim) (3.0.5)\n",
      "Requirement already satisfied: decorator>=4.3.2 in ./getting_started/.venv/lib/python3.10/site-packages (from manim) (5.1.1)\n",
      "Requirement already satisfied: isosurfaces>=0.1.0 in ./getting_started/.venv/lib/python3.10/site-packages (from manim) (0.1.2)\n",
      "Requirement already satisfied: manimpango<1.0.0,>=0.5.0 in ./getting_started/.venv/lib/python3.10/site-packages (from manim) (0.6.0)\n",
      "Requirement already satisfied: mapbox-earcut>=1.0.0 in ./getting_started/.venv/lib/python3.10/site-packages (from manim) (1.0.2)\n",
      "Requirement already satisfied: moderngl<6.0.0,>=5.0.0 in ./getting_started/.venv/lib/python3.10/site-packages (from manim) (5.11.1)\n",
      "Requirement already satisfied: moderngl-window>=2.0.0 in ./getting_started/.venv/lib/python3.10/site-packages (from manim) (2.4.6)\n",
      "Requirement already satisfied: networkx>=2.6 in ./getting_started/.venv/lib/python3.10/site-packages (from manim) (3.2.1)\n",
      "Requirement already satisfied: numpy>=1.26 in ./getting_started/.venv/lib/python3.10/site-packages (from manim) (1.26.4)\n",
      "Requirement already satisfied: pycairo<2.0.0,>=1.13 in ./getting_started/.venv/lib/python3.10/site-packages (from manim) (1.27.0)\n",
      "Requirement already satisfied: pydub>=0.20.0 in ./getting_started/.venv/lib/python3.10/site-packages (from manim) (0.25.1)\n",
      "Requirement already satisfied: rich>=12.0.0 in ./getting_started/.venv/lib/python3.10/site-packages (from manim) (13.7.0)\n",
      "Requirement already satisfied: scipy>=1.6.0 in ./getting_started/.venv/lib/python3.10/site-packages (from manim) (1.14.1)\n",
      "Requirement already satisfied: screeninfo>=0.7 in ./getting_started/.venv/lib/python3.10/site-packages (from manim) (0.8.1)\n",
      "Requirement already satisfied: skia-pathops>=0.7.0 in ./getting_started/.venv/lib/python3.10/site-packages (from manim) (0.8.0.post1)\n",
      "Requirement already satisfied: srt>=3.0.0 in ./getting_started/.venv/lib/python3.10/site-packages (from manim) (3.5.3)\n",
      "Requirement already satisfied: svgelements>=1.8.0 in ./getting_started/.venv/lib/python3.10/site-packages (from manim) (1.9.6)\n",
      "Requirement already satisfied: tqdm>=4.0.0 in ./getting_started/.venv/lib/python3.10/site-packages (from manim) (4.66.2)\n",
      "Requirement already satisfied: typing-extensions>=4.0.0 in ./getting_started/.venv/lib/python3.10/site-packages (from manim) (4.9.0)\n",
      "Requirement already satisfied: watchdog>=2.0.0 in ./getting_started/.venv/lib/python3.10/site-packages (from manim) (5.0.2)\n",
      "Requirement already satisfied: glcontext>=3.0.0 in ./getting_started/.venv/lib/python3.10/site-packages (from moderngl<6.0.0,>=5.0.0->manim) (3.0.0)\n",
      "Requirement already satisfied: pyglet>=2.0.0 in ./getting_started/.venv/lib/python3.10/site-packages (from moderngl-window>=2.0.0->manim) (2.0.17)\n",
      "Requirement already satisfied: pyrr<1,>=0.10.3 in ./getting_started/.venv/lib/python3.10/site-packages (from moderngl-window>=2.0.0->manim) (0.10.3)\n",
      "Requirement already satisfied: markdown-it-py>=2.2.0 in ./getting_started/.venv/lib/python3.10/site-packages (from rich>=12.0.0->manim) (3.0.0)\n",
      "Requirement already satisfied: mdurl~=0.1 in ./getting_started/.venv/lib/python3.10/site-packages (from markdown-it-py>=2.2.0->rich>=12.0.0->manim) (0.1.2)\n",
      "Requirement already satisfied: multipledispatch in ./getting_started/.venv/lib/python3.10/site-packages (from pyrr<1,>=0.10.3->moderngl-window>=2.0.0->manim) (1.0.0)\n",
      "Note: you may need to restart the kernel to use updated packages.\n"
     ]
    }
   ],
   "source": [
    "from IPython import get_ipython\n",
    "\n",
    "ipython = get_ipython()\n",
    "ipython.magic(\"load_ext autoreload\")\n",
    "ipython.magic(\"autoreload 2\")\n",
    "ipython.run_line_magic(\"pip\", \"install ipympl\")\n",
    "ipython.run_line_magic(\"pip\", \"install scipy\")\n",
    "ipython.run_line_magic(\"pip\", \"install manim\")\n",
    "\n",
    "from manim import *"
   ]
  },
  {
   "cell_type": "code",
   "execution_count": 3,
   "metadata": {},
   "outputs": [],
   "source": [
    "from manim import *\n",
    "\n",
    "config.media_width = \"80%\"\n",
    "config.verbosity = \"WARNING\"\n",
    "config.preview = False\n"
   ]
  },
  {
   "cell_type": "code",
   "execution_count": 4,
   "metadata": {},
   "outputs": [],
   "source": [
    "def change_font_size(labeled_arrow: LabeledArrow, new_size):\n",
    "    # print(labeled_arrow, labeled_arrow.submobjects)\n",
    "    # print(labeled_arrow.submobjects[-1].font_size)\n",
    "    if not isinstance(labeled_arrow, LabeledArrow):\n",
    "        return\n",
    "    label = labeled_arrow.submobjects[-1]\n",
    "    box = labeled_arrow.submobjects[-2]\n",
    "    if box is not BackgroundRectangle:\n",
    "        box = labeled_arrow.submobjects[-3]\n",
    "    coords = label.get_center()\n",
    "    # print(new_size)\n",
    "    labeled_arrow.submobjects[-1] = MathTex(\n",
    "        label.get_tex_string(), color=label.color, font_size=new_size\n",
    "    )\n",
    "    # print(\"size=\", labeled_arrow.submobjects[-1].font_size)\n",
    "    label = labeled_arrow.submobjects[-1]\n",
    "    label.move_to(coords)\n",
    "    box.width = label.width + 2 * box.buff\n",
    "    box.height = label.height + 2 * box.buff"
   ]
  },
  {
   "cell_type": "code",
   "execution_count": 6,
   "metadata": {},
   "outputs": [
    {
     "data": {
      "text/html": [
       "<pre style=\"white-space:pre;overflow-x:auto;line-height:normal;font-family:Menlo,'DejaVu Sans Mono',consolas,'Courier New',monospace\">Manim Community <span style=\"color: #008000; text-decoration-color: #008000\">v0.18.1</span>\n",
       "\n",
       "</pre>\n"
      ],
      "text/plain": [
       "Manim Community \u001b[32mv0.\u001b[0m\u001b[32m18.1\u001b[0m\n",
       "\n"
      ]
     },
     "metadata": {},
     "output_type": "display_data"
    },
    {
     "name": "stderr",
     "output_type": "stream",
     "text": [
      "                                                                                            \r"
     ]
    },
    {
     "data": {
      "text/html": [
       "<video src=\"media/jupyter/ValueTrackerExample@2024-09-27@22-15-59.mp4\" controls autoplay loop style=\"max-width: 80%;\"  >\n",
       "      Your browser does not support the <code>video</code> element.\n",
       "    </video>"
      ],
      "text/plain": [
       "<IPython.core.display.Video object>"
      ]
     },
     "metadata": {},
     "output_type": "display_data"
    }
   ],
   "source": [
    "%%manim -ql ValueTrackerExample\n",
    "\n",
    "class ValueTrackerExample(Scene):\n",
    "    def construct(self):\n",
    "        number_line = NumberLine()\n",
    "        pointer = LabeledArrow(start = ORIGIN, end = [0, -1, 0], label = \"Label\", buff = 0)\n",
    "        label = MathTex(\"x\").add_updater(lambda m: m.next_to(pointer, UP))\n",
    "\n",
    "        tracker = ValueTracker(1)\n",
    "        def update(self):\n",
    "            # self.font_size = 20 * tracker.get_value()\n",
    "            \n",
    "            self.next_to(number_line.n2p(tracker.get_value()), UP)\n",
    "            self.stroke_width = 4 * tracker.get_value() + 10\n",
    "            change_font_size(self, 20 * tracker.get_value() + 5)\n",
    "        pointer.add_updater(\n",
    "            update\n",
    "        )\n",
    "        self.add(number_line, pointer, label)\n",
    "        tracker += 1.5\n",
    "        self.wait(1)\n",
    "        tracker -= 0\n",
    "        self.wait(0.5)\n",
    "        self.play(tracker.animate.set_value(5))\n",
    "        self.wait(0.5)\n",
    "        self.play(tracker.animate.set_value(3))\n",
    "        self.play(tracker.animate.set_value(tracker.get_value() * 2))\n",
    "        self.wait(0.5)"
   ]
  }
 ],
 "metadata": {
  "kernelspec": {
   "display_name": ".venv",
   "language": "python",
   "name": "python3"
  },
  "language_info": {
   "codemirror_mode": {
    "name": "ipython",
    "version": 3
   },
   "file_extension": ".py",
   "mimetype": "text/x-python",
   "name": "python",
   "nbconvert_exporter": "python",
   "pygments_lexer": "ipython3",
   "version": "3.10.12"
  }
 },
 "nbformat": 4,
 "nbformat_minor": 2
}
