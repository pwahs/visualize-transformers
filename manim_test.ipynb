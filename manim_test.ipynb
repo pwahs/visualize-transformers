{
 "cells": [
  {
   "cell_type": "code",
   "execution_count": 6,
   "metadata": {},
   "outputs": [
    {
     "name": "stdout",
     "output_type": "stream",
     "text": [
      "The autoreload extension is already loaded. To reload it, use:\n",
      "  %reload_ext autoreload\n"
     ]
    },
    {
     "name": "stderr",
     "output_type": "stream",
     "text": [
      "/tmp/ipykernel_1310692/4090766318.py:4: DeprecationWarning: `magic(...)` is deprecated since IPython 0.13 (warning added in 8.1), use run_line_magic(magic_name, parameter_s).\n",
      "  ipython.magic(\"load_ext autoreload\")\n",
      "/tmp/ipykernel_1310692/4090766318.py:5: DeprecationWarning: `magic(...)` is deprecated since IPython 0.13 (warning added in 8.1), use run_line_magic(magic_name, parameter_s).\n",
      "  ipython.magic(\"autoreload 2\")\n"
     ]
    },
    {
     "name": "stdout",
     "output_type": "stream",
     "text": [
      "Requirement already satisfied: ipympl in ./getting_started/.venv/lib/python3.10/site-packages (0.9.4)\n",
      "Requirement already satisfied: ipython-genutils in ./getting_started/.venv/lib/python3.10/site-packages (from ipympl) (0.2.0)\n",
      "Requirement already satisfied: ipython<9 in ./getting_started/.venv/lib/python3.10/site-packages (from ipympl) (8.22.1)\n",
      "Requirement already satisfied: ipywidgets<9,>=7.6.0 in ./getting_started/.venv/lib/python3.10/site-packages (from ipympl) (8.1.5)\n",
      "Requirement already satisfied: matplotlib<4,>=3.4.0 in ./getting_started/.venv/lib/python3.10/site-packages (from ipympl) (3.8.3)\n",
      "Requirement already satisfied: numpy in ./getting_started/.venv/lib/python3.10/site-packages (from ipympl) (1.26.4)\n",
      "Requirement already satisfied: pillow in ./getting_started/.venv/lib/python3.10/site-packages (from ipympl) (10.2.0)\n",
      "Requirement already satisfied: traitlets<6 in ./getting_started/.venv/lib/python3.10/site-packages (from ipympl) (5.14.1)\n",
      "Requirement already satisfied: decorator in ./getting_started/.venv/lib/python3.10/site-packages (from ipython<9->ipympl) (5.1.1)\n",
      "Requirement already satisfied: jedi>=0.16 in ./getting_started/.venv/lib/python3.10/site-packages (from ipython<9->ipympl) (0.19.1)\n",
      "Requirement already satisfied: matplotlib-inline in ./getting_started/.venv/lib/python3.10/site-packages (from ipython<9->ipympl) (0.1.6)\n",
      "Requirement already satisfied: prompt-toolkit<3.1.0,>=3.0.41 in ./getting_started/.venv/lib/python3.10/site-packages (from ipython<9->ipympl) (3.0.43)\n",
      "Requirement already satisfied: pygments>=2.4.0 in ./getting_started/.venv/lib/python3.10/site-packages (from ipython<9->ipympl) (2.17.2)\n",
      "Requirement already satisfied: stack-data in ./getting_started/.venv/lib/python3.10/site-packages (from ipython<9->ipympl) (0.6.3)\n",
      "Requirement already satisfied: exceptiongroup in ./getting_started/.venv/lib/python3.10/site-packages (from ipython<9->ipympl) (1.2.0)\n",
      "Requirement already satisfied: pexpect>4.3 in ./getting_started/.venv/lib/python3.10/site-packages (from ipython<9->ipympl) (4.9.0)\n",
      "Requirement already satisfied: comm>=0.1.3 in ./getting_started/.venv/lib/python3.10/site-packages (from ipywidgets<9,>=7.6.0->ipympl) (0.2.1)\n",
      "Requirement already satisfied: widgetsnbextension~=4.0.12 in ./getting_started/.venv/lib/python3.10/site-packages (from ipywidgets<9,>=7.6.0->ipympl) (4.0.13)\n",
      "Requirement already satisfied: jupyterlab-widgets~=3.0.12 in ./getting_started/.venv/lib/python3.10/site-packages (from ipywidgets<9,>=7.6.0->ipympl) (3.0.13)\n",
      "Requirement already satisfied: contourpy>=1.0.1 in ./getting_started/.venv/lib/python3.10/site-packages (from matplotlib<4,>=3.4.0->ipympl) (1.2.0)\n",
      "Requirement already satisfied: cycler>=0.10 in ./getting_started/.venv/lib/python3.10/site-packages (from matplotlib<4,>=3.4.0->ipympl) (0.12.1)\n",
      "Requirement already satisfied: fonttools>=4.22.0 in ./getting_started/.venv/lib/python3.10/site-packages (from matplotlib<4,>=3.4.0->ipympl) (4.50.0)\n",
      "Requirement already satisfied: kiwisolver>=1.3.1 in ./getting_started/.venv/lib/python3.10/site-packages (from matplotlib<4,>=3.4.0->ipympl) (1.4.5)\n",
      "Requirement already satisfied: packaging>=20.0 in ./getting_started/.venv/lib/python3.10/site-packages (from matplotlib<4,>=3.4.0->ipympl) (23.2)\n",
      "Requirement already satisfied: pyparsing>=2.3.1 in ./getting_started/.venv/lib/python3.10/site-packages (from matplotlib<4,>=3.4.0->ipympl) (3.1.2)\n",
      "Requirement already satisfied: python-dateutil>=2.7 in ./getting_started/.venv/lib/python3.10/site-packages (from matplotlib<4,>=3.4.0->ipympl) (2.8.2)\n",
      "Requirement already satisfied: parso<0.9.0,>=0.8.3 in ./getting_started/.venv/lib/python3.10/site-packages (from jedi>=0.16->ipython<9->ipympl) (0.8.3)\n",
      "Requirement already satisfied: ptyprocess>=0.5 in ./getting_started/.venv/lib/python3.10/site-packages (from pexpect>4.3->ipython<9->ipympl) (0.7.0)\n",
      "Requirement already satisfied: wcwidth in ./getting_started/.venv/lib/python3.10/site-packages (from prompt-toolkit<3.1.0,>=3.0.41->ipython<9->ipympl) (0.2.13)\n",
      "Requirement already satisfied: six>=1.5 in ./getting_started/.venv/lib/python3.10/site-packages (from python-dateutil>=2.7->matplotlib<4,>=3.4.0->ipympl) (1.16.0)\n",
      "Requirement already satisfied: executing>=1.2.0 in ./getting_started/.venv/lib/python3.10/site-packages (from stack-data->ipython<9->ipympl) (2.0.1)\n",
      "Requirement already satisfied: asttokens>=2.1.0 in ./getting_started/.venv/lib/python3.10/site-packages (from stack-data->ipython<9->ipympl) (2.4.1)\n",
      "Requirement already satisfied: pure-eval in ./getting_started/.venv/lib/python3.10/site-packages (from stack-data->ipython<9->ipympl) (0.2.2)\n",
      "Note: you may need to restart the kernel to use updated packages.\n",
      "Requirement already satisfied: scipy in ./getting_started/.venv/lib/python3.10/site-packages (1.14.1)\n",
      "Requirement already satisfied: numpy<2.3,>=1.23.5 in ./getting_started/.venv/lib/python3.10/site-packages (from scipy) (1.26.4)\n",
      "Note: you may need to restart the kernel to use updated packages.\n",
      "Requirement already satisfied: manim in ./getting_started/.venv/lib/python3.10/site-packages (0.18.1)\n",
      "Requirement already satisfied: Pillow>=9.1 in ./getting_started/.venv/lib/python3.10/site-packages (from manim) (10.2.0)\n",
      "Requirement already satisfied: Pygments>=2.0.0 in ./getting_started/.venv/lib/python3.10/site-packages (from manim) (2.17.2)\n",
      "Requirement already satisfied: click>=8.0 in ./getting_started/.venv/lib/python3.10/site-packages (from manim) (8.1.7)\n",
      "Requirement already satisfied: cloup>=2.0.0 in ./getting_started/.venv/lib/python3.10/site-packages (from manim) (3.0.5)\n",
      "Requirement already satisfied: decorator>=4.3.2 in ./getting_started/.venv/lib/python3.10/site-packages (from manim) (5.1.1)\n",
      "Requirement already satisfied: isosurfaces>=0.1.0 in ./getting_started/.venv/lib/python3.10/site-packages (from manim) (0.1.2)\n",
      "Requirement already satisfied: manimpango<1.0.0,>=0.5.0 in ./getting_started/.venv/lib/python3.10/site-packages (from manim) (0.6.0)\n",
      "Requirement already satisfied: mapbox-earcut>=1.0.0 in ./getting_started/.venv/lib/python3.10/site-packages (from manim) (1.0.2)\n",
      "Requirement already satisfied: moderngl<6.0.0,>=5.0.0 in ./getting_started/.venv/lib/python3.10/site-packages (from manim) (5.11.1)\n",
      "Requirement already satisfied: moderngl-window>=2.0.0 in ./getting_started/.venv/lib/python3.10/site-packages (from manim) (2.4.6)\n",
      "Requirement already satisfied: networkx>=2.6 in ./getting_started/.venv/lib/python3.10/site-packages (from manim) (3.2.1)\n",
      "Requirement already satisfied: numpy>=1.26 in ./getting_started/.venv/lib/python3.10/site-packages (from manim) (1.26.4)\n",
      "Requirement already satisfied: pycairo<2.0.0,>=1.13 in ./getting_started/.venv/lib/python3.10/site-packages (from manim) (1.27.0)\n",
      "Requirement already satisfied: pydub>=0.20.0 in ./getting_started/.venv/lib/python3.10/site-packages (from manim) (0.25.1)\n",
      "Requirement already satisfied: rich>=12.0.0 in ./getting_started/.venv/lib/python3.10/site-packages (from manim) (13.7.0)\n",
      "Requirement already satisfied: scipy>=1.6.0 in ./getting_started/.venv/lib/python3.10/site-packages (from manim) (1.14.1)\n",
      "Requirement already satisfied: screeninfo>=0.7 in ./getting_started/.venv/lib/python3.10/site-packages (from manim) (0.8.1)\n",
      "Requirement already satisfied: skia-pathops>=0.7.0 in ./getting_started/.venv/lib/python3.10/site-packages (from manim) (0.8.0.post1)\n",
      "Requirement already satisfied: srt>=3.0.0 in ./getting_started/.venv/lib/python3.10/site-packages (from manim) (3.5.3)\n",
      "Requirement already satisfied: svgelements>=1.8.0 in ./getting_started/.venv/lib/python3.10/site-packages (from manim) (1.9.6)\n",
      "Requirement already satisfied: tqdm>=4.0.0 in ./getting_started/.venv/lib/python3.10/site-packages (from manim) (4.66.2)\n",
      "Requirement already satisfied: typing-extensions>=4.0.0 in ./getting_started/.venv/lib/python3.10/site-packages (from manim) (4.9.0)\n",
      "Requirement already satisfied: watchdog>=2.0.0 in ./getting_started/.venv/lib/python3.10/site-packages (from manim) (5.0.2)\n",
      "Requirement already satisfied: glcontext>=3.0.0 in ./getting_started/.venv/lib/python3.10/site-packages (from moderngl<6.0.0,>=5.0.0->manim) (3.0.0)\n",
      "Requirement already satisfied: pyglet>=2.0.0 in ./getting_started/.venv/lib/python3.10/site-packages (from moderngl-window>=2.0.0->manim) (2.0.17)\n",
      "Requirement already satisfied: pyrr<1,>=0.10.3 in ./getting_started/.venv/lib/python3.10/site-packages (from moderngl-window>=2.0.0->manim) (0.10.3)\n",
      "Requirement already satisfied: markdown-it-py>=2.2.0 in ./getting_started/.venv/lib/python3.10/site-packages (from rich>=12.0.0->manim) (3.0.0)\n",
      "Requirement already satisfied: mdurl~=0.1 in ./getting_started/.venv/lib/python3.10/site-packages (from markdown-it-py>=2.2.0->rich>=12.0.0->manim) (0.1.2)\n",
      "Requirement already satisfied: multipledispatch in ./getting_started/.venv/lib/python3.10/site-packages (from pyrr<1,>=0.10.3->moderngl-window>=2.0.0->manim) (1.0.0)\n",
      "Note: you may need to restart the kernel to use updated packages.\n"
     ]
    }
   ],
   "source": [
    "from IPython import get_ipython\n",
    "\n",
    "ipython = get_ipython()\n",
    "ipython.magic(\"load_ext autoreload\")\n",
    "ipython.magic(\"autoreload 2\")\n",
    "ipython.run_line_magic(\"pip\", \"install ipympl\")\n",
    "ipython.run_line_magic(\"pip\", \"install scipy\")\n",
    "ipython.run_line_magic(\"pip\", \"install manim\")\n",
    "\n",
    "from manim import *"
   ]
  },
  {
   "cell_type": "code",
   "execution_count": 10,
   "metadata": {},
   "outputs": [],
   "source": [
    "from manim import *\n",
    "\n",
    "config.media_width = \"80%\"\n",
    "config.verbosity = \"WARNING\"\n",
    "config.preview = False\n"
   ]
  },
  {
   "cell_type": "code",
   "execution_count": 69,
   "metadata": {},
   "outputs": [],
   "source": [
    "def change_font_size(labeled_arrow: LabeledArrow, new_size):\n",
    "    # print(labeled_arrow, labeled_arrow.submobjects)\n",
    "    # print(labeled_arrow.submobjects[-1].font_size)\n",
    "    if not isinstance(labeled_arrow, LabeledArrow):\n",
    "        return\n",
    "    label = labeled_arrow.submobjects[-1]\n",
    "    box = labeled_arrow.submobjects[-2]\n",
    "    if box is not BackgroundRectangle:\n",
    "        box = labeled_arrow.submobjects[-3]\n",
    "    coords = label.get_center()\n",
    "    # print(new_size)\n",
    "    labeled_arrow.submobjects[-1] = MathTex(\n",
    "        label.get_tex_string(), color=label.color, font_size=new_size\n",
    "    )\n",
    "    # print(\"size=\", labeled_arrow.submobjects[-1].font_size)\n",
    "    label = labeled_arrow.submobjects[-1]\n",
    "    label.move_to(coords)\n",
    "    box.width = label.width + 2 * box.buff\n",
    "    box.height = label.height + 2 * box.buff"
   ]
  },
  {
   "cell_type": "code",
   "execution_count": 71,
   "metadata": {},
   "outputs": [
    {
     "data": {
      "text/html": [
       "<pre style=\"white-space:pre;overflow-x:auto;line-height:normal;font-family:Menlo,'DejaVu Sans Mono',consolas,'Courier New',monospace\">Manim Community <span style=\"color: #008000; text-decoration-color: #008000\">v0.18.1</span>\n",
       "\n",
       "</pre>\n"
      ],
      "text/plain": [
       "Manim Community \u001b[32mv0.\u001b[0m\u001b[32m18.1\u001b[0m\n",
       "\n"
      ]
     },
     "metadata": {},
     "output_type": "display_data"
    },
    {
     "name": "stderr",
     "output_type": "stream",
     "text": [
      "Animation 2: _MethodAnimation(ValueTracker):  53%|█████▎    | 8/15 [00:00<00:00, 55.91it/s]"
     ]
    },
    {
     "name": "stdout",
     "output_type": "stream",
     "text": [
      "LabeledArrow [ArrowTriangleFilledTip, BackgroundRectangle, SurroundingRectangle, MathTex('Label')]\n",
      "47.99999999999999\n",
      "55.0\n",
      "size= 55.0\n",
      "LabeledArrow [ArrowTriangleFilledTip, BackgroundRectangle, SurroundingRectangle, MathTex('Label')]\n",
      "54.999999999999986\n",
      "55.31729099295144\n",
      "size= 55.31729099295145\n",
      "LabeledArrow [ArrowTriangleFilledTip, BackgroundRectangle, SurroundingRectangle, MathTex('Label')]\n",
      "55.31729099295144\n",
      "55.923946457951644\n",
      "size= 55.923946457951644\n",
      "LabeledArrow [ArrowTriangleFilledTip, BackgroundRectangle, SurroundingRectangle, MathTex('Label')]\n",
      "55.923946457951644\n",
      "57.0642829892898\n",
      "size= 57.06428298928981\n",
      "LabeledArrow [ArrowTriangleFilledTip, BackgroundRectangle, SurroundingRectangle, MathTex('Label')]\n",
      "57.06428298928981\n",
      "59.140768405437846\n",
      "size= 59.140768405437846\n",
      "LabeledArrow [ArrowTriangleFilledTip, BackgroundRectangle, SurroundingRectangle, MathTex('Label')]\n",
      "59.14076840543784\n",
      "62.7120438170091\n",
      "size= 62.71204381700911\n",
      "LabeledArrow [ArrowTriangleFilledTip, BackgroundRectangle, SurroundingRectangle, MathTex('Label')]\n",
      "62.71204381700911\n",
      "68.29032890244305\n",
      "size= 68.29032890244305\n",
      "LabeledArrow [ArrowTriangleFilledTip, BackgroundRectangle, SurroundingRectangle, MathTex('Label')]\n",
      "68.29032890244305\n",
      "75.815476898266\n",
      "size= 75.815476898266\n",
      "LabeledArrow [ArrowTriangleFilledTip, BackgroundRectangle, SurroundingRectangle, MathTex('Label')]\n",
      "75.81547689826601\n",
      "84.184523101734\n",
      "size= 84.184523101734\n",
      "LabeledArrow [ArrowTriangleFilledTip, BackgroundRectangle, SurroundingRectangle, MathTex('Label')]\n",
      "84.18452310173403\n",
      "91.70967109755695\n",
      "size= 91.70967109755695\n",
      "LabeledArrow [ArrowTriangleFilledTip, BackgroundRectangle, SurroundingRectangle, MathTex('Label')]\n",
      "91.70967109755694\n",
      "97.28795618299088\n",
      "size= 97.28795618299088\n",
      "LabeledArrow [ArrowTriangleFilledTip, BackgroundRectangle, SurroundingRectangle, MathTex('Label')]\n",
      "97.2879561829909\n",
      "100.85923159456215\n",
      "size= 100.85923159456215\n",
      "LabeledArrow [ArrowTriangleFilledTip, BackgroundRectangle, SurroundingRectangle, MathTex('Label')]\n",
      "100.85923159456213\n",
      "102.93571701071022\n",
      "size= 102.93571701071022\n",
      "LabeledArrow [ArrowTriangleFilledTip, BackgroundRectangle, SurroundingRectangle, MathTex('Label')]\n",
      "102.93571701071023\n",
      "104.07605354204836\n"
     ]
    },
    {
     "name": "stderr",
     "output_type": "stream",
     "text": [
      "                                                                                           \r"
     ]
    },
    {
     "name": "stdout",
     "output_type": "stream",
     "text": [
      "size= 104.07605354204836\n",
      "LabeledArrow [ArrowTriangleFilledTip, BackgroundRectangle, SurroundingRectangle, MathTex('Label')]\n",
      "104.07605354204834\n",
      "104.68270900704857\n",
      "size= 104.68270900704857\n",
      "LabeledArrow [ArrowTriangleFilledTip, BackgroundRectangle, SurroundingRectangle, MathTex('Label')]\n",
      "104.68270900704859\n",
      "105.0\n",
      "size= 104.99999999999999\n"
     ]
    },
    {
     "name": "stderr",
     "output_type": "stream",
     "text": [
      "Animation 4: _MethodAnimation(ValueTracker):   0%|          | 0/15 [00:00<?, ?it/s]"
     ]
    },
    {
     "name": "stdout",
     "output_type": "stream",
     "text": [
      "LabeledArrow [ArrowTriangleFilledTip, BackgroundRectangle, SurroundingRectangle, MathTex('Label')]\n",
      "104.99999999999999\n",
      "105.0\n",
      "size= 104.99999999999999\n",
      "LabeledArrow [ArrowTriangleFilledTip, BackgroundRectangle, SurroundingRectangle, MathTex('Label')]\n",
      "104.99999999999999\n",
      "104.74616720563886\n",
      "size= 104.74616720563886\n",
      "LabeledArrow [ArrowTriangleFilledTip, BackgroundRectangle, SurroundingRectangle, MathTex('Label')]\n",
      "104.74616720563887\n",
      "104.2608428336387\n"
     ]
    },
    {
     "name": "stderr",
     "output_type": "stream",
     "text": [
      "Animation 4: _MethodAnimation(ValueTracker):  47%|████▋     | 7/15 [00:00<00:00, 69.87it/s]"
     ]
    },
    {
     "name": "stdout",
     "output_type": "stream",
     "text": [
      "size= 104.2608428336387\n",
      "LabeledArrow [ArrowTriangleFilledTip, BackgroundRectangle, SurroundingRectangle, MathTex('Label')]\n",
      "104.2608428336387\n",
      "103.34857360856815\n",
      "size= 103.34857360856815\n",
      "LabeledArrow [ArrowTriangleFilledTip, BackgroundRectangle, SurroundingRectangle, MathTex('Label')]\n",
      "103.34857360856816\n",
      "101.68738527564972\n",
      "size= 101.68738527564972\n",
      "LabeledArrow [ArrowTriangleFilledTip, BackgroundRectangle, SurroundingRectangle, MathTex('Label')]\n",
      "101.68738527564973\n",
      "98.8303649463927\n",
      "size= 98.8303649463927\n",
      "LabeledArrow [ArrowTriangleFilledTip, BackgroundRectangle, SurroundingRectangle, MathTex('Label')]\n",
      "98.83036494639269\n",
      "94.36773687804558\n",
      "size= 94.36773687804556\n",
      "LabeledArrow [ArrowTriangleFilledTip, BackgroundRectangle, SurroundingRectangle, MathTex('Label')]\n",
      "94.36773687804559\n",
      "88.3476184813872\n",
      "size= 88.3476184813872\n",
      "LabeledArrow [ArrowTriangleFilledTip, BackgroundRectangle, SurroundingRectangle, MathTex('Label')]\n",
      "88.3476184813872\n",
      "81.6523815186128\n",
      "size= 81.6523815186128\n",
      "LabeledArrow [ArrowTriangleFilledTip, BackgroundRectangle, SurroundingRectangle, MathTex('Label')]\n",
      "81.65238151861281\n",
      "75.63226312195442\n",
      "size= 75.63226312195442\n",
      "LabeledArrow [ArrowTriangleFilledTip, BackgroundRectangle, SurroundingRectangle, MathTex('Label')]\n",
      "75.63226312195442\n",
      "71.1696350536073\n",
      "size= 71.1696350536073\n",
      "LabeledArrow [ArrowTriangleFilledTip, BackgroundRectangle, SurroundingRectangle, MathTex('Label')]\n",
      "71.16963505360732\n",
      "68.31261472435028\n",
      "size= 68.31261472435028\n",
      "LabeledArrow [ArrowTriangleFilledTip, BackgroundRectangle, SurroundingRectangle, MathTex('Label')]\n",
      "68.3126147243503\n",
      "66.65142639143184\n",
      "size= 66.65142639143184\n",
      "LabeledArrow [ArrowTriangleFilledTip, BackgroundRectangle, SurroundingRectangle, MathTex('Label')]\n",
      "66.65142639143184\n",
      "65.73915716636131\n",
      "size= 65.73915716636131\n",
      "LabeledArrow [ArrowTriangleFilledTip, BackgroundRectangle, SurroundingRectangle, MathTex('Label')]\n",
      "65.7391571663613\n",
      "65.25383279436114\n"
     ]
    },
    {
     "name": "stderr",
     "output_type": "stream",
     "text": [
      "                                                                                            "
     ]
    },
    {
     "name": "stdout",
     "output_type": "stream",
     "text": [
      "size= 65.25383279436114\n",
      "LabeledArrow [ArrowTriangleFilledTip, BackgroundRectangle, SurroundingRectangle, MathTex('Label')]\n",
      "65.25383279436114\n",
      "65.0\n",
      "size= 65.0\n"
     ]
    },
    {
     "name": "stderr",
     "output_type": "stream",
     "text": [
      "Animation 5: _MethodAnimation(ValueTracker):  53%|█████▎    | 8/15 [00:00<00:00, 73.30it/s]"
     ]
    },
    {
     "name": "stdout",
     "output_type": "stream",
     "text": [
      "LabeledArrow [ArrowTriangleFilledTip, BackgroundRectangle, SurroundingRectangle, MathTex('Label')]\n",
      "65.00000000000001\n",
      "65.0\n",
      "size= 65.0\n",
      "LabeledArrow [ArrowTriangleFilledTip, BackgroundRectangle, SurroundingRectangle, MathTex('Label')]\n",
      "65.00000000000001\n",
      "65.38074919154172\n",
      "size= 65.38074919154172\n",
      "LabeledArrow [ArrowTriangleFilledTip, BackgroundRectangle, SurroundingRectangle, MathTex('Label')]\n",
      "65.38074919154174\n",
      "66.10873574954198\n",
      "size= 66.10873574954198\n",
      "LabeledArrow [ArrowTriangleFilledTip, BackgroundRectangle, SurroundingRectangle, MathTex('Label')]\n",
      "66.10873574954198\n",
      "67.47713958714776\n",
      "size= 67.47713958714776\n",
      "LabeledArrow [ArrowTriangleFilledTip, BackgroundRectangle, SurroundingRectangle, MathTex('Label')]\n",
      "67.47713958714776\n",
      "69.96892208652541\n",
      "size= 69.96892208652541\n",
      "LabeledArrow [ArrowTriangleFilledTip, BackgroundRectangle, SurroundingRectangle, MathTex('Label')]\n",
      "69.96892208652541\n",
      "74.25445258041093\n",
      "size= 74.25445258041093\n",
      "LabeledArrow [ArrowTriangleFilledTip, BackgroundRectangle, SurroundingRectangle, MathTex('Label')]\n",
      "74.25445258041096\n",
      "80.94839468293165\n",
      "size= 80.94839468293165\n",
      "LabeledArrow [ArrowTriangleFilledTip, BackgroundRectangle, SurroundingRectangle, MathTex('Label')]\n",
      "80.94839468293165\n",
      "89.9785722779192\n",
      "size= 89.9785722779192\n",
      "LabeledArrow [ArrowTriangleFilledTip, BackgroundRectangle, SurroundingRectangle, MathTex('Label')]\n",
      "89.9785722779192\n",
      "100.0214277220808\n",
      "size= 100.02142772208079\n",
      "LabeledArrow [ArrowTriangleFilledTip, BackgroundRectangle, SurroundingRectangle, MathTex('Label')]\n",
      "100.02142772208079\n",
      "109.05160531706834\n",
      "size= 109.05160531706834\n",
      "LabeledArrow [ArrowTriangleFilledTip, BackgroundRectangle, SurroundingRectangle, MathTex('Label')]\n",
      "109.05160531706834\n",
      "115.74554741958907\n"
     ]
    },
    {
     "name": "stderr",
     "output_type": "stream",
     "text": [
      "                                                                                           \r"
     ]
    },
    {
     "name": "stdout",
     "output_type": "stream",
     "text": [
      "size= 115.74554741958907\n",
      "LabeledArrow [ArrowTriangleFilledTip, BackgroundRectangle, SurroundingRectangle, MathTex('Label')]\n",
      "115.74554741958909\n",
      "120.03107791347459\n",
      "size= 120.03107791347459\n",
      "LabeledArrow [ArrowTriangleFilledTip, BackgroundRectangle, SurroundingRectangle, MathTex('Label')]\n",
      "120.03107791347459\n",
      "122.52286041285225\n",
      "size= 122.52286041285225\n",
      "LabeledArrow [ArrowTriangleFilledTip, BackgroundRectangle, SurroundingRectangle, MathTex('Label')]\n",
      "122.52286041285225\n",
      "123.89126425045802\n",
      "size= 123.89126425045801\n",
      "LabeledArrow [ArrowTriangleFilledTip, BackgroundRectangle, SurroundingRectangle, MathTex('Label')]\n",
      "123.89126425045801\n",
      "124.61925080845828\n",
      "size= 124.61925080845829\n",
      "LabeledArrow [ArrowTriangleFilledTip, BackgroundRectangle, SurroundingRectangle, MathTex('Label')]\n",
      "124.61925080845826\n",
      "125.0\n",
      "size= 125.00000000000001\n"
     ]
    },
    {
     "data": {
      "text/html": [
       "<video src=\"media/jupyter/ValueTrackerExample@2024-09-27@13-05-15.mp4\" controls autoplay loop style=\"max-width: 80%;\"  >\n",
       "      Your browser does not support the <code>video</code> element.\n",
       "    </video>"
      ],
      "text/plain": [
       "<IPython.core.display.Video object>"
      ]
     },
     "metadata": {},
     "output_type": "display_data"
    }
   ],
   "source": [
    "%%manim -ql -p ValueTrackerExample\n",
    "\n",
    "class ValueTrackerExample(Scene):\n",
    "    def construct(self):\n",
    "        number_line = NumberLine()\n",
    "        pointer = LabeledArrow(start = ORIGIN, end = [0, -1, 0], label = \"Label\", buff = 0)\n",
    "        label = MathTex(\"x\").add_updater(lambda m: m.next_to(pointer, UP))\n",
    "\n",
    "        tracker = ValueTracker(1)\n",
    "        def update(self):\n",
    "            # self.font_size = 20 * tracker.get_value()\n",
    "            \n",
    "            self.next_to(number_line.n2p(tracker.get_value()), UP)\n",
    "            self.stroke_width = 4 * tracker.get_value() + 10\n",
    "            change_font_size(self, 20 * tracker.get_value() + 5)\n",
    "        pointer.add_updater(\n",
    "            update\n",
    "        )\n",
    "        self.add(number_line, pointer, label)\n",
    "        tracker += 1.5\n",
    "        self.wait(1)\n",
    "        tracker -= 0\n",
    "        self.wait(0.5)\n",
    "        self.play(tracker.animate.set_value(5))\n",
    "        self.wait(0.5)\n",
    "        self.play(tracker.animate.set_value(3))\n",
    "        self.play(tracker.animate.set_value(tracker.get_value() * 2))\n",
    "        self.wait(0.5)"
   ]
  }
 ],
 "metadata": {
  "kernelspec": {
   "display_name": ".venv",
   "language": "python",
   "name": "python3"
  },
  "language_info": {
   "codemirror_mode": {
    "name": "ipython",
    "version": 3
   },
   "file_extension": ".py",
   "mimetype": "text/x-python",
   "name": "python",
   "nbconvert_exporter": "python",
   "pygments_lexer": "ipython3",
   "version": "3.10.12"
  }
 },
 "nbformat": 4,
 "nbformat_minor": 2
}
